{
 "cells": [
  {
   "cell_type": "markdown",
   "metadata": {
    "collapsed": true,
    "pycharm": {
     "name": "#%% md\n"
    }
   },
   "source": [
    "Element类\n",
    "class xml.etree.ElementTree.Element(tag, attrib={}, **extra)\n",
    "\n",
    "## 属性\n",
    "- tag：string，元素类型，element type。\n",
    "- text：string，元素的内容,元素起始tag于结尾tag之间的文本。\n",
    "- tail：string，元素的尾形。元素结尾tag与下一个起始tag之间的文本\n",
    "- attrib：dictionary，元素的属性字典。\n",
    "\n",
    "## 针对属性的操作\n",
    "- clear()：清空元素的后代、属性，并设置text和tail的属性为None。\n",
    "- get(key, default=None)：获取key对应的属性值，如该属性不存在则返回default值。\n",
    "- items()：根据属性字典返回一个列表，列表元素为(key, value）。\n",
    "- keys()：返回包含所有元素属性键的列表。\n",
    "- set(key, value)：设置新的属性键与值。\n",
    "\n",
    "## 针对后代的操作\n",
    "- append(subelement)：添加一个直系子元素。\n",
    "- extend(subelements)：通过列表对象追加0个或多个子元素。＃python2.7新特性\n",
    "- find(match,namespaces=None)：寻找第一个匹配子元素，匹配对象可以为tag或path。\n",
    "- findall(match,namespaces=None)：寻找所有匹配子元素，匹配对象可以为tag或path。\n",
    "- findtext(match)：寻找第一个匹配子元素，返回其text值。匹配对象可以为tag或path。\n",
    "- insert(index, element)：在指定位置插入子元素。\n",
    "- iter(tag=None)：以当前element为root，创建一个tree iterator。＃python2.7新特性\n",
    "- iterfind(match,namespaces=None)：根据tag或path查找所有的后代。\n",
    "- itertext()：遍历所有后代并返回text值。\n",
    "- remove(subelement)：删除子元素。"
   ]
  }
 ],
 "metadata": {
  "kernelspec": {
   "display_name": "Python 3",
   "language": "python",
   "name": "python3"
  },
  "language_info": {
   "codemirror_mode": {
    "name": "ipython",
    "version": 2
   },
   "file_extension": ".py",
   "mimetype": "text/x-python",
   "name": "python",
   "nbconvert_exporter": "python",
   "pygments_lexer": "ipython2",
   "version": "2.7.6"
  }
 },
 "nbformat": 4,
 "nbformat_minor": 0
}