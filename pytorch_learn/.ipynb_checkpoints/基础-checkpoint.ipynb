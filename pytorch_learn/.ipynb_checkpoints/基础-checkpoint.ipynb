{
 "cells": [
  {
   "cell_type": "code",
   "execution_count": 1,
   "id": "5bb01dea",
   "metadata": {},
   "outputs": [],
   "source": [
    "import torch\n",
    "from torch import autograd"
   ]
  },
  {
   "cell_type": "code",
   "execution_count": 2,
   "id": "3ec08e65",
   "metadata": {},
   "outputs": [],
   "source": [
    "x = torch.tensor(1.)\n",
    "\n",
    "# requires_grad 自动求导\n",
    "a = torch.tensor(1., requires_grad=True)\n",
    "b = torch.tensor(2., requires_grad=True)\n",
    "c = torch.tensor(3., requires_grad=True)\n",
    "\n",
    "y = a**2 * x + b * x + c"
   ]
  },
  {
   "cell_type": "code",
   "execution_count": 3,
   "id": "a8172139",
   "metadata": {},
   "outputs": [
    {
     "name": "stdout",
     "output_type": "stream",
     "text": [
      "before： None None None\n",
      "after: tensor(2.) tensor(1.) tensor(1.)\n"
     ]
    }
   ],
   "source": [
    "# 前\n",
    "print('before：', a.grad, b.grad, c.grad)\n",
    "\n",
    "# 求偏微分\n",
    "grads = autograd.grad(y, [a, b, c])\n",
    "\n",
    "print('after:', grads[0], grads[1], grads[2])"
   ]
  },
  {
   "cell_type": "code",
   "execution_count": null,
   "id": "f06829ea",
   "metadata": {},
   "outputs": [],
   "source": []
  }
 ],
 "metadata": {
  "kernelspec": {
   "display_name": "Python 3 (ipykernel)",
   "language": "python",
   "name": "python3"
  },
  "language_info": {
   "codemirror_mode": {
    "name": "ipython",
    "version": 3
   },
   "file_extension": ".py",
   "mimetype": "text/x-python",
   "name": "python",
   "nbconvert_exporter": "python",
   "pygments_lexer": "ipython3",
   "version": "3.9.5"
  }
 },
 "nbformat": 4,
 "nbformat_minor": 5
}
