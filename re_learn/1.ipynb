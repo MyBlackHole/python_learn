{
 "cells": [
  {
   "cell_type": "markdown",
   "source": [
    "- 尽可能少的匹配内容（尽可能多的排除其它内容）"
   ],
   "metadata": {
    "collapsed": false,
    "pycharm": {
     "name": "#%% md\n"
    }
   }
  },
  {
   "cell_type": "code",
   "execution_count": 22,
   "metadata": {
    "collapsed": true
   },
   "outputs": [
    {
     "name": "stdout",
     "output_type": "stream",
     "text": [
      "['jsdkf#广州']\n"
     ]
    }
   ],
   "source": [
    "# 错误例子\n",
    "import re\n",
    "\n",
    "txt = \"#jsdkf#广州[地点]#\"\n",
    "\n",
    "p = re.findall(r\"#(.+)\\[地点\\]#\", txt)\n",
    "print(p)"
   ]
  },
  {
   "cell_type": "code",
   "execution_count": 20,
   "outputs": [
    {
     "name": "stdout",
     "output_type": "stream",
     "text": [
      "['广州']\n"
     ]
    }
   ],
   "source": [
    "import re\n",
    "\n",
    "txt = \"#jsdkf#广州[地点]#\"\n",
    "\n",
    "p = re.findall(r\".*#(.+)\\[地点\\]#\", txt)\n",
    "print(p)"
   ],
   "metadata": {
    "collapsed": false,
    "pycharm": {
     "name": "#%%\n"
    }
   }
  },
  {
   "cell_type": "markdown",
   "source": [
    "- ? 是 向后的"
   ],
   "metadata": {
    "collapsed": false,
    "pycharm": {
     "name": "#%% md\n"
    }
   }
  },
  {
   "cell_type": "code",
   "execution_count": 24,
   "outputs": [
    {
     "name": "stdout",
     "output_type": "stream",
     "text": [
      "['jsdkf#广州[地点]#广州']\n"
     ]
    }
   ],
   "source": [
    "# 例子\n",
    "import re\n",
    "\n",
    "txt = \"#jsdkf#广州[地点]#广州[地点]#\"\n",
    "\n",
    "p = re.findall(r\"#(.+)\\[地点\\]#\", txt)\n",
    "print(p)"
   ],
   "metadata": {
    "collapsed": false,
    "pycharm": {
     "name": "#%%\n"
    }
   }
  },
  {
   "cell_type": "code",
   "execution_count": 25,
   "outputs": [
    {
     "name": "stdout",
     "output_type": "stream",
     "text": [
      "['jsdkf#广州']\n"
     ]
    }
   ],
   "source": [
    "import re\n",
    "\n",
    "txt = \"#jsdkf#广州[地点]#广州[地点]#\"\n",
    "\n",
    "p = re.findall(r\"#(.+?)\\[地点\\]#\", txt)\n",
    "print(p)"
   ],
   "metadata": {
    "collapsed": false,
    "pycharm": {
     "name": "#%%\n"
    }
   }
  }
 ],
 "metadata": {
  "kernelspec": {
   "display_name": "Python 3",
   "language": "python",
   "name": "python3"
  },
  "language_info": {
   "codemirror_mode": {
    "name": "ipython",
    "version": 2
   },
   "file_extension": ".py",
   "mimetype": "text/x-python",
   "name": "python",
   "nbconvert_exporter": "python",
   "pygments_lexer": "ipython2",
   "version": "2.7.6"
  }
 },
 "nbformat": 4,
 "nbformat_minor": 0
}