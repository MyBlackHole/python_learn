{
 "cells": [
  {
   "cell_type": "code",
   "execution_count": 1,
   "metadata": {},
   "outputs": [
    {
     "data": {
      "text/plain": [
       "-1"
      ]
     },
     "execution_count": 1,
     "metadata": {},
     "output_type": "execute_result"
    }
   ],
   "source": [
    "import cv2\n",
    "img = cv2.imread('181.jpg', 1)\n",
    "imgInfo = img.shape\n",
    "dst = img[100:200, 100:300]\n",
    "cv2.imshow('dst', dst)\n",
    "cv2.waitKey(1000)"
   ]
  },
  {
   "cell_type": "markdown",
   "metadata": {},
   "source": [
    "## 移位"
   ]
  },
  {
   "cell_type": "code",
   "execution_count": 11,
   "metadata": {},
   "outputs": [
    {
     "data": {
      "text/plain": [
       "-1"
      ]
     },
     "execution_count": 11,
     "metadata": {},
     "output_type": "execute_result"
    }
   ],
   "source": [
    "import cv2\n",
    "import numpy as np\n",
    "img = cv2.imread('181.jpg', 1)\n",
    "cv2.imshow('img', img)\n",
    "imgInfo = img.shape\n",
    "height = imgInfo[0]\n",
    "width = imgInfo[1]\n",
    "\n",
    "# matshift = np.array([[1, 0, 100], [0, 1, 200]], np.float)\n",
    "matshift = np.float32([[1, 0, 100], [0, 1, 200]])\n",
    "dst = cv2.warpAffine(img, matshift, (height, width))\n",
    "cv2.imshow('dst', dst)\n",
    "cv2.waitKey(1000)"
   ]
  },
  {
   "cell_type": "code",
   "execution_count": 12,
   "metadata": {},
   "outputs": [],
   "source": [
    "# [1,0,100],[0,1,200] 2*2 2*1 \n",
    "# [[1,0],[0,1]]  2*2  A\n",
    "# [[100],[200]] 2*1   B\n",
    "# xy C\n",
    "# A*C+B = [[1*x+0*y],[0*x+1*y]]+[[100],[200]]\n",
    "# = [[x+100],[y+200]]\n",
    "\n",
    "#(10,20)->(110,120)"
   ]
  },
  {
   "cell_type": "code",
   "execution_count": 1,
   "metadata": {},
   "outputs": [
    {
     "data": {
      "text/plain": [
       "-1"
      ]
     },
     "execution_count": 1,
     "metadata": {},
     "output_type": "execute_result"
    }
   ],
   "source": [
    "import cv2\n",
    "import numpy as np\n",
    "img = cv2.imread('181.jpg', 1)\n",
    "cv2.imshow('img', img)\n",
    "imgInfo = img.shape\n",
    "height = imgInfo[0]\n",
    "width = imgInfo[1]\n",
    "\n",
    "dst = np.zeros(img.shape, np.uint8)\n",
    "for i in range(0, height):\n",
    "    for j in range(0, width - 100):\n",
    "        dst[i, j + 100] = img[i, j]\n",
    "cv2.imshow('dst', dst)\n",
    "cv2.waitKey(1000)\n",
    "\n"
   ]
  },
  {
   "cell_type": "markdown",
   "metadata": {},
   "source": [
    "## 镜像"
   ]
  },
  {
   "cell_type": "code",
   "execution_count": 2,
   "metadata": {},
   "outputs": [
    {
     "data": {
      "text/plain": [
       "-1"
      ]
     },
     "execution_count": 2,
     "metadata": {},
     "output_type": "execute_result"
    }
   ],
   "source": [
    "import cv2\n",
    "import numpy as np\n",
    "img = cv2.imread('181.jpg', 1)\n",
    "cv2.imshow('img', img)\n",
    "imgInfo = img.shape\n",
    "height = imgInfo[0]\n",
    "width = imgInfo[1]\n",
    "deep = imgInfo[2]\n",
    "\n",
    "newImgInfo = (height * 2, width, deep)\n",
    "dst = np.zeros(newImgInfo, np.uint8)\n",
    "for i in range(0, height):\n",
    "    for j in range(0, width):\n",
    "        dst[i, j] = img[i, j]\n",
    "        dst[height * 2 - i - 1, j] = img[i, j]\n",
    "for i in range(0, width):\n",
    "    dst[height, i] = (0, 0, 255)\n",
    "cv2.imshow('dst', dst)\n",
    "cv2.waitKey(1000)"
   ]
  },
  {
   "cell_type": "markdown",
   "metadata": {},
   "source": [
    "## 缩放"
   ]
  },
  {
   "cell_type": "code",
   "execution_count": 1,
   "metadata": {},
   "outputs": [
    {
     "data": {
      "text/plain": [
       "-1"
      ]
     },
     "execution_count": 1,
     "metadata": {},
     "output_type": "execute_result"
    }
   ],
   "source": [
    "import cv2\n",
    "import numpy as np\n",
    "img = cv2.imread('181.jpg', 1)\n",
    "cv2.imshow('img', img)\n",
    "imgInfo = img.shape\n",
    "height = imgInfo[0]\n",
    "width = imgInfo[1]\n",
    "\n",
    "matScale = np.float32([[0.5, 0, 0], [0, 0.5, 0]])\n",
    "dst = cv2.warpAffine(img, matScale, (int(width / 2), int(height / 2)))\n",
    "cv2.imshow('dst', dst)\n",
    "cv2.waitKey(1000)"
   ]
  },
  {
   "cell_type": "markdown",
   "metadata": {},
   "source": [
    "## 仿射变换"
   ]
  },
  {
   "cell_type": "code",
   "execution_count": 2,
   "metadata": {},
   "outputs": [
    {
     "data": {
      "text/plain": [
       "-1"
      ]
     },
     "execution_count": 2,
     "metadata": {},
     "output_type": "execute_result"
    }
   ],
   "source": [
    "import cv2\n",
    "import numpy as np\n",
    "img = cv2.imread('181.jpg', 1)\n",
    "cv2.imshow('img', img)\n",
    "imgInfo = img.shape\n",
    "height = imgInfo[0]\n",
    "width = imgInfo[1]\n",
    "\n",
    "matSrc = np.float32([[0, 0], [0, height - 1], [width - 1, 0]])\n",
    "matDst = np.float32([[50, 50], [300, height - 200], [width - 300, 100]])\n",
    "matAffine = cv2.getAffineTransform(matSrc, matDst) # 1 src, 2 dst\n",
    "dst = cv2.warpAffine(img, matAffine, (width, height))\n",
    "\n",
    "cv2.imshow('dst', dst)\n",
    "cv2.waitKey(1000)"
   ]
  },
  {
   "cell_type": "markdown",
   "metadata": {},
   "source": [
    "## 旋转"
   ]
  },
  {
   "cell_type": "code",
   "execution_count": 1,
   "metadata": {},
   "outputs": [
    {
     "data": {
      "text/plain": [
       "-1"
      ]
     },
     "execution_count": 1,
     "metadata": {},
     "output_type": "execute_result"
    }
   ],
   "source": [
    "import cv2\n",
    "import numpy as np\n",
    "img = cv2.imread('181.jpg', 1)\n",
    "cv2.imshow('img', img)\n",
    "imgInfo = img.shape\n",
    "height = imgInfo[0]\n",
    "width = imgInfo[1]\n",
    "\n",
    "matRotate = cv2.getRotationMatrix2D((height * 0.5, width * 0.5), 45, 0.5) # 1 中心, 2 角度， 3 缩放系数\n",
    "dst = cv2.warpAffine(img, matRotate, (width, height))\n",
    "\n",
    "cv2.imshow('dst', dst)\n",
    "cv2.waitKey(1000)"
   ]
  },
  {
   "cell_type": "code",
   "execution_count": null,
   "metadata": {},
   "outputs": [],
   "source": []
  }
 ],
 "metadata": {
  "kernelspec": {
   "display_name": "Python 3",
   "language": "python",
   "name": "python3"
  },
  "language_info": {
   "codemirror_mode": {
    "name": "ipython",
    "version": 3
   },
   "file_extension": ".py",
   "mimetype": "text/x-python",
   "name": "python",
   "nbconvert_exporter": "python",
   "pygments_lexer": "ipython3",
   "version": "3.7.5"
  }
 },
 "nbformat": 4,
 "nbformat_minor": 2
}
