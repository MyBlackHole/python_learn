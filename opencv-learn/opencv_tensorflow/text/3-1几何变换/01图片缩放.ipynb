{
 "cells": [
  {
   "cell_type": "markdown",
   "source": [
    "### 缩放"
   ],
   "metadata": {
    "collapsed": false,
    "pycharm": {
     "name": "#%% md\n"
    }
   }
  },
  {
   "cell_type": "code",
   "execution_count": 2,
   "metadata": {},
   "outputs": [
    {
     "name": "stdout",
     "output_type": "stream",
     "text": [
      "(683, 683, 3)\n"
     ]
    },
    {
     "data": {
      "text/plain": [
       "-1"
      ]
     },
     "execution_count": 2,
     "metadata": {},
     "output_type": "execute_result"
    }
   ],
   "source": [
    "import cv2\n",
    "img = cv2.imread('181.jpg', 1)\n",
    "imgInfo = img.shape\n",
    "print(imgInfo)\n",
    "height = imgInfo[0]\n",
    "width = imgInfo[1]\n",
    "mode = imgInfo[2]\n",
    "\n",
    "# 1 放大， 2 缩小， 3 等比， \n",
    "dstHeight = int(height * 0.5)\n",
    "dstwidth = int(width * 0.5)\n",
    "\n",
    "# 最近领域插值 双线性插值 像素关系重采样 立方插值\n",
    "dst = cv2.resize(img, (dstwidth, dstHeight))\n",
    "cv2.imshow('image', dst)\n",
    "cv2.waitKey(1000)"
   ]
  },
  {
   "cell_type": "markdown",
   "metadata": {},
   "source": [
    "### 最近临域插值\n",
    "- src 10*20 dst 5*10\n",
    "- dst<-src\n",
    "- (1,2) <- (2,4)\n",
    "- dst x 1 -> src x 2\n",
    "- src_X = dst_x*(src 行/dst 行) src_X = 1*（10/5） = 2\n",
    "- src_Y = dst_y*(src 列/dst 列) src_Y = 2*（20/10）= 4\n",
    "- 12.3 = 12\n",
    "\n",
    "### 双线性插值\n",
    "- A1 = 20% 上+80%下 A2\n",
    "- B1 = 30% 左+70%右 B2\n",
    "- 1 最终点  = A1 30% + A2 70%\n",
    "- 2 最终点  = B1 20% + B2 80%"
   ]
  },
  {
   "cell_type": "code",
   "execution_count": 2,
   "metadata": {},
   "outputs": [
    {
     "name": "stdout",
     "output_type": "stream",
     "text": [
      "(683, 683, 3)\n"
     ]
    },
    {
     "data": {
      "text/plain": [
       "-1"
      ]
     },
     "execution_count": 2,
     "metadata": {},
     "output_type": "execute_result"
    }
   ],
   "source": [
    "import cv2\n",
    "import numpy as np\n",
    "img = cv2.imread('181.jpg', 1)\n",
    "imgInfo = img.shape\n",
    "print(imgInfo)\n",
    "height = imgInfo[0]\n",
    "width = imgInfo[1]\n",
    "\n",
    "dstHeight = int(height * 0.8)\n",
    "dstwidth = int(width * 0.8)\n",
    "dstImage = np.zeros((dstHeight, dstwidth, 3), np.uint8)\n",
    "for i in range(0, dstHeight):\n",
    "    for j in range(0, dstwidth):\n",
    "        iNew = int(i * (height * 1.0/ dstHeight))\n",
    "        jNew = int(j * (width * 1.0/ dstwidth))\n",
    "        dstImage[i, j] = img[iNew, jNew]\n",
    "cv2.imshow('dst', dstImage)\n",
    "cv2.waitKey(1000)"
   ]
  },
  {
   "cell_type": "code",
   "execution_count": null,
   "metadata": {},
   "outputs": [],
   "source": []
  }
 ],
 "metadata": {
  "kernelspec": {
   "name": "pycharm-c3e6835b",
   "language": "python",
   "display_name": "PyCharm (hadoop)"
  },
  "language_info": {
   "codemirror_mode": {
    "name": "ipython",
    "version": 3
   },
   "file_extension": ".py",
   "mimetype": "text/x-python",
   "name": "python",
   "nbconvert_exporter": "python",
   "pygments_lexer": "ipython3",
   "version": "3.7.5"
  },
  "pycharm": {
   "stem_cell": {
    "cell_type": "raw",
    "source": [],
    "metadata": {
     "collapsed": false
    }
   }
  }
 },
 "nbformat": 4,
 "nbformat_minor": 2
}