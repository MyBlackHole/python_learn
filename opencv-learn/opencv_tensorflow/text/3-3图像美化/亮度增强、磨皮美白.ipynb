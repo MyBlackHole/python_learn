{
 "cells": [
  {
   "cell_type": "markdown",
   "metadata": {
    "pycharm": {
     "name": "#%% md\n"
    }
   },
   "source": [
    "### 亮度增强"
   ]
  },
  {
   "cell_type": "code",
   "execution_count": 3,
   "metadata": {
    "pycharm": {
     "is_executing": false,
     "name": "#%%\n"
    }
   },
   "outputs": [
    {
     "data": {
      "text/plain": [
       "-1"
      ]
     },
     "execution_count": 3,
     "metadata": {},
     "output_type": "execute_result"
    }
   ],
   "source": [
    "import cv2\n",
    "import numpy as np\n",
    "\n",
    "# p = p+40\n",
    "img = cv2.imread('image.jpg', 1)\n",
    "imgInfo = img.shape\n",
    "height = imgInfo[0]\n",
    "width = imgInfo[1]\n",
    "cv2.imshow('img', img)\n",
    "dst = np.zeros((height, width, 3), np.uint8)\n",
    "for i in range(0, height):\n",
    "    for j in range(0, width):\n",
    "        (b, g, r) = img[i, j]\n",
    "        bb = int(b) + 40\n",
    "        gg = int(g) + 40\n",
    "        rr = int(r) + 40\n",
    "        if bb > 255:\n",
    "            bb = 255\n",
    "        if gg > 255:\n",
    "            gg = 255\n",
    "        if rr > 255:\n",
    "            rr = 255\n",
    "        dst[i, j] = (bb, gg, rr)\n",
    "cv2.imshow('dst', dst)\n",
    "cv2.waitKey(1000)"
   ]
  },
  {
   "cell_type": "code",
   "execution_count": 2,
   "metadata": {
    "pycharm": {
     "is_executing": false,
     "name": "#%%\n"
    }
   },
   "outputs": [
    {
     "data": {
      "text/plain": [
       "-1"
      ]
     },
     "execution_count": 2,
     "metadata": {},
     "output_type": "execute_result"
    }
   ],
   "source": [
    "import cv2\n",
    "import numpy as np\n",
    "# p = p * 1.2 + 40\n",
    "img = cv2.imread('image.jpg', 1)\n",
    "imgInfo = img.shape\n",
    "height = imgInfo[0]\n",
    "width = imgInfo[1]\n",
    "cv2.imshow('img', img)\n",
    "dst = np.zeros((height, width, 3), np.uint8)\n",
    "for i in range(0, height):\n",
    "    for j in range(0, width):\n",
    "        (b, g, r) = img[i, j]\n",
    "        bb = int(b) * 1.2 + 40\n",
    "        gg = int(g) * 1.2 + 40\n",
    "        if bb > 255:\n",
    "            bb = 255\n",
    "        if gg > 255:\n",
    "            gg = 255\n",
    "        dst[i, j] = (bb, gg, r)\n",
    "cv2.imshow('dst', dst)\n",
    "cv2.waitKey(1000)"
   ]
  },
  {
   "cell_type": "markdown",
   "metadata": {
    "pycharm": {
     "name": "#%% md\n"
    }
   },
   "source": [
    "### 磨皮美白\n",
    "- 双边滤波"
   ]
  },
  {
   "cell_type": "code",
   "execution_count": 1,
   "metadata": {
    "pycharm": {
     "is_executing": false,
     "name": "#%%\n"
    }
   },
   "outputs": [
    {
     "data": {
      "text/plain": [
       "-1"
      ]
     },
     "execution_count": 1,
     "metadata": {},
     "output_type": "execute_result"
    }
   ],
   "source": [
    "import cv2\n",
    "import numpy as np\n",
    "img = cv2.imread('3.jpg', 1)\n",
    "# imgInfo = img.shape\n",
    "# height = imgInfo[0]\n",
    "# width = imgInfo[1]\n",
    "cv2.imshow('img', img)\n",
    "# 双边\n",
    "dst = cv2.bilateralFilter(img, 15, 35, 35)\n",
    "\n",
    "cv2.imshow('dst', dst)\n",
    "cv2.waitKey(1000)"
   ]
  },
  {
   "cell_type": "markdown",
   "metadata": {
    "pycharm": {
     "name": "#%% md\n"
    }
   },
   "source": [
    "### 高斯滤波"
   ]
  },
  {
   "cell_type": "code",
   "execution_count": 1,
   "metadata": {
    "pycharm": {
     "is_executing": false,
     "name": "#%%\n"
    }
   },
   "outputs": [
    {
     "data": {
      "text/plain": [
       "233"
      ]
     },
     "execution_count": 1,
     "metadata": {},
     "output_type": "execute_result"
    }
   ],
   "source": [
    "import cv2\n",
    "import numpy as np\n",
    "\n",
    "img = cv2.imread('3.jpg', 1)\n",
    "cv2.imshow('img', img)\n",
    "# 高斯\n",
    "dst = cv2.GaussianBlur(img, (5, 5), 1.5)\n",
    "cv2.imshow('dst', dst)\n",
    "cv2.waitKey(1000)"
   ]
  },
  {
   "cell_type": "markdown",
   "metadata": {
    "pycharm": {
     "name": "#%% md\n"
    }
   },
   "source": [
    "### 均值滤波"
   ]
  },
  {
   "cell_type": "code",
   "execution_count": 1,
   "metadata": {
    "pycharm": {
     "is_executing": false,
     "name": "#%%\n"
    }
   },
   "outputs": [
    {
     "data": {
      "text/plain": [
       "-1"
      ]
     },
     "execution_count": 1,
     "metadata": {},
     "output_type": "execute_result"
    }
   ],
   "source": [
    "#均值 6*6 1 。 * 【6*6】/36 = mean -》P\n",
    "import cv2\n",
    "import numpy as np\n",
    "img = cv2.imread('3.jpg', 1)\n",
    "cv2.imshow('img', img)\n",
    "imgInfo = img.shape\n",
    "height = imgInfo[0]\n",
    "width = imgInfo[1]\n",
    "dst = np.zeros((height, width, 3), np.uint8)\n",
    "for i in range(0, height - 3):\n",
    "    for j in range(0, width - 3):\n",
    "        sum_b = int(0)\n",
    "        sum_g = int(0)\n",
    "        sum_r = int(0)\n",
    "        for m in range(-3, 3):\n",
    "            for n in range(-3, 3):\n",
    "                (b, g, r) = img[i + m, j + n]\n",
    "                sum_b = sum_b + int(b)\n",
    "                sum_g = sum_g + int(g)\n",
    "                sum_r = sum_r + int(r)\n",
    "        b = np.uint8(sum_b/36)\n",
    "        g = np.uint8(sum_g/36)\n",
    "        r = np.uint8(sum_r/36)\n",
    "        dst[i, j] = (b, g, r)\n",
    "cv2.imshow('dst', dst)\n",
    "cv2.waitKey(1000)"
   ]
  },
  {
   "cell_type": "markdown",
   "metadata": {
    "pycharm": {
     "name": "#%% md\n"
    }
   },
   "source": [
    "### 中值滤波"
   ]
  },
  {
   "cell_type": "code",
   "execution_count": 1,
   "metadata": {
    "pycharm": {
     "is_executing": false,
     "name": "#%%\n"
    }
   },
   "outputs": [
    {
     "data": {
      "text/plain": [
       "-1"
      ]
     },
     "execution_count": 1,
     "metadata": {},
     "output_type": "execute_result"
    }
   ],
   "source": [
    "import cv2\n",
    "import numpy as np\n",
    "img = cv2.imread('3.jpg', 1)\n",
    "imgInfo = img.shape\n",
    "height = imgInfo[0]\n",
    "width = imgInfo[1]\n",
    "img = cv2.cvtColor(img, cv2.COLOR_BGR2GRAY)\n",
    "cv2.imshow('img', img)\n",
    "dst = np.zeros((height, width, 3), np.uint8)\n",
    "collect = np.zeros(9, np.uint8)\n",
    "for i in range(0, height - 1):\n",
    "    for j in range(0, width - 1):\n",
    "        k = 0\n",
    "        for m in range(-1, 2):\n",
    "            for n in range(-1, 2):\n",
    "                gray = img[i + m, j + n]\n",
    "                collect[k] = gray\n",
    "                k = k + 1\n",
    "        for k in range(0, 9):\n",
    "            p1 = collect[k]\n",
    "            for t in range(k + 1, 9):\n",
    "                if p1 < collect[t]:\n",
    "                    mid = collect[t]\n",
    "                    collect[t] = p1\n",
    "                    p1 = mid\n",
    "            collect[k] = p1\n",
    "        dst[i,j] = collect[4]\n",
    "cv2.imshow('dst',dst)\n",
    "cv2.waitKey(1000)"
   ]
  },
  {
   "cell_type": "code",
   "execution_count": null,
   "metadata": {
    "pycharm": {
     "name": "#%%\n"
    }
   },
   "outputs": [],
   "source": [
    "\n"
   ]
  }
 ],
 "metadata": {
  "kernelspec": {
   "display_name": "PyCharm (hadoop)",
   "language": "python",
   "name": "pycharm-c3e6835b"
  },
  "language_info": {
   "codemirror_mode": {
    "name": "ipython",
    "version": 3
   },
   "file_extension": ".py",
   "mimetype": "text/x-python",
   "name": "python",
   "nbconvert_exporter": "python",
   "pygments_lexer": "ipython3",
   "version": "3.7.5"
  },
  "pycharm": {
   "stem_cell": {
    "cell_type": "raw",
    "metadata": {
     "collapsed": false
    },
    "source": []
   }
  }
 },
 "nbformat": 4,
 "nbformat_minor": 1
}
