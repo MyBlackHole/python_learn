{
 "cells": [
  {
   "cell_type": "markdown",
   "metadata": {},
   "source": [
    "### 直方图"
   ]
  },
  {
   "cell_type": "code",
   "execution_count": 9,
   "metadata": {
    "scrolled": true
   },
   "outputs": [
    {
     "name": "stdout",
     "output_type": "stream",
     "text": [
      "(547, 730)\n"
     ]
    },
    {
     "data": {
      "text/plain": [
       "-1"
      ]
     },
     "execution_count": 9,
     "metadata": {},
     "output_type": "execute_result"
    }
   ],
   "source": [
    "import cv2\n",
    "import numpy as np\n",
    "def ImageHist(image,type):\n",
    "    color = (255,255,255)\n",
    "    windowName = 'Gray'\n",
    "    if type == 31:\n",
    "        color = (255,0,0)\n",
    "        windowName = 'B Hist'\n",
    "    elif type == 32:\n",
    "        color = (0,255,0)\n",
    "        windowName = 'G Hist'\n",
    "    elif type == 33:\n",
    "        color = (0,0,255)\n",
    "        windowName = 'R Hist'\n",
    "    # 1 image, 2 [0], 3 mask None, 4 256, 5 0-255 (统计数量)\n",
    "    hist = cv2.calcHist([image],[0],None,[256],[0.0,255.0])\n",
    "#     print(hist)\n",
    "    # 获取最大值、最小值及其下标\n",
    "    minV,maxV,minL,maxL = cv2.minMaxLoc(hist)\n",
    "#     print(minV, maxV, minL, maxL)\n",
    "    histImg = np.zeros([256,256,3],np.uint8)\n",
    "    for h in range(256):\n",
    "        intenNormal = int(hist[h]*256/maxV)\n",
    "        # 线段绘制\n",
    "        cv2.line(histImg,(h,256),(h,256-intenNormal),color)\n",
    "    cv2.imshow(windowName,histImg)\n",
    "    return histImg\n",
    "img = cv2.imread('image.jpg',1)\n",
    "# RGB -> R G B\n",
    "channels = cv2.split(img)\n",
    "# print(channels[0].shape)\n",
    "for i in range(0,3):\n",
    "    ImageHist(channels[i],31+i)\n",
    "cv2.waitKey(1000)"
   ]
  },
  {
   "cell_type": "code",
   "execution_count": 10,
   "metadata": {},
   "outputs": [
    {
     "data": {
      "text/plain": [
       "-1"
      ]
     },
     "execution_count": 10,
     "metadata": {},
     "output_type": "execute_result"
    }
   ],
   "source": [
    "import cv2\n",
    "import numpy as np\n",
    "img = cv2.imread('181.jpg', 1)\n",
    "# 转灰度\n",
    "gray = cv2.cvtColor(img, cv2.COLOR_BGR2GRAY)\n",
    "cv2.imshow('img', gray)\n",
    "# 均衡化\n",
    "dst = cv2.equalizeHist(gray)\n",
    "cv2.imshow('dst', dst)\n",
    "cv2.waitKey(1000)"
   ]
  },
  {
   "cell_type": "markdown",
   "metadata": {},
   "source": [
    "### 彩色图像均衡化"
   ]
  },
  {
   "cell_type": "code",
   "execution_count": 3,
   "metadata": {},
   "outputs": [
    {
     "data": {
      "text/plain": [
       "-1"
      ]
     },
     "execution_count": 3,
     "metadata": {},
     "output_type": "execute_result"
    }
   ],
   "source": [
    "import cv2\n",
    "import numpy as np\n",
    "img = cv2.imread('image.jpg', 1)\n",
    "cv2.imshow('img', img)\n",
    "# 通道分解\n",
    "(b, g, r) = cv2.split(img)\n",
    "bH = cv2.equalizeHist(b)\n",
    "gH = cv2.equalizeHist(g)\n",
    "rH = cv2.equalizeHist(r)\n",
    "# 通道合成\n",
    "dst = cv2.merge((bH, gH, rH))\n",
    "cv2.imshow('dst', dst)\n",
    "cv2.waitKey(1000)"
   ]
  },
  {
   "cell_type": "markdown",
   "metadata": {},
   "source": [
    "### YUV 直方图像均衡化"
   ]
  },
  {
   "cell_type": "code",
   "execution_count": 2,
   "metadata": {},
   "outputs": [
    {
     "data": {
      "text/plain": [
       "-1"
      ]
     },
     "execution_count": 2,
     "metadata": {},
     "output_type": "execute_result"
    }
   ],
   "source": [
    "import cv2\n",
    "import numpy as np\n",
    "img = cv2.imread('image.jpg', 1)\n",
    "imgYUV = cv2.cvtColor(img, cv2.COLOR_BGR2YCrCb)\n",
    "cv2.imshow('img', img)\n",
    "# 通道分解\n",
    "(b, g, r) = cv2.split(imgYUV)\n",
    "b = cv2.equalizeHist(b)\n",
    "# 通道合成\n",
    "dst = cv2.merge((b, g, r))\n",
    "dst = cv2.cvtColor(dst, cv2.COLOR_YCrCb2BGR)\n",
    "cv2.imshow('dst', dst)\n",
    "cv2.waitKey(1000)"
   ]
  },
  {
   "cell_type": "markdown",
   "metadata": {
    "pycharm": {
     "name": "#%% md\n"
    }
   },
   "source": [
    "### 灰度直方图源码"
   ]
  },
  {
   "cell_type": "code",
   "execution_count": 7,
   "outputs": [
    {
     "data": {
      "text/plain": "<Figure size 432x288 with 1 Axes>",
      "image/png": "[encoded data removed]"
     },
     "metadata": {
      "needs_background": "light"
     },
     "output_type": "display_data"
    },
    {
     "data": {
      "text/plain": "-1"
     },
     "metadata": {},
     "output_type": "execute_result",
     "execution_count": 7
    }
   ],
   "source": [
    "# 1 0-255 2 概率 \n",
    "# 本质：统计每个像素灰度 出现的概率 0-255 p\n",
    "import cv2\n",
    "import numpy as np\n",
    "import matplotlib.pyplot as plt\n",
    "img = cv2.imread('image.jpg',1)\n",
    "imgInfo = img.shape\n",
    "height = imgInfo[0]\n",
    "width = imgInfo[1]\n",
    "gray = cv2.cvtColor(img,cv2.COLOR_BGR2GRAY)\n",
    "count = np.zeros(256,np.float)\n",
    "for i in range(0,height):\n",
    "    for j in range(0,width):\n",
    "        pixel = gray[i,j]\n",
    "        index = int(pixel)\n",
    "        count[index] = count[index]+1\n",
    "# for i in range(0,255):\n",
    "#     count[i] = count[i]/(height*width)\n",
    "x = np.linspace(0,255,256)\n",
    "y = count\n",
    "plt.bar(x,y,0.9,alpha=1,color='b')\n",
    "plt.show()\n",
    "cv2.waitKey(1000)"
   ],
   "metadata": {
    "collapsed": false,
    "pycharm": {
     "name": "#%%\n",
     "is_executing": false
    }
   }
  },
  {
   "cell_type": "markdown",
   "source": [
    "### 彩色直方图源码(概率图)"
   ],
   "metadata": {
    "collapsed": false,
    "pycharm": {
     "name": "#%% md\n"
    }
   }
  },
  {
   "cell_type": "code",
   "execution_count": 6,
   "outputs": [
    {
     "data": {
      "text/plain": "<Figure size 432x288 with 1 Axes>",
      "image/png": "[encoded data removed]"
     },
     "metadata": {
      "needs_background": "light"
     },
     "output_type": "display_data"
    },
    {
     "data": {
      "text/plain": "<Figure size 432x288 with 1 Axes>",
      "image/png": "[encoded data removed]"
     },
     "metadata": {
      "needs_background": "light"
     },
     "output_type": "display_data"
    },
    {
     "data": {
      "text/plain": "<Figure size 432x288 with 1 Axes>",
      "image/png": "[encoded data removed]"
     },
     "metadata": {
      "needs_background": "light"
     },
     "output_type": "display_data"
    },
    {
     "data": {
      "text/plain": "-1"
     },
     "metadata": {},
     "output_type": "execute_result",
     "execution_count": 6
    }
   ],
   "source": [
    "# 本质：统计每个像素灰度 出现的概率 0-255 p\n",
    "import cv2\n",
    "import numpy as np\n",
    "import matplotlib.pyplot as plt\n",
    "img = cv2.imread('image.jpg',1)\n",
    "imgInfo = img.shape\n",
    "height = imgInfo[0]\n",
    "width = imgInfo[1]\n",
    "\n",
    "count_b = np.zeros(256,np.float)\n",
    "count_g = np.zeros(256,np.float)\n",
    "count_r = np.zeros(256,np.float)\n",
    "for i in range(0,height):\n",
    "    for j in range(0,width):\n",
    "        (b,g,r) = img[i,j]\n",
    "        index_b = int(b)\n",
    "        index_g = int(g)\n",
    "        index_r = int(r)\n",
    "        count_b[index_b] = count_b[index_b]+1\n",
    "        count_g[index_g] = count_g[index_g]+1\n",
    "        count_r[index_r] = count_r[index_r]+1\n",
    "for i in range(0,256):\n",
    "    count_b[i] = count_b[i]/(height*width)\n",
    "    count_g[i] = count_g[i]/(height*width)\n",
    "    count_r[i] = count_r[i]/(height*width)\n",
    "# linspace 1 开始, 2 结束, 3 多少份\n",
    "x = np.linspace(0,255,256)\n",
    "y1 = count_b\n",
    "plt.figure()\n",
    "plt.bar(x,y1,0.9,alpha=1,color='b')\n",
    "y2 = count_g\n",
    "plt.figure()\n",
    "plt.bar(x,y2,0.9,alpha=1,color='g')\n",
    "y3 = count_r\n",
    "plt.figure()\n",
    "plt.bar(x,y3,0.9,alpha=1,color='r')\n",
    "plt.show()\n",
    "cv2.waitKey(1000)\n",
    "\n"
   ],
   "metadata": {
    "collapsed": false,
    "pycharm": {
     "name": "#%%\n",
     "is_executing": false
    }
   }
  },
  {
   "cell_type": "markdown",
   "source": [
    "### 灰度直方图均衡化"
   ],
   "metadata": {
    "collapsed": false,
    "pycharm": {
     "name": "#%% md\n"
    }
   }
  },
  {
   "cell_type": "code",
   "execution_count": 8,
   "outputs": [
    {
     "data": {
      "text/plain": "-1"
     },
     "metadata": {},
     "output_type": "execute_result",
     "execution_count": 8
    }
   ],
   "source": [
    "# 本质：统计每个像素灰度 出现的概率 0-255 p\n",
    "# 累计概率 \n",
    "# 1 0.2  0.2\n",
    "# 2 0.3  0.5\n",
    "# 3 0.1  0.6\n",
    "# 256 \n",
    "# 100 0.5 255*0.5 = new \n",
    "import cv2\n",
    "import numpy as np\n",
    "import matplotlib.pyplot as plt\n",
    "img = cv2.imread('image.jpg', 1)\n",
    "imgInfo = img.shape\n",
    "height = imgInfo[0]\n",
    "width = imgInfo[1]\n",
    "gray = cv2.cvtColor(img, cv2.COLOR_BGR2GRAY)\n",
    "cv2.imshow('img',gray)\n",
    "count = np.zeros(256, np.float)\n",
    "for i in range(0, height):\n",
    "    for j in range(0, width):\n",
    "        pixel = gray[i, j]\n",
    "        index = int(pixel)\n",
    "        count[index] = count[index] + 1\n",
    "for i in range(256):\n",
    "    count[i] = count[i] / (height * width)\n",
    "\n",
    "#计算累计概率\n",
    "sum1 = float(0)\n",
    "for i in range(0,256):\n",
    "    sum1 = sum1+count[i]\n",
    "    count[i] = sum1\n",
    "    \n",
    "# 计算映射表\n",
    "map1 = np.zeros(256,np.uint16)\n",
    "for i in range(0,256):\n",
    "    map1[i] = np.uint16(count[i]*255)\n",
    "    \n",
    "# 映射\n",
    "for i in range(0,height):\n",
    "    for j in range(0,width):\n",
    "        pixel = gray[i,j]\n",
    "        gray[i,j] = map1[pixel]\n",
    "cv2.imshow('dst',gray)\n",
    "cv2.waitKey(1000)"
   ],
   "metadata": {
    "collapsed": false,
    "pycharm": {
     "name": "#%%\n",
     "is_executing": false
    }
   }
  },
  {
   "cell_type": "markdown",
   "source": [
    "### 彩色直方图均衡化"
   ],
   "metadata": {
    "collapsed": false,
    "pycharm": {
     "name": "#%% md\n"
    }
   }
  },
  {
   "cell_type": "code",
   "execution_count": 1,
   "outputs": [
    {
     "data": {
      "text/plain": "233"
     },
     "metadata": {},
     "output_type": "execute_result",
     "execution_count": 1
    }
   ],
   "source": [
    "# 本质：统计每个像素灰度 出现的概率 0-255 p\n",
    "# 累计概率 \n",
    "# 1 0.2  0.2\n",
    "# 2 0.3  0.5\n",
    "# 3 0.1  0.6\n",
    "# 256 \n",
    "# 100 0.5 255*0.5 = new \n",
    "# 1 统计每个颜色出现的概率 2 累计概率 1 3 0-255 255*p\n",
    "# 4 pixel \n",
    "import cv2\n",
    "import numpy as np\n",
    "import matplotlib.pyplot as plt\n",
    "img = cv2.imread('image.jpg',1)\n",
    "cv2.imshow('src',img)\n",
    "\n",
    "imgInfo = img.shape\n",
    "height = imgInfo[0]\n",
    "width = imgInfo[1]\n",
    "\n",
    "count_b = np.zeros(256,np.float)\n",
    "count_g = np.zeros(256,np.float)\n",
    "count_r = np.zeros(256,np.float)\n",
    "for i in range(0,height):\n",
    "    for j in range(0,width):\n",
    "        (b,g,r) = img[i,j]\n",
    "        index_b = int(b)\n",
    "        index_g = int(g)\n",
    "        index_r = int(r)\n",
    "        count_b[index_b] = count_b[index_b]+1\n",
    "        count_g[index_g] = count_g[index_g]+1\n",
    "        count_r[index_r] = count_r[index_r]+1\n",
    "for i in range(0,255):\n",
    "    count_b[i] = count_b[i]/(height*width)\n",
    "    count_g[i] = count_g[i]/(height*width)\n",
    "    count_r[i] = count_r[i]/(height*width)\n",
    "#计算累计概率\n",
    "sum_b = float(0)\n",
    "sum_g = float(0)\n",
    "sum_r = float(0)\n",
    "for i in range(0,256):\n",
    "    sum_b = sum_b+count_b[i]\n",
    "    sum_g = sum_g+count_g[i]\n",
    "    sum_r = sum_r+count_r[i]\n",
    "    count_b[i] = sum_b\n",
    "    count_g[i] = sum_g\n",
    "    count_r[i] = sum_r\n",
    "#print(count)\n",
    "# 计算映射表\n",
    "map_b = np.zeros(256,np.uint16)\n",
    "map_g = np.zeros(256,np.uint16)\n",
    "map_r = np.zeros(256,np.uint16)\n",
    "for i in range(0,256):\n",
    "    map_b[i] = np.uint16(count_b[i]*255)\n",
    "    map_g[i] = np.uint16(count_g[i]*255)\n",
    "    map_r[i] = np.uint16(count_r[i]*255)\n",
    "# 映射\n",
    "dst = np.zeros((height,width,3),np.uint8)\n",
    "for i in range(0,height):\n",
    "    for j in range(0,width):\n",
    "        (b,g,r) = img[i,j]\n",
    "        b = map_b[b]\n",
    "        g = map_g[g]\n",
    "        r = map_r[r]\n",
    "        dst[i,j] = (b,g,r)\n",
    "cv2.imshow('dst',dst)\n",
    "cv2.waitKey(1000)\n"
   ],
   "metadata": {
    "collapsed": false,
    "pycharm": {
     "name": "#%%\n",
     "is_executing": false
    }
   }
  },
  {
   "cell_type": "code",
   "execution_count": null,
   "outputs": [],
   "source": [
    "\n"
   ],
   "metadata": {
    "collapsed": false,
    "pycharm": {
     "name": "#%%\n"
    }
   }
  }
 ],
 "metadata": {
  "kernelspec": {
   "display_name": "Python 3",
   "language": "python",
   "name": "python3"
  },
  "language_info": {
   "codemirror_mode": {
    "name": "ipython",
    "version": 3
   },
   "file_extension": ".py",
   "mimetype": "text/x-python",
   "name": "python",
   "nbconvert_exporter": "python",
   "pygments_lexer": "ipython3",
   "version": "3.7.5"
  },
  "pycharm": {
   "stem_cell": {
    "cell_type": "raw",
    "source": [],
    "metadata": {
     "collapsed": false
    }
   }
  }
 },
 "nbformat": 4,
 "nbformat_minor": 2
}