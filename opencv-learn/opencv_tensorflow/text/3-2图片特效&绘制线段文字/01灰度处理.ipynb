{
 "cells": [
  {
   "cell_type": "markdown",
   "source": [
    "### 灰度实现一\n",
    "# imread "
   ],
   "metadata": {
    "collapsed": false,
    "pycharm": {
     "name": "#%% md\n"
    }
   }
  },
  {
   "cell_type": "code",
   "execution_count": 2,
   "outputs": [
    {
     "name": "stdout",
     "text": [
      "(683, 683)\n",
      "(683, 683, 3)\n"
     ],
     "output_type": "stream"
    },
    {
     "data": {
      "text/plain": "-1"
     },
     "metadata": {},
     "output_type": "execute_result",
     "execution_count": 2
    }
   ],
   "source": [
    "import cv2\n",
    "img = cv2.imread('181.jpg', 0)\n",
    "img1 = cv2.imread('181.jpg', 1)\n",
    "print(img.shape)\n",
    "print(img1.shape)\n",
    "cv2.imshow('img', img)\n",
    "cv2.imshow('img1', img1)\n",
    "cv2.waitKey(1000)"
   ],
   "metadata": {
    "collapsed": false,
    "pycharm": {
     "name": "#%%\n",
     "is_executing": false
    }
   }
  },
  {
   "cell_type": "markdown",
   "source": [
    "### 灰度实现二\n",
    "- cvtColor"
   ],
   "metadata": {
    "collapsed": false
   }
  },
  {
   "cell_type": "code",
   "execution_count": null,
   "outputs": [],
   "source": [
    "import cv2\n",
    "img = cv2.imread('181.jpg', 1)\n",
    "dst = cv2.cvtColor(img, cv2.COLOR_BGR2GRAY) # 颜色空间转换 1 data 2 RGB->GRA\n",
    "cv2.imshow('dst', dst)\n",
    "cv2.waitKey(1000)"
   ],
   "metadata": {
    "collapsed": false,
    "pycharm": {
     "name": "#%%\n"
    }
   }
  },
  {
   "cell_type": "markdown",
   "source": [
    "### 灰度实现三\n",
    "- RGB R=G=B = gray (R+G+B)/3"
   ],
   "metadata": {
    "collapsed": false
   }
  },
  {
   "cell_type": "code",
   "execution_count": null,
   "outputs": [],
   "source": [
    "import cv2\n",
    "import numpy as np\n",
    "img = cv2.imread('181.jpg', 1)\n",
    "imgInfo = img.shape\n",
    "height = imgInfo[0]\n",
    "width = imgInfo[1]\n",
    "dst = np.zeros((height, width), np.uint8)\n",
    "\n",
    "# RGB R=G=B = gray  (R+G+B)/3\n",
    "for i in range(0, height):\n",
    "    for j in range(0, width):\n",
    "        (b, g, r) = img[i, j]\n",
    "        gray = (int(b) + int(g) + int(r))/3\n",
    "        dst[i, j] = np.uint8(gray)\n",
    "cv2.imshow('dst', dst)\n",
    "cv2.waitKey(1000)"
   ],
   "metadata": {
    "collapsed": false,
    "pycharm": {
     "name": "#%%\n"
    }
   }
  },
  {
   "cell_type": "markdown",
   "source": [
    "### 灰度实现四\n",
    "- gray = r * 0.299 + g * 0.587 + b * 0.114"
   ],
   "metadata": {
    "collapsed": false
   }
  },
  {
   "cell_type": "code",
   "execution_count": 3,
   "outputs": [
    {
     "data": {
      "text/plain": "-1"
     },
     "metadata": {},
     "output_type": "execute_result",
     "execution_count": 3
    }
   ],
   "source": [
    "import cv2\n",
    "import numpy as np\n",
    "img = cv2.imread('181.jpg', 1)\n",
    "imgInfo = img.shape\n",
    "height = imgInfo[0]\n",
    "width = imgInfo[1]\n",
    "dst = np.zeros((height, width), np.uint8)\n",
    "for i in range(0, height):\n",
    "    for j in range(0, width):\n",
    "        (b, g, r) = img[i, j]\n",
    "        gray = (int(b) * 0.114 + int(g) * 0.587 + int(r) * 0.299)\n",
    "        dst[i, j] = np.uint8(gray)\n",
    "cv2.imshow('dst', dst)\n",
    "cv2.waitKey(1000)"
   ],
   "metadata": {
    "collapsed": false,
    "pycharm": {
     "name": "#%%\n",
     "is_executing": false
    }
   }
  },
  {
   "cell_type": "markdown",
   "source": [
    "### 灰度图像优化\n",
    "- 1 灰度 最重要 2 基础 3 实时性 \n",
    "- 定点-》浮点 +- */ >> \n",
    "- r*0.299+g*0.587+b*0.114\n",
    "- gray = (int(b) * 1 + int(g) * 2 + int(r) * 1)/4\n",
    "- gray = (int(b) + int(g) * 2 + int(r))/4"
   ],
   "metadata": {
    "collapsed": false
   }
  },
  {
   "cell_type": "code",
   "execution_count": null,
   "outputs": [],
   "source": [
    "import cv2\n",
    "import numpy as np\n",
    "img = cv2.imread('181.jpg', 1)\n",
    "imgInfo = img.shape\n",
    "height = imgInfo[0]\n",
    "width = imgInfo[1]\n",
    "dst = np.zeros((height, width), np.uint8)\n",
    "for i in range(0, height):\n",
    "    for j in range(0, width):\n",
    "        (b, g, r) = img[i, j]\n",
    "        gray = (int(b) + (int(g) << 1) + int(r)) >> 2\n",
    "        dst[i, j] = np.uint8(gray)\n",
    "cv2.imshow('dst', dst)\n",
    "cv2.waitKey(1000)\n",
    "\n"
   ],
   "metadata": {
    "collapsed": false,
    "pycharm": {
     "name": "#%%\n"
    }
   }
  }
 ],
 "metadata": {
  "kernelspec": {
   "display_name": "Python 3",
   "language": "python",
   "name": "python3"
  },
  "language_info": {
   "codemirror_mode": {
    "name": "ipython",
    "version": 3
   },
   "file_extension": ".py",
   "mimetype": "text/x-python",
   "name": "python",
   "nbconvert_exporter": "python",
   "pygments_lexer": "ipython3",
   "version": "3.6.4"
  },
  "pycharm": {
   "stem_cell": {
    "cell_type": "raw",
    "source": [],
    "metadata": {
     "collapsed": false
    }
   }
  }
 },
 "nbformat": 4,
 "nbformat_minor": 2
}