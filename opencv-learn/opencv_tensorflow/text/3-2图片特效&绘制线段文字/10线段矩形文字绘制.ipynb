{
 "cells": [
  {
   "cell_type": "markdown",
   "metadata": {},
   "source": [
    "### 线条"
   ]
  },
  {
   "cell_type": "code",
   "execution_count": 1,
   "metadata": {},
   "outputs": [
    {
     "data": {
      "text/plain": [
       "-1"
      ]
     },
     "execution_count": 1,
     "metadata": {},
     "output_type": "execute_result"
    }
   ],
   "source": [
    "import cv2\n",
    "import numpy as np\n",
    "newImageInfo = (500, 500, 3)\n",
    "dst = np.zeros(newImageInfo, np.uint8)\n",
    "\n",
    "# 绘制线段 1 data, 2 begin, 3 end, 4 color, 5 线条类型\n",
    "cv2.line(dst, (100, 100), (400, 400), (0, 0, 255))\n",
    "cv2.line(dst, (100, 200), (400, 200), (0, 255, 255), 20)\n",
    "cv2.line(dst, (100, 300), (400, 300), (0, 255, 0), 20, cv2.LINE_AA)\n",
    "\n",
    "cv2.line(dst, (200, 150), (50, 250), (25, 100, 255))\n",
    "cv2.line(dst, (50, 250), (400, 380), (25, 100, 255))\n",
    "cv2.line(dst, (400, 380), (200, 150), (25, 100, 255))\n",
    "\n",
    "cv2.imshow('dst', dst)\n",
    "cv2.waitKey(1000)"
   ]
  },
  {
   "cell_type": "markdown",
   "metadata": {},
   "source": [
    "### 矩形、圆形、多边形"
   ]
  },
  {
   "cell_type": "code",
   "execution_count": 5,
   "metadata": {},
   "outputs": [
    {
     "data": {
      "text/plain": [
       "-1"
      ]
     },
     "execution_count": 5,
     "metadata": {},
     "output_type": "execute_result"
    }
   ],
   "source": [
    "import cv2\n",
    "import numpy as np\n",
    "newImageInfo = (500, 500, 3)\n",
    "dst = np.zeros(newImageInfo, np.uint8)\n",
    "\n",
    "# 矩形\n",
    "# 1 data, 2 左上, 3 右下, 4 color, 5 -1:填充 >0:线条宽度\n",
    "# cv2.rectangle(dst, (50, 100), (200, 300), (255, 0, 0), -1)\n",
    "cv2.rectangle(dst, (50, 100), (200, 300), (255, 0, 0), 5)\n",
    "# 圆\n",
    "# 1 data, 2 中心点, 3 半径, 4 color, 5 \n",
    "cv2.circle(dst, (250, 250), (50), (0, 255, 0), 2)\n",
    "# 椭圆\n",
    "# 1 data, 2 中心点, 3 轴, 4 angle, 5 begin, 6 end, 7 -1:填充 >0:线条宽度\n",
    "cv2.ellipse(dst, (256, 256), (150, 100), 0, 0, 180, (255, 255, 0), -1, cv2.LINE_AA)\n",
    "# 多边形\n",
    "points = np.array([[150, 50], [140, 140], [200, 170], [250, 250], [150, 50]], np.int32)\n",
    "points = points.reshape((-1, 1, 2))\n",
    "cv2.polylines(dst, [points], True, (0, 255, 255))\n",
    "\n",
    "cv2.imshow('dst', dst)\n",
    "cv2.waitKey(1000)"
   ]
  },
  {
   "cell_type": "markdown",
   "metadata": {},
   "source": [
    "### 文字"
   ]
  },
  {
   "cell_type": "code",
   "execution_count": 1,
   "metadata": {
    "pycharm": {
     "is_executing": false
    }
   },
   "outputs": [
    {
     "data": {
      "text/plain": "-1"
     },
     "metadata": {},
     "output_type": "execute_result",
     "execution_count": 1
    }
   ],
   "source": [
    "import cv2\n",
    "import numpy as np\n",
    "img = cv2.imread('image.jpg', 1)\n",
    "font = cv2.FONT_HERSHEY_SIMPLEX\n",
    "cv2.rectangle(img, (200, 100), (500, 400), (0, 255, 0), 3)\n",
    "# 1 data, 2 字, 3 位置, 4 , 5 字体大小, 6 color, 7 字体粗细, 8 line type\n",
    "cv2.putText(img, 'wo zai zhe', (100, 300), font, 1, (200, 100, 255), 2, cv2.LINE_AA)\n",
    "\n",
    "cv2.imshow('img', img)\n",
    "cv2.waitKey(1000)"
   ]
  },
  {
   "cell_type": "markdown",
   "metadata": {},
   "source": [
    "### 图片"
   ]
  },
  {
   "cell_type": "code",
   "execution_count": 10,
   "metadata": {},
   "outputs": [
    {
     "data": {
      "text/plain": [
       "-1"
      ]
     },
     "execution_count": 10,
     "metadata": {},
     "output_type": "execute_result"
    }
   ],
   "source": [
    "import cv2\n",
    "import numpy as np\n",
    "img = cv2.imread('image.jpg', 1)\n",
    "height = int(img.shape[0] * 0.2)\n",
    "width = int(img.shape[1] * 0.2)\n",
    "imgResize = cv2.resize(img, (width, height))\n",
    "for i in range(0, height):\n",
    "    for j in range(0, width):\n",
    "        img[i + 200, j + 350] = imgResize[i, j]\n",
    "\n",
    "cv2.imshow('img', img)\n",
    "cv2.waitKey(1000)"
   ]
  },
  {
   "cell_type": "code",
   "execution_count": null,
   "metadata": {},
   "outputs": [],
   "source": []
  }
 ],
 "metadata": {
  "kernelspec": {
   "display_name": "Python 3",
   "language": "python",
   "name": "python3"
  },
  "language_info": {
   "codemirror_mode": {
    "name": "ipython",
    "version": 3
   },
   "file_extension": ".py",
   "mimetype": "text/x-python",
   "name": "python",
   "nbconvert_exporter": "python",
   "pygments_lexer": "ipython3",
   "version": "3.7.5"
  }
 },
 "nbformat": 4,
 "nbformat_minor": 2
}