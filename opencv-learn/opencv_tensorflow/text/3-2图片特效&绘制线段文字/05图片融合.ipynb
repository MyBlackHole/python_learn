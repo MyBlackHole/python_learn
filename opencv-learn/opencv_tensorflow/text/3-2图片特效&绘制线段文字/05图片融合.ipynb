{
 "cells": [
  {
   "cell_type": "code",
   "execution_count": null,
   "metadata": {
    "pycharm": {
     "name": "#%%\n",
     "is_executing": true
    }
   },
   "outputs": [],
   "source": [
    "import cv2\n",
    "import numpy as np\n",
    "img0 = cv2.imread('image0.JPG',1)\n",
    "img1 = cv2.imread('image1.JPG',1)\n",
    "imgInfo = img0.shape\n",
    "height = imgInfo[0]\n",
    "width = imgInfo[1]\n",
    "# ROI\n",
    "roiH = int(height/2)\n",
    "roiW = int(width/2)\n",
    "img0ROI = img0[0:roiH,0:roiW]\n",
    "img1ROI = img1[0:roiH,0:roiW]\n",
    "# dst\n",
    "# dst = np.zeros((roiH,roiW,3),np.uint8)\n",
    "dst = cv2.addWeighted(img0ROI,0.5,img1ROI,0.5,0)#add src1*a+src2*(1-a)\n",
    "# 1 src1 2 a 3 src2 4 1-a\n",
    "cv2.imshow('dst',dst)\n",
    "cv2.waitKey(0)"
   ]
  },
  {
   "cell_type": "markdown",
   "source": [
    "### 图像融合"
   ],
   "metadata": {
    "collapsed": false
   }
  },
  {
   "cell_type": "code",
   "execution_count": 8,
   "outputs": [
    {
     "data": {
      "text/plain": "-1"
     },
     "metadata": {},
     "output_type": "execute_result",
     "execution_count": 8
    }
   ],
   "source": [
    "# 两图片像素按比例求和（维度相等）\n",
    "# dst  = src1*a+src2*(1-a)\n",
    "\n",
    "import cv2\n",
    "img = cv2.imread('181.jpg', 1)\n",
    "img1 = cv2.imread('image.jpg', 1)\n",
    "height = int(img1.shape[0])\n",
    "width = int(img1.shape[1])\n",
    "\n",
    "imgROI = img[0:height, 0:width]\n",
    "img1ROI = img1[0:height, 0:width]\n",
    "dst = cv2.addWeighted(imgROI, 0.8, img1ROI, 0.2, 0) # 1 img1, 2 img1比例， 3 img2， 4 img2比例， 5\n",
    "\n",
    "cv2.imshow('dst', dst)\n",
    "cv2.waitKey(1000)\n"
   ],
   "metadata": {
    "collapsed": false,
    "pycharm": {
     "name": "#%%\n",
     "is_executing": false
    }
   }
  },
  {
   "cell_type": "code",
   "execution_count": null,
   "outputs": [],
   "source": [
    "\n"
   ],
   "metadata": {
    "collapsed": false,
    "pycharm": {
     "name": "#%%\n"
    }
   }
  }
 ],
 "metadata": {
  "kernelspec": {
   "name": "pycharm-c3e6835b",
   "language": "python",
   "display_name": "PyCharm (hadoop)"
  },
  "language_info": {
   "codemirror_mode": {
    "name": "ipython",
    "version": 3
   },
   "file_extension": ".py",
   "mimetype": "text/x-python",
   "name": "python",
   "nbconvert_exporter": "python",
   "pygments_lexer": "ipython3",
   "version": "3.6.4"
  },
  "pycharm": {
   "stem_cell": {
    "cell_type": "raw",
    "source": [],
    "metadata": {
     "collapsed": false
    }
   }
  }
 },
 "nbformat": 4,
 "nbformat_minor": 2
}