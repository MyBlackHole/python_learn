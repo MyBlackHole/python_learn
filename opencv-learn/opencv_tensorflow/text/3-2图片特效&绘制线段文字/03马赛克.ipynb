{
 "cells": [
  {
   "cell_type": "markdown",
   "source": [
    "### 马赛克"
   ],
   "metadata": {
    "collapsed": false
   }
  },
  {
   "cell_type": "code",
   "execution_count": 3,
   "outputs": [
    {
     "data": {
      "text/plain": "-1"
     },
     "metadata": {},
     "output_type": "execute_result",
     "execution_count": 3
    }
   ],
   "source": [
    "import cv2\n",
    "import numpy as np\n",
    "img = cv2.imread('181.jpg', 1)\n",
    "for i in range(100, 300):\n",
    "    for j in range(100, 200):\n",
    "        # pixel = -> 10 * 10\n",
    "        if i % 10 == 0 and j % 10 == 0:\n",
    "            for k in range(0, 10):\n",
    "                for z in range(0, 10):\n",
    "                    (b, g, r) = img[i, j]\n",
    "                    img[k + i, z + j] = (b, g, r)\n",
    "cv2.imshow('img', img)\n",
    "cv2.waitKey(1000)\n",
    "\n"
   ],
   "metadata": {
    "collapsed": false,
    "pycharm": {
     "name": "#%%\n",
     "is_executing": false
    }
   }
  },
  {
   "cell_type": "code",
   "execution_count": null,
   "outputs": [],
   "source": [
    "\n"
   ],
   "metadata": {
    "collapsed": false,
    "pycharm": {
     "name": "#%%\n"
    }
   }
  }
 ],
 "metadata": {
  "kernelspec": {
   "name": "pycharm-c3e6835b",
   "language": "python",
   "display_name": "PyCharm (hadoop)"
  },
  "language_info": {
   "codemirror_mode": {
    "name": "ipython",
    "version": 3
   },
   "file_extension": ".py",
   "mimetype": "text/x-python",
   "name": "python",
   "nbconvert_exporter": "python",
   "pygments_lexer": "ipython3",
   "version": "3.6.4"
  },
  "pycharm": {
   "stem_cell": {
    "cell_type": "raw",
    "source": [],
    "metadata": {
     "collapsed": false
    }
   }
  }
 },
 "nbformat": 4,
 "nbformat_minor": 2
}