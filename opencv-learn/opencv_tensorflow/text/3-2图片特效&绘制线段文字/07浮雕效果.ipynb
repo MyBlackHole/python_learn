{
 "cells": [
  {
   "cell_type": "markdown",
   "source": [
    "### 浮雕"
   ],
   "metadata": {
    "collapsed": false
   }
  },
  {
   "cell_type": "code",
   "execution_count": 3,
   "outputs": [
    {
     "data": {
      "text/plain": "-1"
     },
     "metadata": {},
     "output_type": "execute_result",
     "execution_count": 3
    }
   ],
   "source": [
    "import cv2\n",
    "import numpy as np\n",
    "import random\n",
    "img = cv2.imread('181.jpg', 1)\n",
    "imgInfo = img.shape\n",
    "height = imgInfo[0]\n",
    "width = imgInfo[1]\n",
    "gray = cv2.cvtColor(img,cv2.COLOR_BGR2GRAY)\n",
    "# newP = gray0-gray1+150\n",
    "dst = np.zeros((height,width,1),np.uint8)\n",
    "for i in range(0,height):\n",
    "    for j in range(0,width-1):\n",
    "        grayP0 = int(gray[i,j])\n",
    "        grayP1 = int(gray[i,j+1])\n",
    "        newP = grayP0-grayP1+150\n",
    "        if newP > 255:\n",
    "            newP = 255\n",
    "        if newP < 0:\n",
    "            newP = 0\n",
    "        dst[i,j] = newP\n",
    "cv2.imshow('dst',dst)\n",
    "cv2.waitKey(1000)"
   ],
   "metadata": {
    "collapsed": false,
    "pycharm": {
     "name": "#%%\n",
     "is_executing": false
    }
   }
  },
  {
   "cell_type": "code",
   "execution_count": null,
   "outputs": [],
   "source": [
    "\n"
   ],
   "metadata": {
    "collapsed": false,
    "pycharm": {
     "name": "#%%\n"
    }
   }
  }
 ],
 "metadata": {
  "kernelspec": {
   "display_name": "Python 3",
   "language": "python",
   "name": "python3"
  },
  "language_info": {
   "codemirror_mode": {
    "name": "ipython",
    "version": 3
   },
   "file_extension": ".py",
   "mimetype": "text/x-python",
   "name": "python",
   "nbconvert_exporter": "python",
   "pygments_lexer": "ipython3",
   "version": "3.7.5"
  },
  "pycharm": {
   "stem_cell": {
    "cell_type": "raw",
    "source": [
     "import cv2\n",
     "import numpy as np\n",
     "img = cv2.imread('image0.JPG',1)\n",
     "imgInfo = img.shape\n",
     "height = imgInfo[0]\n",
     "width = imgInfo[1]\n",
     "gray = cv2.cvtColor(img,cv2.COLOR_BGR2GRAY)\n",
     "# newP = gray0-gray1+150\n",
     "dst = np.zeros((height,width,1),np.uint8)\n",
     "for i in range(0,height):\n",
     "    for j in range(0,width-1):\n",
     "        grayP0 = int(gray[i,j])\n",
     "        grayP1 = int(gray[i,j+1])\n",
     "        newP = grayP0-grayP1+150\n",
     "        if newP > 255:\n",
     "            newP = 255\n",
     "        if newP < 0:\n",
     "            newP = 0\n",
     "        dst[i,j] = newP\n",
     "cv2.imshow('dst',dst)\n",
     "cv2.waitKey(0)\n"
    ],
    "metadata": {
     "collapsed": false
    }
   }
  }
 },
 "nbformat": 4,
 "nbformat_minor": 2
}