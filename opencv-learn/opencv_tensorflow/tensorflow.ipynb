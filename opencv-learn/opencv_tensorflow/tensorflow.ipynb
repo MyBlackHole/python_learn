{
 "cells": [
  {
   "cell_type": "code",
   "execution_count": 10,
   "metadata": {},
   "outputs": [
    {
     "name": "stdout",
     "output_type": "stream",
     "text": [
      "tf.Tensor(2, shape=(), dtype=int64)\n",
      "<tf.Variable 'var:0' shape=() dtype=int32, numpy=10>\n",
      "tf.Tensor(1, shape=(), dtype=int32)\n"
     ]
    }
   ],
   "source": [
    "import tensorflow as tf\n",
    "data1 = tf.constant(2, dtype=tf.int64) # 声明常量\n",
    "data2 = tf.Variable(10, name='var') # 声明变量\n",
    "print(data1) # 常量直接可以使用print\n",
    "print(data2) # \n",
    "data2.assign(1) # 赋值给变量\n",
    "print(data2.read_value()) #输出变量值"
   ]
  },
  {
   "cell_type": "markdown",
   "metadata": {},
   "source": [
    "## 常量运算"
   ]
  },
  {
   "cell_type": "code",
   "execution_count": 15,
   "metadata": {},
   "outputs": [
    {
     "name": "stdout",
     "output_type": "stream",
     "text": [
      "+: tf.Tensor(8, shape=(), dtype=int32) ;\n",
      "*: tf.Tensor(12, shape=(), dtype=int32) ;\n",
      "-: tf.Tensor(4, shape=(), dtype=int32) ;\n",
      "/: tf.Tensor(3.0, shape=(), dtype=float64)\n"
     ]
    }
   ],
   "source": [
    "import tensorflow as tf\n",
    "\n",
    "data1 = tf.constant(6)\n",
    "data2 = tf.constant(2)\n",
    "dataAdd = tf.add(data1, data2) # 加\n",
    "dataMul = tf.multiply(data1, data2) # 乘\n",
    "dataSub = tf.subtract(data1, data2) # 减\n",
    "dataDiv = tf.divide(data1, data2) # 除\n",
    "print('+:', dataAdd, ';\\n*:', dataMul, ';\\n-:', dataSub, ';\\n/:', dataDiv)"
   ]
  },
  {
   "cell_type": "markdown",
   "metadata": {},
   "source": [
    "## 常量于变量运算"
   ]
  },
  {
   "cell_type": "code",
   "execution_count": 16,
   "metadata": {},
   "outputs": [
    {
     "name": "stdout",
     "output_type": "stream",
     "text": [
      "+: tf.Tensor(8, shape=(), dtype=int32) ;\n",
      "*: tf.Tensor(12, shape=(), dtype=int32) ;\n",
      "-: tf.Tensor(4, shape=(), dtype=int32) ;\n",
      "/: tf.Tensor(3.0, shape=(), dtype=float64)\n"
     ]
    }
   ],
   "source": [
    "import tensorflow as tf\n",
    "\n",
    "data1 = tf.constant(6)\n",
    "data2 = tf.Variable(2)\n",
    "dataAdd = tf.add(data1, data2) # 加\n",
    "dataMul = tf.multiply(data1, data2) # 乘\n",
    "dataSub = tf.subtract(data1, data2) # 减\n",
    "dataDiv = tf.divide(data1, data2) # 除\n",
    "print('+:', dataAdd, ';\\n*:', dataMul, ';\\n-:', dataSub, ';\\n/:', dataDiv)"
   ]
  },
  {
   "cell_type": "code",
   "execution_count": 50,
   "metadata": {},
   "outputs": [
    {
     "name": "stdout",
     "output_type": "stream",
     "text": [
      "None\n"
     ]
    }
   ],
   "source": [
    "import tensorflow as tf\n",
    "# 断言\n",
    "data1 = tf.constant(6)\n",
    "data2 = tf.Variable(2)\n",
    "dataAdd = tf.add(data1, data2) # 加\n",
    "\n",
    "datacopy = tf.assert_equal(8, dataAdd) # 判断是等与8 否报错 是返回None（断言）\n",
    "print(datacopy)"
   ]
  },
  {
   "cell_type": "code",
   "execution_count": 41,
   "metadata": {},
   "outputs": [
    {
     "name": "stdout",
     "output_type": "stream",
     "text": [
      "tf.Tensor([6 4], shape=(2,), dtype=int32)\n"
     ]
    }
   ],
   "source": [
    "import tensorflow as tf\n",
    "# W = tf.Variable(tf.ones(shape=(2,2)), name=\"W\")\n",
    "# b = tf.Variable(tf.zeros(shape=(2)), name=\"b\")\n",
    "\n",
    "W = tf.Variable([2], tf.float64)\n",
    "b = tf.Variable(4, tf.float64)\n",
    "# W.assign(4)\n",
    "# print(W)\n",
    "# b.assign(2)\n",
    "\n",
    "# @tf.function\n",
    "def forward(x):\n",
    "  return W * x + b\n",
    "\n",
    "out_a = forward([1,0])\n",
    "print(out_a)"
   ]
  },
  {
   "cell_type": "markdown",
   "metadata": {},
   "source": [
    "## 矩阵创建读取"
   ]
  },
  {
   "cell_type": "code",
   "execution_count": 49,
   "metadata": {},
   "outputs": [
    {
     "name": "stdout",
     "output_type": "stream",
     "text": [
      "tf.Tensor([[6 6]], shape=(1, 2), dtype=int32)\n",
      "tf.Tensor(\n",
      "[[2]\n",
      " [2]], shape=(2, 1), dtype=int32)\n",
      "tf.Tensor(\n",
      "[[1 2]\n",
      " [3 4]\n",
      " [5 6]], shape=(3, 2), dtype=int32)\n",
      "tf.Tensor(6, shape=(), dtype=int32)\n",
      "tf.Tensor(6, shape=(), dtype=int32)\n",
      "tf.Tensor([1 3 5], shape=(3,), dtype=int32)\n",
      "tf.Tensor([1 2], shape=(2,), dtype=int32)\n"
     ]
    }
   ],
   "source": [
    "import tensorflow as tf\n",
    "data1 = tf.constant([[6, 6]])\n",
    "data2 = tf.constant([[2],\n",
    "                     [2]])\n",
    "data3 = tf.constant([[1, 2],\n",
    "                     [3, 4],\n",
    "                     [5, 6]])\n",
    "print(data1)\n",
    "print(data2)\n",
    "print(data3)\n",
    "print(data1[0, 0])\n",
    "print(data1[0][0])\n",
    "print(data3[:, 0])\n",
    "print(data3[0, :])"
   ]
  },
  {
   "cell_type": "markdown",
   "metadata": {},
   "source": [
    "## 矩阵运算"
   ]
  },
  {
   "cell_type": "code",
   "execution_count": 55,
   "metadata": {},
   "outputs": [
    {
     "name": "stdout",
     "output_type": "stream",
     "text": [
      "tf.Tensor([[24]], shape=(1, 1), dtype=int32)\n",
      "tf.Tensor([[8 8]], shape=(1, 2), dtype=int32)\n",
      "tf.Tensor(\n",
      "[[12 12]\n",
      " [12 12]], shape=(2, 2), dtype=int32)\n"
     ]
    }
   ],
   "source": [
    "import tensorflow as tf\n",
    "data1 = tf.constant([[6, 6]])\n",
    "data2 = tf.constant([[2],\n",
    "                     [2]])\n",
    "data3 = tf.constant([[1, 2],\n",
    "                     [3, 4],\n",
    "                     [5, 6]])\n",
    "data4 = tf.constant([[2, 2]])\n",
    "\n",
    "print(tf.matmul(data1, data2)) # 乘(矩阵乘)\n",
    "print(tf.add(data1, data4)) # 加\n",
    "print(tf.multiply(data1, data2)) # 对应位置相乘"
   ]
  },
  {
   "cell_type": "markdown",
   "metadata": {},
   "source": [
    "## 创建0， 1， n矩阵"
   ]
  },
  {
   "cell_type": "code",
   "execution_count": 77,
   "metadata": {},
   "outputs": [
    {
     "name": "stdout",
     "output_type": "stream",
     "text": [
      "tf.Tensor(\n",
      "[[0 0 0]\n",
      " [0 0 0]], shape=(2, 3), dtype=int32) tf.Tensor(\n",
      "[[0 0 0]\n",
      " [0 0 0]], shape=(2, 3), dtype=int64)\n",
      "tf.Tensor(\n",
      "[[15 15 15 15]\n",
      " [15 15 15 15]], shape=(2, 4), dtype=int32) tf.Tensor(\n",
      "[[1 1 1]\n",
      " [1 1 1]], shape=(2, 3), dtype=int32)\n",
      "********************\n",
      "tf.Tensor(\n",
      "[[0 0 0]\n",
      " [0 0 0]], shape=(2, 3), dtype=int32) tf.Tensor(\n",
      "[0.         0.11111111 0.22222222 0.33333334 0.44444445 0.5555556\n",
      " 0.6666667  0.7777778  0.8888889  1.        ], shape=(10,), dtype=float32)\n",
      "tf.Tensor(\n",
      "[[1.9568651  1.7263336  0.66117465]\n",
      " [0.22311163 0.72513425 1.4260373 ]], shape=(2, 3), dtype=float32)\n"
     ]
    }
   ],
   "source": [
    "import tensorflow as tf\n",
    "data1 = tf.constant([[0, 0, 0], [0, 0, 0]])\n",
    "data2 = tf.zeros(shape=(2,3), dtype=tf.int64) # 2x3 int64 0\n",
    "data3 = tf.fill([2, 4], value=15) # 2x4 15\n",
    "data4 = tf.ones(shape=[2, 3], dtype=tf.int32) # 2x3 int32 1\n",
    "print(data1, data2)\n",
    "print(data3, data4)\n",
    "print('*' * 20)\n",
    "data5 = tf.zeros_like(data4)\n",
    "data6 = tf.linspace(0.0, 1.0 ,10) # 必须浮点 0.0-10 步长为1.0\n",
    "print(data5, data6)\n",
    "data7 = tf.random.uniform([2, 3], -1, 2) # 2x3 -1--2 随机数\n",
    "print(data7)"
   ]
  },
  {
   "cell_type": "markdown",
   "metadata": {},
   "source": [
    "## numpy"
   ]
  },
  {
   "cell_type": "code",
   "execution_count": 84,
   "metadata": {},
   "outputs": [
    {
     "name": "stdout",
     "output_type": "stream",
     "text": [
      "[0 1 2 3 4 5 6 7 8 9]\n",
      "[[1 2]\n",
      " [3 4]]\n",
      "[[0. 0. 0.]\n",
      " [0. 0. 0.]] \n",
      " [[1. 1. 1.]\n",
      " [1. 1. 1.]]\n"
     ]
    }
   ],
   "source": [
    "import numpy as np\n",
    "data1 = np.array(range(10))\n",
    "data2 = np.array([[1, 2],\n",
    "                  [3, 4]])\n",
    "print(data1)\n",
    "print(data2)\n",
    "print(np.zeros((2,3)), '\\n', np.ones((2,3)))"
   ]
  },
  {
   "cell_type": "markdown",
   "metadata": {},
   "source": [
    "## matplotlib"
   ]
  },
  {
   "cell_type": "code",
   "execution_count": 93,
   "metadata": {},
   "outputs": [
    {
     "data": {
      "text/plain": [
       "<BarContainer object of 8 artists>"
      ]
     },
     "execution_count": 93,
     "metadata": {},
     "output_type": "execute_result"
    },
    {
     "data": {
      "image/png": "[encoded data removed]",
      "text/plain": [
       "<Figure size 432x288 with 1 Axes>"
      ]
     },
     "metadata": {
      "needs_background": "light"
     },
     "output_type": "display_data"
    }
   ],
   "source": [
    "import numpy as np\n",
    "import matplotlib.pyplot as plt\n",
    "\n",
    "x = np.array(range(1, 9))\n",
    "y = np.array([1, 5, 2, 5, 6, 6, 4, 2])\n",
    "# print(x)\n",
    "plt.plot(x, y, 'r') # 折线图 1 x, 2 y, 3 color\n",
    "plt.plot(x, y, 'r', lw=10) # 4 线条大小\n",
    "plt.bar(x, y, 0.5, alpha=1, color='b') # 柱状图 3 柱形占比例, 4 透明度"
   ]
  },
  {
   "cell_type": "code",
   "execution_count": null,
   "metadata": {},
   "outputs": [],
   "source": []
  },
  {
   "cell_type": "code",
   "execution_count": null,
   "metadata": {},
   "outputs": [],
   "source": []
  }
 ],
 "metadata": {
  "kernelspec": {
   "display_name": "Python 3",
   "language": "python",
   "name": "python3"
  },
  "language_info": {
   "codemirror_mode": {
    "name": "ipython",
    "version": 3
   },
   "file_extension": ".py",
   "mimetype": "text/x-python",
   "name": "python",
   "nbconvert_exporter": "python",
   "pygments_lexer": "ipython3",
   "version": "3.7.5"
  }
 },
 "nbformat": 4,
 "nbformat_minor": 2
}
