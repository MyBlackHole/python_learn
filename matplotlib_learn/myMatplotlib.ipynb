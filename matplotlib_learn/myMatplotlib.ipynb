{
  "cells": [
    {
      "cell_type": "code",
      "execution_count": 2,
      "metadata": {
        "collapsed": true,
        "pycharm": {
          "is_executing": false
        }
      },
      "outputs": [],
      "source": "from matplotlib import pyplot as plt"
    },
    {
      "cell_type": "code",
      "execution_count": 5,
      "outputs": [],
      "source": "x \u003d range(2, 26, 2)\ny \u003d [15, 13, 14.5, 17, 20, 25, 26, 26, 27, 22, 18, 15]",
      "metadata": {
        "pycharm": {
          "metadata": false,
          "name": "#%%\n",
          "is_executing": false
        }
      }
    },
    {
      "cell_type": "code",
      "execution_count": 21,
      "outputs": [
        {
          "data": {
            "text/plain": "[\u003cmatplotlib.lines.Line2D at 0x7f186bc74358\u003e]"
          },
          "metadata": {},
          "output_type": "execute_result",
          "execution_count": 21
        },
        {
          "data": {
            "text/plain": "\u003cFigure size 432x288 with 1 Axes\u003e",
            "image/png": "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\u003d\u003d\n"
          },
          "metadata": {
            "needs_background": "light"
          },
          "output_type": "display_data"
        }
      ],
      "source": "plt.plot(x, y)",
      "metadata": {
        "pycharm": {
          "metadata": false,
          "name": "#%%\n",
          "is_executing": false
        }
      }
    },
    {
      "cell_type": "markdown",
      "source": "\u003e plot(x, y, label\u003d\"ziti\", color\u003d\"#F08080\", linestyle\u003d\"--\")\n- label：标注\n- color：上色\n- linestyle：线条样式\n## 绘制条形图",
      "metadata": {
        "pycharm": {
          "metadata": false,
          "name": "#%% md\n"
        }
      }
    },
    {
      "cell_type": "code",
      "execution_count": 20,
      "outputs": [],
      "source": "plt.show()",
      "metadata": {
        "pycharm": {
          "metadata": false,
          "name": "#%% \n",
          "is_executing": false
        }
      }
    },
    {
      "cell_type": "markdown",
      "source": "## 显示图片",
      "metadata": {
        "pycharm": {
          "metadata": false,
          "name": "#%% md\n"
        }
      }
    },
    {
      "cell_type": "code",
      "execution_count": 24,
      "outputs": [
        {
          "data": {
            "text/plain": "\u003cFigure size 432x288 with 0 Axes\u003e"
          },
          "metadata": {},
          "output_type": "display_data"
        }
      ],
      "source": "# plt.plot(x, y)\nplt.savefig(\u0027./1.png\u0027)",
      "metadata": {
        "pycharm": {
          "metadata": false,
          "name": "#%%\n",
          "is_executing": false
        }
      }
    },
    {
      "cell_type": "markdown",
      "source": "## 保存图片",
      "metadata": {
        "pycharm": {
          "metadata": false,
          "name": "#%% md\n"
        }
      }
    },
    {
      "cell_type": "code",
      "execution_count": null,
      "outputs": [],
      "source": "plt.xticks(range(25,50))\nplt.yticks(range(min(y), max(y) + 1))",
      "metadata": {
        "pycharm": {
          "metadata": false,
          "name": "#%%\n"
        }
      }
    },
    {
      "cell_type": "markdown",
      "source": "\u003e (xy)ticks(x, x2, rotation\u003d45, fontproperties\u003dmy_font)\n- rotation：旋转角度\n- fontproperties：字体设置\n- x：原\n- x2：替换x\n## 绘制xy轴",
      "metadata": {
        "pycharm": {
          "metadata": false,
          "name": "#%% md\n"
        }
      }
    },
    {
      "cell_type": "code",
      "execution_count": 23,
      "outputs": [
        {
          "data": {
            "text/plain": "\u003cFigure size 1600x640 with 0 Axes\u003e"
          },
          "metadata": {},
          "output_type": "execute_result",
          "execution_count": 23
        },
        {
          "data": {
            "text/plain": "\u003cFigure size 1600x640 with 0 Axes\u003e"
          },
          "metadata": {},
          "output_type": "display_data"
        }
      ],
      "source": "plt.figure(figsize\u003d(20, 8), dpi\u003d80)",
      "metadata": {
        "pycharm": {
          "metadata": false,
          "name": "#%% \n",
          "is_executing": false
        }
      }
    },
    {
      "cell_type": "markdown",
      "source": "## 设置图片大小",
      "metadata": {
        "pycharm": {
          "metadata": false,
          "name": "#%% md\n"
        }
      }
    },
    {
      "cell_type": "code",
      "execution_count": null,
      "outputs": [],
      "source": "from matplotlib import font_manager\nmy_font \u003d font_manager.FontProperties(fname\u003d\u0027字体路径\u0027)",
      "metadata": {
        "pycharm": {
          "metadata": false,
          "name": "#%% \n"
        }
      }
    },
    {
      "cell_type": "markdown",
      "source": "\u003e - fname：字体路径\n## 字体设置",
      "metadata": {
        "pycharm": {
          "metadata": false,
          "name": "#%% md\n"
        }
      }
    },
    {
      "cell_type": "code",
      "execution_count": null,
      "outputs": [],
      "source": "plt.grid(alpha\u003d0.4, linestyle\u003d\u0027:\u0027)",
      "metadata": {
        "pycharm": {
          "metadata": false,
          "name": "#%% \n"
        }
      }
    },
    {
      "cell_type": "markdown",
      "source": "\u003e - alpha：网格大小\n- linestyle：网格绘制样式\n## 绘制网格",
      "metadata": {
        "pycharm": {
          "metadata": false,
          "name": "#%% md\n"
        }
      }
    },
    {
      "cell_type": "code",
      "execution_count": null,
      "outputs": [],
      "source": "plt.legend(prop\u003dmy_font, loc\u003d\"upper left\")",
      "metadata": {
        "pycharm": {
          "metadata": false,
          "name": "#%% \n"
        }
      }
    },
    {
      "cell_type": "markdown",
      "source": "\u003e - prop：字体\n- loc：线条说明label显示在左上角\n## 添加图例",
      "metadata": {
        "pycharm": {
          "metadata": false,
          "name": "#%% md\n"
        }
      }
    },
    {
      "cell_type": "code",
      "execution_count": null,
      "outputs": [],
      "source": "y_3 \u003d [11, 17, 16, 11, 12, 11, 12, 6, 6, 7, 8, 9, 12, 15, 14, 17, 18, 21, 16, 17, 20, 14, 15, 15, 15, 19, 21, 22, 22,\n       22, 23]\ny_10 \u003d [26, 26, 28, 19, 21, 17, 16, 19, 18, 20, 20, 19, 22, 23, 17, 20, 21, 20, 22, 15, 11, 15, 5, 13, 17, 10, 11, 13,\n        12, 13, 6]\n\nx_3 \u003d range(1, 32)\nx_10 \u003d range(51, 82)",
      "metadata": {
        "pycharm": {
          "metadata": false,
          "name": "#%%\n"
        }
      }
    },
    {
      "cell_type": "code",
      "execution_count": null,
      "outputs": [],
      "source": "plt.scatter(x_3, y_3, label\u003d\"3月份\")\nplt.scatter(x_10, y_10, label\u003d\"10月份\")",
      "metadata": {
        "pycharm": {
          "metadata": false,
          "name": "#%% \n"
        }
      }
    },
    {
      "cell_type": "markdown",
      "source": "## 绘制散点图",
      "metadata": {
        "pycharm": {
          "metadata": false,
          "name": "#%% md\n"
        }
      }
    },
    {
      "cell_type": "code",
      "execution_count": null,
      "outputs": [],
      "source": "plt.xlabel(\"时间\", fontproperties\u003dmy_font)\nplt.ylabel(\"温度\", fontproperties\u003dmy_font)\nplt.title(\"标题\", fontproperties\u003dmy_font)",
      "metadata": {
        "pycharm": {
          "metadata": false,
          "name": "#%%\n"
        }
      }
    },
    {
      "cell_type": "markdown",
      "source": "## 添加描述信息",
      "metadata": {
        "pycharm": {
          "metadata": false,
          "name": "#%% md\n"
        }
      }
    },
    {
      "cell_type": "code",
      "execution_count": null,
      "outputs": [],
      "source": "a \u003d [\"战狼2\", \"速度与激情8\", \"功夫瑜伽\", \"西游伏妖篇\", \"变形金刚5：最后的骑士\", \"摔跤吧！爸爸\", \"加勒比海盗5：死无对证\", \"金刚：骷髅岛\", \"极限特工：终极回归\", \"生化危机6：终章\",\n     \"乘风破浪\", \"神偷奶爸3\", \"智取威虎山\", \"大闹天竺\", \"金刚狼3：殊死一战\", \"蜘蛛侠：英雄归来\", \"悟空传\", \"银河护卫队2\", \"情圣\", \"新木乃伊\", ]\nb \u003d [56.01, 26.94, 17.53, 16.49, 15.45, 12.96, 11.8, 11.61, 11.28, 11.12, 10.49, 10.3, 8.75, 7.55, 7.32, 6.99, 6.88,\n     6.86, 6.58, 6.23]",
      "metadata": {
        "pycharm": {
          "metadata": false,
          "name": "#%%\n"
        }
      }
    },
    {
      "cell_type": "code",
      "execution_count": null,
      "outputs": [],
      "source": "plt.bar(range(len(a)), b, width\u003d0.3)",
      "metadata": {
        "pycharm": {
          "metadata": false,
          "name": "#%%\n"
        }
      }
    },
    {
      "cell_type": "markdown",
      "source": "## 绘制立条形图",
      "metadata": {
        "pycharm": {
          "metadata": false,
          "name": "#%% md\n"
        }
      }
    },
    {
      "cell_type": "code",
      "execution_count": null,
      "outputs": [],
      "source": "plt.barh(range(len(a)), b, height\u003d0.3, color\u003d\"orange\")",
      "metadata": {
        "pycharm": {
          "metadata": false,
          "name": "#%%\n"
        }
      }
    },
    {
      "cell_type": "markdown",
      "source": "## 绘制横条形图",
      "metadata": {
        "pycharm": {
          "metadata": false,
          "name": "#%% md\n"
        }
      }
    },
    {
      "cell_type": "markdown",
      "source": "\u003e - d \u003d 组距\n\u003e - 组数 \u003d （max-min）/d\n## 组数计算",
      "metadata": {
        "pycharm": {
          "metadata": false,
          "name": "#%% md\n"
        }
      }
    },
    {
      "cell_type": "code",
      "execution_count": null,
      "outputs": [],
      "source": "num_bins \u003d 28 #组数\nplt.hist(a, num_bins, density\u003dTrue)",
      "metadata": {
        "pycharm": {
          "metadata": false,
          "name": "#%% \n"
        }
      }
    },
    {
      "cell_type": "markdown",
      "source": "\u003e - density：概率分布（默认是个数）\n## 绘制直方图",
      "metadata": {
        "pycharm": {
          "metadata": false,
          "name": "#%% md\n"
        }
      }
    }
  ],
  "metadata": {
    "language_info": {
      "codemirror_mode": {
        "name": "ipython",
        "version": 2
      },
      "file_extension": ".py",
      "mimetype": "text/x-python",
      "name": "python",
      "nbconvert_exporter": "python",
      "pygments_lexer": "ipython2",
      "version": "2.7.6"
    },
    "kernelspec": {
      "name": "pycharm-d20dfcbc",
      "language": "python",
      "display_name": "PyCharm (爬虫库)"
    }
  },
  "nbformat": 4,
  "nbformat_minor": 0
}