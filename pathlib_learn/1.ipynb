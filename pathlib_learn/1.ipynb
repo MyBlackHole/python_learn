{
 "cells": [
  {
   "cell_type": "code",
   "execution_count": 1,
   "outputs": [],
   "source": [
    "from pathlib import Path"
   ],
   "metadata": {
    "collapsed": false,
    "pycharm": {
     "name": "#%%\n"
    }
   }
  },
  {
   "cell_type": "markdown",
   "source": [
    "- 文件详细信息"
   ],
   "metadata": {
    "collapsed": false
   }
  },
  {
   "cell_type": "code",
   "execution_count": 5,
   "outputs": [
    {
     "data": {
      "text/plain": "os.stat_result(st_mode=33206, st_ino=3940649673949265, st_dev=1712554867, st_nlink=1, st_uid=0, st_gid=0, st_size=9, st_atime=1587377027, st_mtime=1586398481, st_ctime=1587377027)"
     },
     "execution_count": 5,
     "metadata": {},
     "output_type": "execute_result"
    }
   ],
   "source": [
    "Path('address.txt').stat()"
   ],
   "metadata": {
    "collapsed": false,
    "pycharm": {
     "name": "#%%\n"
    }
   }
  },
  {
   "cell_type": "markdown",
   "source": [
    "- 文件创建时间"
   ],
   "metadata": {
    "collapsed": false
   }
  },
  {
   "cell_type": "code",
   "execution_count": 6,
   "outputs": [
    {
     "data": {
      "text/plain": "1587377027.984466"
     },
     "execution_count": 6,
     "metadata": {},
     "output_type": "execute_result"
    }
   ],
   "source": [
    "Path('address.txt').stat().st_ctime"
   ],
   "metadata": {
    "collapsed": false,
    "pycharm": {
     "name": "#%%\n"
    }
   }
  },
  {
   "cell_type": "markdown",
   "source": [
    "- 文件更新时间"
   ],
   "metadata": {
    "collapsed": false
   }
  },
  {
   "cell_type": "code",
   "execution_count": 7,
   "outputs": [
    {
     "data": {
      "text/plain": "1586398481.533"
     },
     "execution_count": 7,
     "metadata": {},
     "output_type": "execute_result"
    }
   ],
   "source": [
    "Path('address.txt').stat().st_mtime"
   ],
   "metadata": {
    "collapsed": false,
    "pycharm": {
     "name": "#%%\n"
    }
   }
  },
  {
   "cell_type": "markdown",
   "source": [
    "- 目录创建"
   ],
   "metadata": {
    "collapsed": false,
    "pycharm": {
     "name": "#%% md\n"
    }
   }
  },
  {
   "cell_type": "code",
   "execution_count": 10,
   "outputs": [],
   "source": [
    "Path('a').mkdir(exist_ok=True)"
   ],
   "metadata": {
    "collapsed": false,
    "pycharm": {
     "name": "#%%\n"
    }
   }
  },
  {
   "cell_type": "markdown",
   "source": [
    "- 遍历文件夹"
   ],
   "metadata": {
    "collapsed": false,
    "pycharm": {
     "name": "#%% md\n"
    }
   }
  },
  {
   "cell_type": "code",
   "execution_count": 3,
   "outputs": [
    {
     "name": "stdout",
     "output_type": "stream",
     "text": [
      "[WindowsPath('1.ipynb'), WindowsPath('1.py'), WindowsPath('address.txt')]\n",
      "[WindowsPath('1.ipynb'), WindowsPath('1.py'), WindowsPath('address.txt')]\n",
      "[WindowsPath('1.ipynb'), WindowsPath('1.py'), WindowsPath('address.txt')]\n"
     ]
    }
   ],
   "source": [
    "print(list(Path().iterdir()))\n",
    "print(list(Path().glob('*')))\n",
    "print(list(Path().rglob('*')))"
   ],
   "metadata": {
    "collapsed": false,
    "pycharm": {
     "name": "#%%\n"
    }
   }
  },
  {
   "cell_type": "markdown",
   "source": [
    "- 常规操作"
   ],
   "metadata": {
    "collapsed": false,
    "pycharm": {
     "name": "#%% md\n"
    }
   }
  },
  {
   "cell_type": "code",
   "execution_count": 8,
   "outputs": [
    {
     "name": "stdout",
     "output_type": "stream",
     "text": [
      "pathlib_learn\n",
      "pathlib_learn\n",
      "\n",
      "D:\\PycharmProjects\\Test\n",
      "D:\\PycharmProjects\\Test\n",
      "('D:\\\\', 'PycharmProjects', 'Test', 'pathlib_learn')\n"
     ]
    }
   ],
   "source": [
    "p = Path('D:\\PycharmProjects\\Test\\pathlib_learn')\n",
    "# 文件名\n",
    "print(p.name)\n",
    "\n",
    "# 文件名（无后缀）\n",
    "print(p.stem)\n",
    "\n",
    "# 文件的后缀\n",
    "print(p.suffix)\n",
    "\n",
    "# 文件的后缀们\n",
    "# print(p.suffixs)\n",
    "\n",
    "# 父目录名\n",
    "print(p.parent)\n",
    "\n",
    "# 父目录名们(iterable)\n",
    "print(p.parent)\n",
    "\n",
    "# 路径元组\n",
    "print(p.parts)"
   ],
   "metadata": {
    "collapsed": false,
    "pycharm": {
     "name": "#%%\n"
    }
   }
  }
 ],
 "metadata": {
  "kernelspec": {
   "display_name": "Python 3",
   "language": "python",
   "name": "python3"
  },
  "language_info": {
   "codemirror_mode": {
    "name": "ipython",
    "version": 2
   },
   "file_extension": ".py",
   "mimetype": "text/x-python",
   "name": "python",
   "nbconvert_exporter": "python",
   "pygments_lexer": "ipython2",
   "version": "2.7.6"
  }
 },
 "nbformat": 4,
 "nbformat_minor": 0
}