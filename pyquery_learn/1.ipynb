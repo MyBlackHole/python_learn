{
 "cells": [
  {
   "cell_type": "code",
   "execution_count": null,
   "metadata": {
    "collapsed": true
   },
   "outputs": [],
   "source": [
    "from pyquery import PyQuery as pq\n",
    "html = '''\n",
    "    <div id=\"wrap\">\n",
    "        <ul class=\"s_from\">\n",
    "            asdasd\n",
    "            <link href=\"http://asda.com\">asdadasdad12312</link>\n",
    "            <link href=\"http://asda1.com\">asdadasdad12312</link>\n",
    "            <link href=\"http://asda2.com\">asdadasdad12312</link>\n",
    "        </ul>\n",
    "    </div>\n",
    "'''\n",
    "doc = pq(html)\n",
    "print(doc(\"#wrap .s_from link\"))\n"
   ]
  }
 ],
 "metadata": {
  "kernelspec": {
   "display_name": "Python 3",
   "language": "python",
   "name": "python3"
  },
  "language_info": {
   "codemirror_mode": {
    "name": "ipython",
    "version": 2
   },
   "file_extension": ".py",
   "mimetype": "text/x-python",
   "name": "python",
   "nbconvert_exporter": "python",
   "pygments_lexer": "ipython2",
   "version": "2.7.6"
  }
 },
 "nbformat": 4,
 "nbformat_minor": 0
}