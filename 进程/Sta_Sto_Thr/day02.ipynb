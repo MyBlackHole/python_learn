{
 "cells": [
  {
   "cell_type": "markdown",
   "metadata": {
    "collapsed": true,
    "pycharm": {
     "name": "#%% md\n"
    }
   },
   "source": [
    "## 避免死锁"
   ]
  },
  {
   "cell_type": "code",
   "execution_count": 2,
   "outputs": [],
   "source": [
    "import threading\n",
    "from contextlib import contextmanager\n",
    "\n",
    "# 线程本地状态到已获取的锁的存储信息\n",
    "_local = threading.local()\n",
    "\n",
    "# 管理上下文\n",
    "@contextmanager\n",
    "def acquire(*locks):\n",
    "    # 按对象标识符排序锁\n",
    "    locks = sorted(locks, key=lambda x: id(x))\n",
    "\n",
    "    # 确保不违反以前获取的锁的锁定顺序\n",
    "    acquired = getattr(_local,'acquired',[])\n",
    "    if acquired and max(id(lock) for lock in acquired) >= id(locks[0]):\n",
    "        raise RuntimeError('Lock Order Violation')\n",
    "\n",
    "    # 获取所有锁\n",
    "    acquired.extend(locks)\n",
    "    _local.acquired = acquired\n",
    "\n",
    "    try:\n",
    "        for lock in locks:\n",
    "            lock.acquire()\n",
    "        yield\n",
    "    finally:\n",
    "        # 以与采集相反的顺序释放锁定\n",
    "        for lock in reversed(locks):\n",
    "            lock.release()\n",
    "        del acquired[-len(locks):]"
   ],
   "metadata": {
    "collapsed": false,
    "pycharm": {
     "name": "#%%\n",
     "is_executing": false
    }
   }
  },
  {
   "cell_type": "code",
   "execution_count": 2,
   "outputs": [
    {
     "name": "stdout",
     "text": [
      "Thread-1\nThread-1\nThread-1\nThread-1\n",
      "Thread-2\nThread-1\nThread-2\nThread-1\nThread-2\nThread-1\nThread-2\n"
     ],
     "output_type": "stream"
    }
   ],
   "source": [
    "import threading\n",
    "x_lock = threading.Lock()\n",
    "y_lock = threading.Lock()\n",
    "\n",
    "def thread_1():\n",
    "    while True:\n",
    "        with acquire(x_lock, y_lock):\n",
    "            print('Thread-1')\n",
    "\n",
    "def thread_2():\n",
    "    while True:\n",
    "        with acquire(y_lock, x_lock):\n",
    "            print('Thread-2')\n",
    "\n",
    "# t1 = threading.Thread(target=thread_1)\n",
    "# t1.daemon = True\n",
    "# t1.start()\n",
    "# \n",
    "# t2 = threading.Thread(target=thread_2)\n",
    "# t2.daemon = True\n",
    "# t2.start()\n"
   ],
   "metadata": {
    "collapsed": false,
    "pycharm": {
     "name": "#%%\n",
     "is_executing": false
    }
   }
  },
  {
   "cell_type": "markdown",
   "source": [
    "## 死锁避免"
   ],
   "metadata": {
    "collapsed": false,
    "pycharm": {
     "name": "#%% md\n"
    }
   }
  },
  {
   "cell_type": "code",
   "execution_count": 3,
   "outputs": [
    {
     "name": "stdout",
     "text": [
      "<Thread(Thread-9, started 139663234803456)> eating\n<Thread(Thread-9, started 139663234803456)> eating\n<Thread(Thread-9, started 139663234803456)> eating\n<Thread(Thread-9, started 139663234803456)> eating\n<Thread(Thread-9, started 139663234803456)> eating\n<Thread(Thread-9, started 139663234803456)> eating\n<Thread(Thread-9, started 139663234803456)> eating\n<Thread(Thread-9, started 139663234803456)> eating\n<Thread(Thread-9, started 139663234803456)> eating\n<Thread(Thread-9, started 139663234803456)> eating\n<Thread(Thread-9, started 139663234803456)> eating\n<Thread(Thread-9, started 139663234803456)> eating\n<Thread(Thread-9, started 139663234803456)> eating\n<Thread(Thread-9, started 139663234803456)> eating\n<Thread(Thread-9, started 139663234803456)> eating\n<Thread(Thread-9, started 139663234803456)> eating\n<Thread(Thread-9, started 139663234803456)> eating\n<Thread(Thread-9, started 139663234803456)> eating\n<Thread(Thread-9, started 139663234803456)> eating\n<Thread(Thread-9, started 139663234803456)> <Thread(Thread-11, started 139662672787200)> eating\n<Thread(Thread-11, started 139662672787200)> eatingeating\n\n<Thread(Thread-12, started 139662664394496)>",
      " eating\n<Thread(Thread-13, started 139662656001792)> eating\n<Thread(Thread-11, started 139662672787200)> eating\n<Thread(Thread-12, started 139662664394496)> eating\n<Thread(Thread-13, started 139662656001792)><Thread(Thread-10, started 139663226410752)> eating\n <Thread(Thread-12, started 139662664394496)>eating\n eating\n<Thread(Thread-9, started 139663234803456)> "
     ],
     "output_type": "stream"
    }
   ],
   "source": [
    "import threading\n",
    "\n",
    "# The philosopher thread\n",
    "def philosopher(left, right):\n",
    "    while True:\n",
    "        with acquire(left,right):\n",
    "             print(threading.currentThread(), 'eating')\n",
    "\n",
    "# The chopsticks (represented by locks)\n",
    "NSTICKS = 5\n",
    "chopsticks = [threading.Lock() for n in range(NSTICKS)]\n",
    "\n",
    "# Create all of the philosophers\n",
    "for n in range(NSTICKS):\n",
    "    t = threading.Thread(target=philosopher,\n",
    "                         args=(chopsticks[n],chopsticks[(n+1) % NSTICKS]))\n",
    "    t.start()\n"
   ],
   "metadata": {
    "collapsed": false,
    "pycharm": {
     "name": "#%%\n",
     "is_executing": false
    }
   }
  }
 ],
 "metadata": {
  "kernelspec": {
   "display_name": "PyCharm (面试学习)",
   "language": "python",
   "name": "pycharm-80b020a5"
  },
  "language_info": {
   "codemirror_mode": {
    "name": "ipython",
    "version": 2
   },
   "file_extension": ".py",
   "mimetype": "text/x-python",
   "name": "python",
   "nbconvert_exporter": "python",
   "pygments_lexer": "ipython2",
   "version": "2.7.6"
  },
  "pycharm": {
   "stem_cell": {
    "cell_type": "raw",
    "source": [],
    "metadata": {
     "collapsed": false
    }
   }
  }
 },
 "nbformat": 4,
 "nbformat_minor": 0
}