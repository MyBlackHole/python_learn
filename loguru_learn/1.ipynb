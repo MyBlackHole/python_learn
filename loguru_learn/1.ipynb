{
 "cells": [
  {
   "cell_type": "markdown",
   "source": [
    "- 日记输出"
   ],
   "metadata": {
    "collapsed": false,
    "pycharm": {
     "name": "#%% md\n"
    }
   }
  },
  {
   "cell_type": "code",
   "execution_count": 1,
   "metadata": {
    "collapsed": true
   },
   "outputs": [
    {
     "name": "stderr",
     "output_type": "stream",
     "text": [
      "2020-05-17 17:12:36.458 | DEBUG    | __main__:<module>:2 - 这是一条debug日志\n"
     ]
    }
   ],
   "source": [
    "from loguru import logger\n",
    "logger.debug(\"这是一条debug日志\")"
   ]
  },
  {
   "cell_type": "markdown",
   "source": [
    "- 输出到文件"
   ],
   "metadata": {
    "collapsed": false,
    "pycharm": {
     "name": "#%% md\n"
    }
   }
  },
  {
   "cell_type": "code",
   "execution_count": 2,
   "outputs": [
    {
     "name": "stderr",
     "output_type": "stream",
     "text": [
      "2020-05-17 17:14:55.569 | DEBUG    | __main__:<module>:3 - 这是一条debug日志\n",
      "2020-05-17 17:14:55.571 | INFO     | __main__:<module>:4 - 这是一条info日志\n"
     ]
    }
   ],
   "source": [
    "from loguru import logger\n",
    "logger.add(\"file_{time}.log\", encoding=\"utf-8\")\n",
    "logger.debug(\"这是一条debug日志\")\n",
    "logger.info(\"这是一条info日志\")"
   ],
   "metadata": {
    "collapsed": false,
    "pycharm": {
     "name": "#%%\n"
    }
   }
  },
  {
   "cell_type": "markdown",
   "source": [
    "- 日志规则"
   ],
   "metadata": {
    "collapsed": false,
    "pycharm": {
     "name": "#%% md\n"
    }
   }
  },
  {
   "cell_type": "code",
   "execution_count": 2,
   "outputs": [
    {
     "name": "stderr",
     "output_type": "stream",
     "text": [
      "2020-05-17 17:19:26.889 | DEBUG    | __main__:<module>:3 - 这是一条debug日志\n",
      "2020-05-17 17:19:26.890 | INFO     | __main__:<module>:4 - 这是一条info日志\n"
     ]
    }
   ],
   "source": [
    "from loguru import logger\n",
    "logger.add(\"file.log\", format=\"{time} {level} {message}\", filter=\"\", level=\"INFO\", encoding=\"utf-8\")\n",
    "logger.debug(\"这是一条debug日志\")\n",
    "logger.info(\"这是一条info日志\")"
   ],
   "metadata": {
    "collapsed": false,
    "pycharm": {
     "name": "#%%\n"
    }
   }
  },
  {
   "cell_type": "code",
   "execution_count": 4,
   "outputs": [
    {
     "name": "stderr",
     "output_type": "stream",
     "text": [
      "2020-05-17 17:23:48.039 | INFO     | __main__:<module>:3 - 可以写日志了\n"
     ]
    }
   ],
   "source": [
    "from loguru import logger\n",
    "logger.add('logs/z_project.log',level='DEBUG',format='{time:YYYY-MM-DD:mm:ss} - {level} - {file} - {line} - {message}',rotation=\"10 MB\", encoding='utf-8')\n",
    "logger.info('可以写日志了')"
   ],
   "metadata": {
    "collapsed": false,
    "pycharm": {
     "name": "#%%\n"
    }
   }
  },
  {
   "cell_type": "markdown",
   "source": [
    "- 捕获异常"
   ],
   "metadata": {
    "collapsed": false,
    "pycharm": {
     "name": "#%% md\n"
    }
   }
  },
  {
   "cell_type": "code",
   "execution_count": null,
   "outputs": [],
   "source": [
    "from loguru import logger\n",
    "@logger.catch\n",
    "def my_function(x, y, z):\n",
    "    # An error? It's caught anyway!\n",
    "    return 1 / (x + y + z)"
   ],
   "metadata": {
    "collapsed": false,
    "pycharm": {
     "name": "#%%\n"
    }
   }
  },
  {
   "cell_type": "markdown",
   "source": [
    "- 全描述异常"
   ],
   "metadata": {
    "collapsed": false,
    "pycharm": {
     "name": "#%% md\n"
    }
   }
  },
  {
   "cell_type": "code",
   "execution_count": 1,
   "outputs": [
    {
     "name": "stderr",
     "output_type": "stream",
     "text": [
      "2020-05-17 18:02:25.610 | ERROR    | __main__:<module>:7 - 异常堆栈\n",
      "Traceback (most recent call last):\n",
      "\n",
      "  File \"c:\\users\\myisb\\appdata\\local\\programs\\python\\python37\\lib\\runpy.py\", line 193, in _run_module_as_main\n",
      "    \"__main__\", mod_spec)\n",
      "                └ ModuleSpec(name='ipykernel_launcher', loader=<_frozen_importlib_external.SourceFileLoader object at 0x0000020226E43048>, orig...\n",
      "\n",
      "  File \"c:\\users\\myisb\\appdata\\local\\programs\\python\\python37\\lib\\runpy.py\", line 85, in _run_code\n",
      "    exec(code, run_globals)\n",
      "         │     └ {'__name__': '__main__', '__doc__': 'Entry point for launching an IPython kernel.\\n\\nThis is separate from the ipykernel pack...\n",
      "         └ <code object <module> at 0x0000020226E3F300, file \"c:\\users\\myisb\\appdata\\local\\programs\\python\\python37\\lib\\site-packages\\ip...\n",
      "\n",
      "  File \"c:\\users\\myisb\\appdata\\local\\programs\\python\\python37\\lib\\site-packages\\ipykernel_launcher.py\", line 16, in <module>\n",
      "    app.launch_new_instance()\n",
      "    │   └ <bound method Application.launch_instance of <class 'ipykernel.kernelapp.IPKernelApp'>>\n",
      "    └ <module 'ipykernel.kernelapp' from 'c:\\\\users\\\\myisb\\\\appdata\\\\local\\\\programs\\\\python\\\\python37\\\\lib\\\\site-packages\\\\ipykern...\n",
      "\n",
      "  File \"c:\\users\\myisb\\appdata\\local\\programs\\python\\python37\\lib\\site-packages\\traitlets\\config\\application.py\", line 664, in launch_instance\n",
      "    app.start()\n",
      "    │   └ <function IPKernelApp.start at 0x0000020229558558>\n",
      "    └ <ipykernel.kernelapp.IPKernelApp object at 0x00000202251A5488>\n",
      "\n",
      "  File \"c:\\users\\myisb\\appdata\\local\\programs\\python\\python37\\lib\\site-packages\\ipykernel\\kernelapp.py\", line 583, in start\n",
      "    self.io_loop.start()\n",
      "    │    │       └ <function BaseAsyncIOLoop.start at 0x0000020228C08D38>\n",
      "    │    └ <tornado.platform.asyncio.AsyncIOMainLoop object at 0x00000202295CC208>\n",
      "    └ <ipykernel.kernelapp.IPKernelApp object at 0x00000202251A5488>\n",
      "\n",
      "  File \"c:\\users\\myisb\\appdata\\local\\programs\\python\\python37\\lib\\site-packages\\tornado\\platform\\asyncio.py\", line 149, in start\n",
      "    self.asyncio_loop.run_forever()\n",
      "    │    │            └ <function BaseEventLoop.run_forever at 0x0000020227F33C18>\n",
      "    │    └ <_WindowsSelectorEventLoop running=True closed=False debug=False>\n",
      "    └ <tornado.platform.asyncio.AsyncIOMainLoop object at 0x00000202295CC208>\n",
      "\n",
      "  File \"c:\\users\\myisb\\appdata\\local\\programs\\python\\python37\\lib\\asyncio\\base_events.py\", line 541, in run_forever\n",
      "    self._run_once()\n",
      "    │    └ <function BaseEventLoop._run_once at 0x0000020227F36708>\n",
      "    └ <_WindowsSelectorEventLoop running=True closed=False debug=False>\n",
      "\n",
      "  File \"c:\\users\\myisb\\appdata\\local\\programs\\python\\python37\\lib\\asyncio\\base_events.py\", line 1786, in _run_once\n",
      "    handle._run()\n",
      "    │      └ <function Handle._run at 0x0000020227EE6DC8>\n",
      "    └ <Handle IOLoop.add_future.<locals>.<lambda>(<Future finis...2948>, ...]))>) at c:\\users\\myisb\\appdata\\local\\programs\\python\\p...\n",
      "\n",
      "  File \"c:\\users\\myisb\\appdata\\local\\programs\\python\\python37\\lib\\asyncio\\events.py\", line 88, in _run\n",
      "    self._context.run(self._callback, *self._args)\n",
      "    │    │            │    │           │    └ <member '_args' of 'Handle' objects>\n",
      "    │    │            │    │           └ <Handle IOLoop.add_future.<locals>.<lambda>(<Future finis...2948>, ...]))>) at c:\\users\\myisb\\appdata\\local\\programs\\python\\p...\n",
      "    │    │            │    └ <member '_callback' of 'Handle' objects>\n",
      "    │    │            └ <Handle IOLoop.add_future.<locals>.<lambda>(<Future finis...2948>, ...]))>) at c:\\users\\myisb\\appdata\\local\\programs\\python\\p...\n",
      "    │    └ <member '_context' of 'Handle' objects>\n",
      "    └ <Handle IOLoop.add_future.<locals>.<lambda>(<Future finis...2948>, ...]))>) at c:\\users\\myisb\\appdata\\local\\programs\\python\\p...\n",
      "\n",
      "  File \"c:\\users\\myisb\\appdata\\local\\programs\\python\\python37\\lib\\site-packages\\tornado\\ioloop.py\", line 690, in <lambda>\n",
      "    lambda f: self._run_callback(functools.partial(callback, future))\n",
      "           │  │    │             │         │       │         └ <Future finished result=(10, 1, <bound method...0202295CCA48>>, (<zmq.eventloo...00202295C1FC8>, [<zmq.sugar.fr...00202296325...\n",
      "           │  │    │             │         │       └ <function Runner.handle_yield.<locals>.inner at 0x0000020229558C18>\n",
      "           │  │    │             │         └ <class 'functools.partial'>\n",
      "           │  │    │             └ <module 'functools' from 'c:\\\\users\\\\myisb\\\\appdata\\\\local\\\\programs\\\\python\\\\python37\\\\lib\\\\functools.py'>\n",
      "           │  │    └ <function IOLoop._run_callback at 0x0000020228BFAEE8>\n",
      "           │  └ <tornado.platform.asyncio.AsyncIOMainLoop object at 0x00000202295CC208>\n",
      "           └ <Future finished result=(10, 1, <bound method...0202295CCA48>>, (<zmq.eventloo...00202295C1FC8>, [<zmq.sugar.fr...00202296325...\n",
      "\n",
      "  File \"c:\\users\\myisb\\appdata\\local\\programs\\python\\python37\\lib\\site-packages\\tornado\\ioloop.py\", line 743, in _run_callback\n",
      "    ret = callback()\n",
      "          └ functools.partial(<function Runner.handle_yield.<locals>.inner at 0x0000020229558C18>, <Future finished result=(10, 1, <bound...\n",
      "\n",
      "  File \"c:\\users\\myisb\\appdata\\local\\programs\\python\\python37\\lib\\site-packages\\tornado\\gen.py\", line 787, in inner\n",
      "    self.run()\n",
      "    │    └ <function Runner.run at 0x0000020228C23AF8>\n",
      "    └ <tornado.gen.Runner object at 0x0000020228CDD088>\n",
      "\n",
      "  File \"c:\\users\\myisb\\appdata\\local\\programs\\python\\python37\\lib\\site-packages\\tornado\\gen.py\", line 748, in run\n",
      "    yielded = self.gen.send(value)\n",
      "              │    │   │    └ (10, 1, <bound method Kernel.dispatch_shell of <ipykernel.ipkernel.IPythonKernel object at 0x00000202295CCA48>>, (<zmq.eventl...\n",
      "              │    │   └ <method 'send' of 'generator' objects>\n",
      "              │    └ <generator object Kernel.process_one at 0x00000202295FC9C8>\n",
      "              └ <tornado.gen.Runner object at 0x0000020228CDD088>\n",
      "\n",
      "  File \"c:\\users\\myisb\\appdata\\local\\programs\\python\\python37\\lib\\site-packages\\ipykernel\\kernelbase.py\", line 365, in process_one\n",
      "    yield gen.maybe_future(dispatch(*args))\n",
      "          │   │            │         └ (<zmq.eventloop.zmqstream.ZMQStream object at 0x00000202295C1FC8>, [<zmq.sugar.frame.Frame object at 0x0000020229632588>, <zm...\n",
      "          │   │            └ <bound method Kernel.dispatch_shell of <ipykernel.ipkernel.IPythonKernel object at 0x00000202295CCA48>>\n",
      "          │   └ <function maybe_future at 0x0000020228C23708>\n",
      "          └ <module 'tornado.gen' from 'c:\\\\users\\\\myisb\\\\appdata\\\\local\\\\programs\\\\python\\\\python37\\\\lib\\\\site-packages\\\\tornado\\\\gen.py'>\n",
      "\n",
      "  File \"c:\\users\\myisb\\appdata\\local\\programs\\python\\python37\\lib\\site-packages\\tornado\\gen.py\", line 209, in wrapper\n",
      "    yielded = next(result)\n",
      "                   └ <generator object Kernel.dispatch_shell at 0x00000202295FC848>\n",
      "\n",
      "  File \"c:\\users\\myisb\\appdata\\local\\programs\\python\\python37\\lib\\site-packages\\ipykernel\\kernelbase.py\", line 268, in dispatch_shell\n",
      "    yield gen.maybe_future(handler(stream, idents, msg))\n",
      "          │   │            │       │       │       └ {'header': {'msg_id': 'c528a140-4c5a-4196-bdb0-6d56e1c6cd35', 'username': 'username', 'session': 'e9dba051-2824-40fe-affc-392...\n",
      "          │   │            │       │       └ [b'f4442200-82625dca0c07e76dcf9ee4ca']\n",
      "          │   │            │       └ <zmq.eventloop.zmqstream.ZMQStream object at 0x00000202295C1FC8>\n",
      "          │   │            └ <bound method Kernel.execute_request of <ipykernel.ipkernel.IPythonKernel object at 0x00000202295CCA48>>\n",
      "          │   └ <function maybe_future at 0x0000020228C23708>\n",
      "          └ <module 'tornado.gen' from 'c:\\\\users\\\\myisb\\\\appdata\\\\local\\\\programs\\\\python\\\\python37\\\\lib\\\\site-packages\\\\tornado\\\\gen.py'>\n",
      "\n",
      "  File \"c:\\users\\myisb\\appdata\\local\\programs\\python\\python37\\lib\\site-packages\\tornado\\gen.py\", line 209, in wrapper\n",
      "    yielded = next(result)\n",
      "                   └ <generator object Kernel.execute_request at 0x00000202295FCAC8>\n",
      "\n",
      "  File \"c:\\users\\myisb\\appdata\\local\\programs\\python\\python37\\lib\\site-packages\\ipykernel\\kernelbase.py\", line 545, in execute_request\n",
      "    user_expressions, allow_stdin,\n",
      "    │                 └ True\n",
      "    └ {}\n",
      "\n",
      "  File \"c:\\users\\myisb\\appdata\\local\\programs\\python\\python37\\lib\\site-packages\\tornado\\gen.py\", line 209, in wrapper\n",
      "    yielded = next(result)\n",
      "                   └ <generator object IPythonKernel.do_execute at 0x00000202295FCBC8>\n",
      "\n",
      "  File \"c:\\users\\myisb\\appdata\\local\\programs\\python\\python37\\lib\\site-packages\\ipykernel\\ipkernel.py\", line 300, in do_execute\n",
      "    res = shell.run_cell(code, store_history=store_history, silent=silent)\n",
      "          │     │        │                   │                     └ False\n",
      "          │     │        │                   └ True\n",
      "          │     │        └ '\\nfrom loguru import logger\\nlogger.add(\"output.log\", backtrace=True, diagnose=True, encoding=\\'utf-8\\')  # Set \\'False\\' to...\n",
      "          │     └ <function ZMQInteractiveShell.run_cell at 0x000002022953FB88>\n",
      "          └ <ipykernel.zmqshell.ZMQInteractiveShell object at 0x0000020228CD4C48>\n",
      "\n",
      "  File \"c:\\users\\myisb\\appdata\\local\\programs\\python\\python37\\lib\\site-packages\\ipykernel\\zmqshell.py\", line 536, in run_cell\n",
      "    return super(ZMQInteractiveShell, self).run_cell(*args, **kwargs)\n",
      "                 │                    │               │       └ {'store_history': True, 'silent': False}\n",
      "                 │                    │               └ ('\\nfrom loguru import logger\\nlogger.add(\"output.log\", backtrace=True, diagnose=True, encoding=\\'utf-8\\')  # Set \\'False\\' t...\n",
      "                 │                    └ <ipykernel.zmqshell.ZMQInteractiveShell object at 0x0000020228CD4C48>\n",
      "                 └ <class 'ipykernel.zmqshell.ZMQInteractiveShell'>\n",
      "\n",
      "  File \"c:\\users\\myisb\\appdata\\local\\programs\\python\\python37\\lib\\site-packages\\IPython\\core\\interactiveshell.py\", line 2858, in run_cell\n",
      "    raw_cell, store_history, silent, shell_futures)\n",
      "    │         │              │       └ True\n",
      "    │         │              └ False\n",
      "    │         └ True\n",
      "    └ '\\nfrom loguru import logger\\nlogger.add(\"output.log\", backtrace=True, diagnose=True, encoding=\\'utf-8\\')  # Set \\'False\\' to...\n",
      "\n",
      "  File \"c:\\users\\myisb\\appdata\\local\\programs\\python\\python37\\lib\\site-packages\\IPython\\core\\interactiveshell.py\", line 2886, in _run_cell\n",
      "    return runner(coro)\n",
      "           │      └ <coroutine object InteractiveShell.run_cell_async at 0x00000202295FCD48>\n",
      "           └ <function _pseudo_sync_runner at 0x0000020227DE2C18>\n",
      "\n",
      "  File \"c:\\users\\myisb\\appdata\\local\\programs\\python\\python37\\lib\\site-packages\\IPython\\core\\async_helpers.py\", line 68, in _pseudo_sync_runner\n",
      "    coro.send(None)\n",
      "    │    └ <method 'send' of 'coroutine' objects>\n",
      "    └ <coroutine object InteractiveShell.run_cell_async at 0x00000202295FCD48>\n",
      "\n",
      "  File \"c:\\users\\myisb\\appdata\\local\\programs\\python\\python37\\lib\\site-packages\\IPython\\core\\interactiveshell.py\", line 3063, in run_cell_async\n",
      "    interactivity=interactivity, compiler=compiler, result=result)\n",
      "                  │                       │                └ <ExecutionResult object at 20229631908, execution_count=1 error_before_exec=None error_in_exec=None info=<ExecutionInfo objec...\n",
      "                  │                       └ <IPython.core.compilerop.CachingCompiler object at 0x00000202295D5E88>\n",
      "                  └ 'last_expr'\n",
      "\n",
      "  File \"c:\\users\\myisb\\appdata\\local\\programs\\python\\python37\\lib\\site-packages\\IPython\\core\\interactiveshell.py\", line 3254, in run_ast_nodes\n",
      "    if (await self.run_code(code, result,  async_=asy)):\n",
      "              │    │        │     │               └ False\n",
      "              │    │        │     └ <ExecutionResult object at 20229631908, execution_count=1 error_before_exec=None error_in_exec=None info=<ExecutionInfo objec...\n",
      "              │    │        └ <code object <module> at 0x000002022967AF60, file \"<ipython-input-1-5af8967ada35>\", line 4>\n",
      "              │    └ <function InteractiveShell.run_code at 0x0000020227DF7798>\n",
      "              └ <ipykernel.zmqshell.ZMQInteractiveShell object at 0x0000020228CD4C48>\n",
      "\n",
      "  File \"c:\\users\\myisb\\appdata\\local\\programs\\python\\python37\\lib\\site-packages\\IPython\\core\\interactiveshell.py\", line 3331, in run_code\n",
      "    exec(code_obj, self.user_global_ns, self.user_ns)\n",
      "         │         │    │               │    └ {'__name__': '__main__', '__doc__': 'Automatically created module for IPython interactive environment', '__package__': None, ...\n",
      "         │         │    │               └ <ipykernel.zmqshell.ZMQInteractiveShell object at 0x0000020228CD4C48>\n",
      "         │         │    └ <property object at 0x0000020227DF33B8>\n",
      "         │         └ <ipykernel.zmqshell.ZMQInteractiveShell object at 0x0000020228CD4C48>\n",
      "         └ <code object <module> at 0x000002022967AF60, file \"<ipython-input-1-5af8967ada35>\", line 4>\n",
      "\n",
      "> File \"<ipython-input-1-5af8967ada35>\", line 5, in <module>\n",
      "    a = 1 / 0\n",
      "\n",
      "ZeroDivisionError: division by zero\n"
     ]
    }
   ],
   "source": [
    "from loguru import logger\n",
    "logger.add(\"output.log\", backtrace=True, diagnose=True, encoding='utf-8')  # Set 'False' to not leak sensitive data in prod\n",
    "\n",
    "try:\n",
    "    a = 1 / 0\n",
    "except Exception as e:\n",
    "    logger.exception(\"异常堆栈\")"
   ],
   "metadata": {
    "collapsed": false,
    "pycharm": {
     "name": "#%%\n"
    }
   }
  },
  {
   "cell_type": "code",
   "execution_count": 2,
   "outputs": [
    {
     "name": "stderr",
     "output_type": "stream",
     "text": [
      "2020-05-17 18:55:01.050 | INFO     | __main__:nested:10 - What?!\n"
     ]
    }
   ],
   "source": [
    "# logger.add(\"output.log\", backtrace=True, diagnose=True, encoding='utf-8')  # Set 'False' to not leak sensitive data in prod\n",
    "\n",
    "def func(a, b):\n",
    "    return a / b\n",
    "\n",
    "def nested(c):\n",
    "    try:\n",
    "        func(5, c)\n",
    "    except ZeroDivisionError:\n",
    "        logger.info(\"What?!\")\n",
    "\n",
    "nested(0)\n"
   ],
   "metadata": {
    "collapsed": false,
    "pycharm": {
     "name": "#%%\n"
    }
   }
  }
 ],
 "metadata": {
  "kernelspec": {
   "display_name": "Python 3",
   "language": "python",
   "name": "python3"
  },
  "language_info": {
   "codemirror_mode": {
    "name": "ipython",
    "version": 2
   },
   "file_extension": ".py",
   "mimetype": "text/x-python",
   "name": "python",
   "nbconvert_exporter": "python",
   "pygments_lexer": "ipython2",
   "version": "2.7.6"
  }
 },
 "nbformat": 4,
 "nbformat_minor": 0
}