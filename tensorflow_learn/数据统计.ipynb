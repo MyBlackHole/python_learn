{
 "cells": [
  {
   "cell_type": "code",
   "execution_count": 1,
   "metadata": {},
   "outputs": [],
   "source": [
    "import tensorflow as tf\n",
    "import os\n",
    "os.environ['CUDA_VISIBLE_DEVICES'] = '2'"
   ]
  },
  {
   "cell_type": "code",
   "execution_count": 6,
   "metadata": {},
   "outputs": [
    {
     "name": "stdout",
     "output_type": "stream",
     "text": [
      "tf.Tensor(2.0, shape=(), dtype=float32)\n",
      "tf.Tensor(\n",
      "[[1. 1.]\n",
      " [1. 1.]], shape=(2, 2), dtype=float32)\n",
      "tf.Tensor(10, shape=(), dtype=int32)\n",
      "tf.Tensor(2.0, shape=(), dtype=float32)\n"
     ]
    }
   ],
   "source": [
    "a = tf.ones([2, 2])\n",
    "print(tf.norm(a)) # norm 二范数计算\n",
    "print(tf.square(a)) # square 各自平方\n",
    "print(tf.reduce_sum([[1, 2], [3, 4]])) # reduce_sum 全部求和\n",
    "print(tf.sqrt(tf.reduce_sum(tf.square(a))))"
   ]
  },
  {
   "cell_type": "code",
   "execution_count": 3,
   "metadata": {},
   "outputs": [
    {
     "name": "stdout",
     "output_type": "stream",
     "text": [
      "tf.Tensor([1.4142135 1.4142135], shape=(2,), dtype=float32)\n",
      "tf.Tensor([2. 2.], shape=(2,), dtype=float32)\n",
      "tf.Tensor(4.0, shape=(), dtype=float32)\n"
     ]
    }
   ],
   "source": [
    "print(tf.norm(a, ord=2, axis=0)) # ord = 2 二范数， = 1 一范数; axis 计算的维度\n",
    "print(tf.norm(a, ord=1, axis=0))\n",
    "print(tf.norm(a, ord=1))"
   ]
  },
  {
   "cell_type": "markdown",
   "metadata": {},
   "source": [
    "### min/max/mean"
   ]
  },
  {
   "cell_type": "code",
   "execution_count": 16,
   "metadata": {},
   "outputs": [
    {
     "name": "stdout",
     "output_type": "stream",
     "text": [
      "tf.Tensor(-1.8554432, shape=(), dtype=float32) tf.Tensor(2.868143, shape=(), dtype=float32) tf.Tensor(-0.072711535, shape=(), dtype=float32)\n",
      "tf.Tensor(\n",
      "[-0.91660374 -0.7569457  -1.1649489  -0.7549451  -0.93924606 -1.8554432\n",
      " -1.6354672  -0.69143933 -1.509856   -0.97375596], shape=(10,), dtype=float32) tf.Tensor(\n",
      "[0.28357294 1.3459109  1.9424527  1.3843846  2.868143   0.2985655\n",
      " 1.4510401  0.06139847 0.857607   0.03887277], shape=(10,), dtype=float32) tf.Tensor(\n",
      "[-0.39120507  0.15587378  0.18531549  0.14873765  0.7145338  -0.62698233\n",
      " -0.23693308 -0.35093623 -0.00544402 -0.32007542], shape=(10,), dtype=float32)\n"
     ]
    }
   ],
   "source": [
    "a = tf.random.normal([4, 10])\n",
    "print(tf.reduce_min(a), tf.reduce_max(a), tf.reduce_mean(a))\n",
    "print(tf.reduce_min(a, axis=0), tf.reduce_max(a, axis=0), tf.reduce_mean(a, axis=0)) # 按axis维度判别"
   ]
  },
  {
   "cell_type": "code",
   "execution_count": 17,
   "metadata": {},
   "outputs": [
    {
     "name": "stdout",
     "output_type": "stream",
     "text": [
      "(10,)\n",
      "tf.Tensor([2 3 3 0 0 1 2 1 0 3], shape=(10,), dtype=int64)\n",
      "(10,)\n"
     ]
    }
   ],
   "source": [
    "print(tf.argmax(a).shape) # 最大值位置\n",
    "print(tf.argmax(a))\n",
    "print(tf.argmin(a).shape)"
   ]
  },
  {
   "cell_type": "code",
   "execution_count": 22,
   "metadata": {},
   "outputs": [
    {
     "name": "stdout",
     "output_type": "stream",
     "text": [
      "tf.Tensor([False False False  True  True], shape=(5,), dtype=bool)\n",
      "tf.Tensor([0 0 0 1 1], shape=(5,), dtype=int32)\n",
      "tf.Tensor(2, shape=(), dtype=int32)\n"
     ]
    }
   ],
   "source": [
    "a = tf.constant([1, 2, 3, 3, 4])\n",
    "b = tf.range(5)\n",
    "print(tf.equal(a, b)) # 判断是否相等返回Tensor\n",
    "res = tf.equal(a, b)\n",
    "print(tf.cast(res, dtype=tf.int32)) # 转换数据类型为int\n",
    "print(tf.reduce_sum(tf.cast(res, dtype=tf.int32)))"
   ]
  },
  {
   "cell_type": "code",
   "execution_count": 23,
   "metadata": {},
   "outputs": [
    {
     "data": {
      "text/plain": [
       "<tf.Tensor: id=213, shape=(5,), dtype=int32, numpy=array([1, 2, 3, 3, 4], dtype=int32)>"
      ]
     },
     "execution_count": 23,
     "metadata": {},
     "output_type": "execute_result"
    }
   ],
   "source": [
    "a"
   ]
  },
  {
   "cell_type": "code",
   "execution_count": 29,
   "metadata": {},
   "outputs": [
    {
     "data": {
      "text/plain": [
       "<tf.Tensor: id=239, shape=(2, 3), dtype=float32, numpy=\n",
       "array([[-0.86742175,  0.3751898 , -0.9536958 ],\n",
       "       [ 0.44455117,  0.25821716,  1.2701343 ]], dtype=float32)>"
      ]
     },
     "execution_count": 29,
     "metadata": {},
     "output_type": "execute_result"
    }
   ],
   "source": [
    "a = tf.random.normal([2, 3])\n",
    "a"
   ]
  },
  {
   "cell_type": "code",
   "execution_count": 30,
   "metadata": {},
   "outputs": [
    {
     "data": {
      "text/plain": [
       "<tf.Tensor: id=241, shape=(3,), dtype=int64, numpy=array([1, 0, 1])>"
      ]
     },
     "execution_count": 30,
     "metadata": {},
     "output_type": "execute_result"
    }
   ],
   "source": [
    "tf.argmax(a, axis=0)"
   ]
  },
  {
   "cell_type": "markdown",
   "metadata": {},
   "source": [
    "### 去重"
   ]
  },
  {
   "cell_type": "code",
   "execution_count": 31,
   "metadata": {},
   "outputs": [
    {
     "name": "stdout",
     "output_type": "stream",
     "text": [
      "Unique(y=<tf.Tensor: id=243, shape=(4,), dtype=int32, numpy=array([1, 2, 4, 5], dtype=int32)>, idx=<tf.Tensor: id=244, shape=(5,), dtype=int32, numpy=array([0, 1, 1, 2, 3], dtype=int32)>)\n"
     ]
    }
   ],
   "source": [
    "a = tf.constant([1, 2, 2, 4, 5])\n",
    "print(tf.unique(a))"
   ]
  },
  {
   "cell_type": "code",
   "execution_count": null,
   "metadata": {},
   "outputs": [],
   "source": []
  }
 ],
 "metadata": {
  "kernelspec": {
   "display_name": "Python 3",
   "language": "python",
   "name": "python3"
  },
  "language_info": {
   "codemirror_mode": {
    "name": "ipython",
    "version": 3
   },
   "file_extension": ".py",
   "mimetype": "text/x-python",
   "name": "python",
   "nbconvert_exporter": "python",
   "pygments_lexer": "ipython3",
   "version": "3.6.8"
  }
 },
 "nbformat": 4,
 "nbformat_minor": 2
}
