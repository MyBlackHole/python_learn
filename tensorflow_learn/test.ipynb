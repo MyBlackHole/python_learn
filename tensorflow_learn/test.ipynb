{
 "cells": [
  {
   "cell_type": "code",
   "execution_count": 1,
   "metadata": {},
   "outputs": [],
   "source": [
    "import tensorflow as tf"
   ]
  },
  {
   "cell_type": "code",
   "execution_count": 6,
   "metadata": {},
   "outputs": [
    {
     "data": {
      "text/plain": [
       "<tf.Tensor: id=14, shape=(3, 3), dtype=int32, numpy=\n",
       "array([[3, 3, 3],\n",
       "       [3, 3, 3],\n",
       "       [3, 3, 3]], dtype=int32)>"
      ]
     },
     "execution_count": 6,
     "metadata": {},
     "output_type": "execute_result"
    }
   ],
   "source": [
    "x = tf.fill([3,3], 3)\n",
    "x"
   ]
  },
  {
   "cell_type": "code",
   "execution_count": 7,
   "metadata": {},
   "outputs": [
    {
     "data": {
      "text/plain": [
       "<tf.Tensor: id=16, shape=(), dtype=int32, numpy=3>"
      ]
     },
     "execution_count": 7,
     "metadata": {},
     "output_type": "execute_result"
    }
   ],
   "source": [
    "# 平均值\n",
    "tf.reduce_mean(x)"
   ]
  },
  {
   "cell_type": "code",
   "execution_count": 8,
   "metadata": {},
   "outputs": [
    {
     "data": {
      "text/plain": [
       "<tf.Tensor: id=17, shape=(3, 3), dtype=int32, numpy=\n",
       "array([[9, 9, 9],\n",
       "       [9, 9, 9],\n",
       "       [9, 9, 9]], dtype=int32)>"
      ]
     },
     "execution_count": 8,
     "metadata": {},
     "output_type": "execute_result"
    }
   ],
   "source": [
    "# 平方\n",
    "tf.square(x)"
   ]
  },
  {
   "cell_type": "code",
   "execution_count": 16,
   "metadata": {},
   "outputs": [
    {
     "name": "stdout",
     "output_type": "stream",
     "text": [
      "tf.Tensor(\n",
      "[[[3 3 3]\n",
      "  [3 3 3]\n",
      "  [3 3 3]]\n",
      "\n",
      " [[3 3 3]\n",
      "  [3 3 3]\n",
      "  [3 3 3]]], shape=(2, 3, 3), dtype=int32)\n"
     ]
    }
   ],
   "source": [
    "# 升维\n",
    "print(tf.broadcast_to(x, [2, 3, 3]))"
   ]
  },
  {
   "cell_type": "code",
   "execution_count": 29,
   "metadata": {},
   "outputs": [
    {
     "name": "stdout",
     "output_type": "stream",
     "text": [
      "tf.Tensor(\n",
      "[[0.6274221  0.07920444 0.3156935  0.6167258  0.93109655 0.5665889\n",
      "  0.93229806 0.7558341  0.88532877 0.19120777]\n",
      " [0.11493814 0.4044317  0.5013703  0.9776138  0.15911674 0.9285929\n",
      "  0.15173364 0.36369848 0.41529977 0.2379129 ]], shape=(2, 10), dtype=float32)\n",
      "tf.Tensor(\n",
      "[[0.09970583 0.05762788 0.07300264 0.09864503 0.13508426 0.0938212\n",
      "  0.13524665 0.11336766 0.12904109 0.06445774]\n",
      " [0.070031   0.09354397 0.10306606 0.16593792 0.07319424 0.15799965\n",
      "  0.07265583 0.08981019 0.09456616 0.07919496]], shape=(2, 10), dtype=float32)\n"
     ]
    }
   ],
   "source": [
    "x = tf.random.uniform([2, 10])\n",
    "print(x)\n",
    "x = tf.cast(x, dtype=tf.float32)\n",
    "# 指定维度概率和归一\n",
    "prob = tf.nn.softmax(x, axis=1)\n",
    "print(prob)"
   ]
  },
  {
   "cell_type": "code",
   "execution_count": 30,
   "metadata": {},
   "outputs": [
    {
     "name": "stdout",
     "output_type": "stream",
     "text": [
      "tf.Tensor([6 3], shape=(2,), dtype=int64)\n"
     ]
    }
   ],
   "source": [
    "pred = tf.argmax(prob, axis=1)\n",
    "print(pred)"
   ]
  },
  {
   "cell_type": "code",
   "execution_count": 34,
   "metadata": {},
   "outputs": [
    {
     "name": "stdout",
     "output_type": "stream",
     "text": [
      "tf.Tensor([3 0 2 1], shape=(4,), dtype=int32)\n",
      "tf.Tensor(\n",
      "[[0.12924731 0.4669721 ]\n",
      " [0.6266304  0.8616588 ]\n",
      " [0.22807884 0.6922176 ]\n",
      " [0.8769388  0.3559326 ]], shape=(4, 2), dtype=float32) tf.Tensor(\n",
      "[[0.08034086 0.17933714 0.6963326  0.6739634 ]\n",
      " [0.7874595  0.6543771  0.93194294 0.13772213]], shape=(2, 4), dtype=float32) tf.Tensor(\n",
      "[[[0.34034598 0.06492841]\n",
      "  [0.18149757 0.47438645]\n",
      "  [0.5667715  0.5947113 ]\n",
      "  [0.19636941 0.68866277]]\n",
      "\n",
      " [[0.77917767 0.42270613]\n",
      "  [0.961926   0.7967477 ]\n",
      "  [0.2778368  0.04137683]\n",
      "  [0.5966625  0.22719026]]], shape=(2, 4, 2), dtype=float32)\n",
      "tf.Tensor(\n",
      "[[0.8769388  0.3559326 ]\n",
      " [0.12924731 0.4669721 ]\n",
      " [0.22807884 0.6922176 ]\n",
      " [0.6266304  0.8616588 ]], shape=(4, 2), dtype=float32) tf.Tensor(\n",
      "[[0.6739634  0.08034086 0.6963326  0.17933714]\n",
      " [0.13772213 0.7874595  0.93194294 0.6543771 ]], shape=(2, 4), dtype=float32) tf.Tensor(\n",
      "[[[0.19636941 0.68866277]\n",
      "  [0.34034598 0.06492841]\n",
      "  [0.5667715  0.5947113 ]\n",
      "  [0.18149757 0.47438645]]\n",
      "\n",
      " [[0.5966625  0.22719026]\n",
      "  [0.77917767 0.42270613]\n",
      "  [0.2778368  0.04137683]\n",
      "  [0.961926   0.7967477 ]]], shape=(2, 4, 2), dtype=float32)\n"
     ]
    }
   ],
   "source": [
    "idx = tf.range(4)\n",
    "idx = tf.random.shuffle(idx)\n",
    "print(idx)\n",
    "a = tf.random.uniform([4, 2])\n",
    "b = tf.random.uniform([2, 4])\n",
    "c = tf.random.uniform([2, 4, 2])\n",
    "print(a, b, c)\n",
    "print(tf.gather(a, idx, axis=0), tf.gather(b, idx, axis=1), tf.gather(c, idx, axis=1))"
   ]
  },
  {
   "cell_type": "code",
   "execution_count": null,
   "metadata": {},
   "outputs": [],
   "source": []
  }
 ],
 "metadata": {
  "kernelspec": {
   "display_name": "Python 3",
   "language": "python",
   "name": "python3"
  },
  "language_info": {
   "codemirror_mode": {
    "name": "ipython",
    "version": 3
   },
   "file_extension": ".py",
   "mimetype": "text/x-python",
   "name": "python",
   "nbconvert_exporter": "python",
   "pygments_lexer": "ipython3",
   "version": "3.6.8"
  }
 },
 "nbformat": 4,
 "nbformat_minor": 2
}
