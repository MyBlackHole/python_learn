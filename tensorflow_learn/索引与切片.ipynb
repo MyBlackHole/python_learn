{
 "cells": [
  {
   "cell_type": "code",
   "execution_count": 1,
   "metadata": {},
   "outputs": [
    {
     "name": "stdout",
     "output_type": "stream",
     "text": [
      "tf.Tensor(\n",
      "[[1. 1. 1.]\n",
      " [1. 1. 1.]\n",
      " [1. 1. 1.]\n",
      " [1. 1. 1.]\n",
      " [1. 1. 1.]], shape=(5, 3), dtype=float32)\n",
      "tf.Tensor([1. 1. 1.], shape=(3,), dtype=float32)\n",
      "tf.Tensor(1.0, shape=(), dtype=float32)\n"
     ]
    }
   ],
   "source": [
    "import tensorflow as tf\n",
    "import os\n",
    "os.environ['CUDA_VISIBLE_DEVICES'] = '2'\n",
    "a = tf.ones([1, 5, 5, 3])\n",
    "print(a[0][0])\n",
    "print(a[0][0][0])\n",
    "print(a[0][0][0][2])"
   ]
  },
  {
   "cell_type": "code",
   "execution_count": 4,
   "metadata": {},
   "outputs": [
    {
     "name": "stdout",
     "output_type": "stream",
     "text": [
      "(28, 28, 3)\n",
      "(3,)\n",
      "()\n"
     ]
    }
   ],
   "source": [
    "a = tf.random.normal([4, 28, 28, 3])\n",
    "print(a[1].shape)\n",
    "print(a[1, 2, 3].shape)\n",
    "print(a[1, 2, 3, 2].shape)"
   ]
  },
  {
   "cell_type": "code",
   "execution_count": 5,
   "metadata": {},
   "outputs": [
    {
     "name": "stdout",
     "output_type": "stream",
     "text": [
      "tf.Tensor([9], shape=(1,), dtype=int32)\n",
      "tf.Tensor([8 9], shape=(2,), dtype=int32)\n",
      "tf.Tensor([0 1], shape=(2,), dtype=int32)\n",
      "tf.Tensor([0], shape=(1,), dtype=int32)\n",
      "tf.Tensor([0 1 2 3 4 5 6 7 8], shape=(9,), dtype=int32)\n"
     ]
    }
   ],
   "source": [
    "a = tf.range(10)\n",
    "print(a[-1:])\n",
    "print(a[-2:])\n",
    "print(a[:2])\n",
    "print(a[:1])\n",
    "print(a[:-1])"
   ]
  },
  {
   "cell_type": "markdown",
   "metadata": {},
   "source": [
    "### tf.gather"
   ]
  },
  {
   "cell_type": "code",
   "execution_count": 7,
   "metadata": {},
   "outputs": [
    {
     "name": "stdout",
     "output_type": "stream",
     "text": [
      "(2, 35, 8)\n",
      "(4, 35, 8)\n",
      "(4, 5, 8)\n",
      "(4, 35, 3)\n"
     ]
    }
   ],
   "source": [
    "a = tf.random.normal([4, 35, 8])\n",
    "print(tf.gather(a, axis=0, indices=[2, 3]).shape) # axis 维度\n",
    "print(tf.gather(a, axis=0, indices=[2, 1, 3, 0]).shape)\n",
    "print(tf.gather(a, axis=1, indices=[2, 3, 7, 9, 16]).shape)\n",
    "print(tf.gather(a, axis=2, indices=[2, 3, 7]).shape)"
   ]
  },
  {
   "cell_type": "markdown",
   "metadata": {},
   "source": [
    "### tf.gather_nd"
   ]
  },
  {
   "cell_type": "code",
   "execution_count": 3,
   "metadata": {},
   "outputs": [
    {
     "name": "stdout",
     "output_type": "stream",
     "text": [
      "tf.Tensor(\n",
      "[[[-0.09535595 -1.3481662  -0.44069862 -1.4237616   1.3450791\n",
      "    1.1235632  -1.9858646   1.0657926 ]\n",
      "  [-0.14793572  0.21747819 -1.6281852   1.337452   -0.43633217\n",
      "    0.9102865   1.0791811   1.4007689 ]\n",
      "  [-0.9875471  -0.9965379  -0.3495302   1.2075344   0.12781546\n",
      "   -0.8592757   1.6788639  -0.6817214 ]\n",
      "  [-0.13740075  1.4901042   1.3103049  -1.2123821  -0.3173167\n",
      "    1.083988   -0.11318804 -0.90810645]]\n",
      "\n",
      " [[ 1.2613294  -1.3819859   0.16758442 -0.4370513   0.02184424\n",
      "   -1.0311811  -0.08914688  0.58478457]\n",
      "  [ 1.9791356   1.259461    1.3853153   0.4061597   0.6920991\n",
      "   -0.5943369  -0.04056727 -1.2313815 ]\n",
      "  [-0.39880443 -1.3446653   1.5512997  -0.59888023  0.6662247\n",
      "    0.516074   -0.43743482 -1.5573683 ]\n",
      "  [ 1.6826576   0.38080284  0.8525907  -1.0354656  -1.4238155\n",
      "   -0.00352974 -0.69525635 -1.1990095 ]]], shape=(2, 4, 8), dtype=float32)\n",
      "(4, 8)\n",
      "(8,)\n",
      "()\n",
      "(1,)\n",
      "tf.Tensor(\n",
      "[[-0.09535595 -1.3481662  -0.44069862 -1.4237616   1.3450791   1.1235632\n",
      "  -1.9858646   1.0657926 ]\n",
      " [-0.14793572  0.21747819 -1.6281852   1.337452   -0.43633217  0.9102865\n",
      "   1.0791811   1.4007689 ]\n",
      " [-0.9875471  -0.9965379  -0.3495302   1.2075344   0.12781546 -0.8592757\n",
      "   1.6788639  -0.6817214 ]\n",
      " [-0.13740075  1.4901042   1.3103049  -1.2123821  -0.3173167   1.083988\n",
      "  -0.11318804 -0.90810645]], shape=(4, 8), dtype=float32)\n",
      "tf.Tensor(\n",
      "[-0.14793572  0.21747819 -1.6281852   1.337452   -0.43633217  0.9102865\n",
      "  1.0791811   1.4007689 ], shape=(8,), dtype=float32)\n",
      "tf.Tensor(-1.6281852, shape=(), dtype=float32)\n",
      "tf.Tensor([-1.6281852], shape=(1,), dtype=float32)\n"
     ]
    }
   ],
   "source": [
    "a = tf.random.normal([2, 4, 8])\n",
    "print(a)\n",
    "print(tf.gather_nd(a, [0]).shape)\n",
    "print(tf.gather_nd(a, [0, 1]).shape)\n",
    "print(tf.gather_nd(a, [0, 1, 2]).shape)\n",
    "print(tf.gather_nd(a, [[0, 1, 2]]).shape)\n",
    "print(tf.gather_nd(a, [0]))\n",
    "print(tf.gather_nd(a, [0, 1]))\n",
    "print(tf.gather_nd(a, [0, 1, 2]))\n",
    "print(tf.gather_nd(a, [[0, 1, 2]]))"
   ]
  },
  {
   "cell_type": "markdown",
   "metadata": {},
   "source": [
    "### tf.boolean_mask"
   ]
  },
  {
   "cell_type": "code",
   "execution_count": 12,
   "metadata": {},
   "outputs": [
    {
     "name": "stdout",
     "output_type": "stream",
     "text": [
      "(2, 28, 28, 3)\n",
      "(4, 28, 28, 2)\n",
      "tf.Tensor(\n",
      "[[1. 1. 1. 1.]\n",
      " [1. 1. 1. 1.]\n",
      " [1. 1. 1. 1.]\n",
      " [1. 1. 1. 1.]\n",
      " [1. 1. 1. 1.]], shape=(5, 4), dtype=float32)\n"
     ]
    }
   ],
   "source": [
    "a = tf.random.normal([4, 28, 28, 3])\n",
    "print(tf.boolean_mask(a, mask=[True, True, False, False]).shape)\n",
    "print(tf.boolean_mask(a, mask=[True, True, False], axis=3).shape)\n",
    "a = tf.ones([2, 3, 4])\n",
    "print(tf.boolean_mask(a, mask=[[True, True, True],[True, True, False]]))"
   ]
  },
  {
   "cell_type": "code",
   "execution_count": null,
   "metadata": {},
   "outputs": [],
   "source": []
  }
 ],
 "metadata": {
  "kernelspec": {
   "display_name": "Python 3",
   "language": "python",
   "name": "python3"
  },
  "language_info": {
   "codemirror_mode": {
    "name": "ipython",
    "version": 3
   },
   "file_extension": ".py",
   "mimetype": "text/x-python",
   "name": "python",
   "nbconvert_exporter": "python",
   "pygments_lexer": "ipython3",
   "version": "3.6.8"
  }
 },
 "nbformat": 4,
 "nbformat_minor": 2
}
