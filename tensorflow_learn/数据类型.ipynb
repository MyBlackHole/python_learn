{
 "cells": [
  {
   "cell_type": "code",
   "execution_count": 3,
   "metadata": {},
   "outputs": [],
   "source": [
    "import tensorflow as tf\n",
    "import os\n",
    "os.environ['CUDA_VISIBLE_DEVICES'] = '2'"
   ]
  },
  {
   "cell_type": "markdown",
   "metadata": {},
   "source": [
    "### 数据读取"
   ]
  },
  {
   "cell_type": "code",
   "execution_count": 20,
   "metadata": {},
   "outputs": [
    {
     "data": {
      "text/plain": [
       "<TensorSliceDataset shapes: (), types: tf.int32>"
      ]
     },
     "execution_count": 20,
     "metadata": {},
     "output_type": "execute_result"
    }
   ],
   "source": [
    "e = tf.data.Dataset.from_tensor_slices([1, 2, 3])\n",
    "e"
   ]
  },
  {
   "cell_type": "code",
   "execution_count": 36,
   "metadata": {},
   "outputs": [
    {
     "name": "stdout",
     "output_type": "stream",
     "text": [
      "<FilterDataset shapes: (), types: tf.int32>\n"
     ]
    }
   ],
   "source": [
    "aa = tf.data.Dataset.from_tensor_slices([1, 2, 3, 4])\n",
    "aa = aa.filter(lambda x:x < 2)\n",
    "print(aa)"
   ]
  },
  {
   "cell_type": "code",
   "execution_count": 43,
   "metadata": {},
   "outputs": [
    {
     "name": "stdout",
     "output_type": "stream",
     "text": [
      "tf.Tensor([1 2 3], shape=(3,), dtype=int32)\n",
      "tf.Tensor([4 5 6], shape=(3,), dtype=int32)\n",
      "tf.Tensor([7 8 9], shape=(3,), dtype=int32)\n",
      "tf.Tensor([1 2 3], shape=(3,), dtype=int32)\n"
     ]
    }
   ],
   "source": [
    "a = tf.data.Dataset.from_tensor_slices([ [1, 2, 3], [4, 5, 6], [7, 8, 9] ])\n",
    "\n",
    "for i in a.take(3):\n",
    "    print(i)\n",
    "for i in a.take(1):\n",
    "    print(i)"
   ]
  },
  {
   "cell_type": "code",
   "execution_count": 40,
   "metadata": {},
   "outputs": [
    {
     "data": {
      "text/plain": [
       "<bound method DatasetV2.shard of <TensorSliceDataset shapes: (3,), types: tf.int32>>"
      ]
     },
     "execution_count": 40,
     "metadata": {},
     "output_type": "execute_result"
    }
   ],
   "source": [
    "a.shard"
   ]
  },
  {
   "cell_type": "markdown",
   "metadata": {},
   "source": [
    "### Tensor"
   ]
  },
  {
   "cell_type": "code",
   "execution_count": 1,
   "metadata": {},
   "outputs": [],
   "source": [
    "import tensorflow as tf"
   ]
  },
  {
   "cell_type": "code",
   "execution_count": 3,
   "metadata": {},
   "outputs": [
    {
     "name": "stdout",
     "output_type": "stream",
     "text": [
      "tf.Tensor(1, shape=(), dtype=int32)\n",
      "tf.Tensor(1.0, shape=(), dtype=float32)\n",
      "tf.Tensor(2.0, shape=(), dtype=float64)\n",
      "tf.Tensor([ True False], shape=(2,), dtype=bool)\n",
      "tf.Tensor(b'ok!', shape=(), dtype=string)\n"
     ]
    }
   ],
   "source": [
    "print(tf.constant(1))\n",
    "print(tf.constant(1.))\n",
    "# print(tf.constant(2.2, dtype=tf.int32)) 报错\n",
    "print(tf.constant(2., dtype=tf.double))\n",
    "print(tf.constant([True, False]))\n",
    "print(tf.constant('ok!'))"
   ]
  },
  {
   "cell_type": "markdown",
   "metadata": {},
   "source": [
    "### CPU"
   ]
  },
  {
   "cell_type": "code",
   "execution_count": 4,
   "metadata": {},
   "outputs": [],
   "source": [
    "with tf.device(\"cpu\"):\n",
    "    a = tf.constant([1])"
   ]
  },
  {
   "cell_type": "code",
   "execution_count": 5,
   "metadata": {},
   "outputs": [
    {
     "data": {
      "text/plain": [
       "'/job:localhost/replica:0/task:0/device:CPU:0'"
      ]
     },
     "execution_count": 5,
     "metadata": {},
     "output_type": "execute_result"
    }
   ],
   "source": [
    "a.device"
   ]
  },
  {
   "cell_type": "markdown",
   "metadata": {},
   "source": [
    "### GPU"
   ]
  },
  {
   "cell_type": "code",
   "execution_count": 16,
   "metadata": {},
   "outputs": [],
   "source": [
    "with tf.device(\"GPU\"):\n",
    "    b = tf.constant([[1, 2, 3], [4, 5, 6]])"
   ]
  },
  {
   "cell_type": "code",
   "execution_count": 7,
   "metadata": {},
   "outputs": [
    {
     "data": {
      "text/plain": [
       "'/job:localhost/replica:0/task:0/device:CPU:0'"
      ]
     },
     "execution_count": 7,
     "metadata": {},
     "output_type": "execute_result"
    }
   ],
   "source": [
    "b.device"
   ]
  },
  {
   "cell_type": "markdown",
   "metadata": {},
   "source": [
    "### GPU <=> CPU"
   ]
  },
  {
   "cell_type": "code",
   "execution_count": 8,
   "metadata": {},
   "outputs": [
    {
     "name": "stdout",
     "output_type": "stream",
     "text": [
      "WARNING:tensorflow:From <ipython-input-8-eeade4920aa2>:1: _EagerTensorBase.gpu (from tensorflow.python.framework.ops) is deprecated and will be removed in a future version.\n",
      "Instructions for updating:\n",
      "Use tf.identity instead.\n",
      "WARNING:tensorflow:From <ipython-input-8-eeade4920aa2>:2: _EagerTensorBase.cpu (from tensorflow.python.framework.ops) is deprecated and will be removed in a future version.\n",
      "Instructions for updating:\n",
      "Use tf.identity instead.\n"
     ]
    },
    {
     "data": {
      "text/plain": [
       "<tf.Tensor: id=11, shape=(), dtype=int32, numpy=4>"
      ]
     },
     "execution_count": 8,
     "metadata": {},
     "output_type": "execute_result"
    }
   ],
   "source": [
    "a.gpu()\n",
    "b.cpu()"
   ]
  },
  {
   "cell_type": "code",
   "execution_count": 17,
   "metadata": {},
   "outputs": [
    {
     "data": {
      "text/plain": [
       "2"
      ]
     },
     "execution_count": 17,
     "metadata": {},
     "output_type": "execute_result"
    }
   ],
   "source": [
    "b.ndim # b.shape"
   ]
  },
  {
   "cell_type": "code",
   "execution_count": 19,
   "metadata": {},
   "outputs": [
    {
     "data": {
      "text/plain": [
       "<tf.Tensor: id=15, shape=(), dtype=int32, numpy=2>"
      ]
     },
     "execution_count": 19,
     "metadata": {},
     "output_type": "execute_result"
    }
   ],
   "source": [
    "tf.rank(b)"
   ]
  },
  {
   "cell_type": "code",
   "execution_count": 18,
   "metadata": {},
   "outputs": [
    {
     "ename": "AttributeError",
     "evalue": "Tensor.name is meaningless when eager execution is enabled.",
     "output_type": "error",
     "traceback": [
      "\u001b[0;31m---------------------------------------------------------------------------\u001b[0m",
      "\u001b[0;31mAttributeError\u001b[0m                            Traceback (most recent call last)",
      "\u001b[0;32m<ipython-input-18-45bc9755420c>\u001b[0m in \u001b[0;36m<module>\u001b[0;34m\u001b[0m\n\u001b[0;32m----> 1\u001b[0;31m \u001b[0mb\u001b[0m\u001b[0;34m.\u001b[0m\u001b[0mname\u001b[0m\u001b[0;34m\u001b[0m\u001b[0;34m\u001b[0m\u001b[0m\n\u001b[0m",
      "\u001b[0;32m/usr/local/lib/python3.6/dist-packages/tensorflow_core/python/framework/ops.py\u001b[0m in \u001b[0;36mname\u001b[0;34m(self)\u001b[0m\n\u001b[1;32m   1088\u001b[0m   \u001b[0;32mdef\u001b[0m \u001b[0mname\u001b[0m\u001b[0;34m(\u001b[0m\u001b[0mself\u001b[0m\u001b[0;34m)\u001b[0m\u001b[0;34m:\u001b[0m\u001b[0;34m\u001b[0m\u001b[0;34m\u001b[0m\u001b[0m\n\u001b[1;32m   1089\u001b[0m     raise AttributeError(\n\u001b[0;32m-> 1090\u001b[0;31m         \"Tensor.name is meaningless when eager execution is enabled.\")\n\u001b[0m\u001b[1;32m   1091\u001b[0m \u001b[0;34m\u001b[0m\u001b[0m\n\u001b[1;32m   1092\u001b[0m   \u001b[0;34m@\u001b[0m\u001b[0mproperty\u001b[0m\u001b[0;34m\u001b[0m\u001b[0;34m\u001b[0m\u001b[0m\n",
      "\u001b[0;31mAttributeError\u001b[0m: Tensor.name is meaningless when eager execution is enabled."
     ]
    }
   ],
   "source": [
    "b.name"
   ]
  },
  {
   "cell_type": "markdown",
   "metadata": {},
   "source": [
    "### 判断是否是Tensor"
   ]
  },
  {
   "cell_type": "code",
   "execution_count": 24,
   "metadata": {},
   "outputs": [
    {
     "name": "stdout",
     "output_type": "stream",
     "text": [
      "True\n",
      "True\n",
      "False\n"
     ]
    }
   ],
   "source": [
    "print(tf.is_tensor(a))\n",
    "print(isinstance(a, tf.Tensor)) # \n",
    "import numpy as np\n",
    "d = np.arange(4)\n",
    "print(tf.is_tensor(d))"
   ]
  },
  {
   "cell_type": "code",
   "execution_count": 25,
   "metadata": {},
   "outputs": [
    {
     "data": {
      "text/plain": [
       "False"
      ]
     },
     "execution_count": 25,
     "metadata": {},
     "output_type": "execute_result"
    }
   ],
   "source": [
    "a.dtype == tf.float16"
   ]
  },
  {
   "cell_type": "code",
   "execution_count": 26,
   "metadata": {},
   "outputs": [
    {
     "data": {
      "text/plain": [
       "dtype('int64')"
      ]
     },
     "execution_count": 26,
     "metadata": {},
     "output_type": "execute_result"
    }
   ],
   "source": [
    "d.dtype"
   ]
  },
  {
   "cell_type": "markdown",
   "metadata": {},
   "source": [
    "### numpy转换Tensor"
   ]
  },
  {
   "cell_type": "code",
   "execution_count": 29,
   "metadata": {},
   "outputs": [
    {
     "data": {
      "text/plain": [
       "<tf.Tensor: id=18, shape=(4,), dtype=int32, numpy=array([0, 1, 2, 3], dtype=int32)>"
      ]
     },
     "execution_count": 29,
     "metadata": {},
     "output_type": "execute_result"
    }
   ],
   "source": [
    "# dd = tf.convert_to_tensor(d) 默认numpy是int64\n",
    "dd = tf.convert_to_tensor(d, dtype=tf.int32) # 转int32\n",
    "dd"
   ]
  },
  {
   "cell_type": "markdown",
   "metadata": {},
   "source": [
    "### Tensor 转换 dtype"
   ]
  },
  {
   "cell_type": "code",
   "execution_count": 32,
   "metadata": {},
   "outputs": [
    {
     "name": "stdout",
     "output_type": "stream",
     "text": [
      "tf.Tensor([0. 1. 2. 3.], shape=(4,), dtype=float32)\n",
      "tf.Tensor([0. 1. 2. 3.], shape=(4,), dtype=float64)\n",
      "tf.Tensor([0 1 2 3], shape=(4,), dtype=int32)\n"
     ]
    }
   ],
   "source": [
    "dd = tf.cast(dd, dtype=tf.float32)\n",
    "print(dd) # int32 转 float32\n",
    "dd = tf.cast(dd, dtype=tf.double)\n",
    "print(dd) # float32 转 float64\n",
    "dd = tf.cast(dd, dtype=tf.int32)\n",
    "print(dd) # float64 转 int32"
   ]
  },
  {
   "cell_type": "markdown",
   "metadata": {},
   "source": [
    "### Variable"
   ]
  },
  {
   "cell_type": "code",
   "execution_count": 34,
   "metadata": {},
   "outputs": [
    {
     "name": "stdout",
     "output_type": "stream",
     "text": [
      "<dtype: 'int32'>\n",
      "input_data:0\n"
     ]
    }
   ],
   "source": [
    "a = tf.range(5)\n",
    "# b = tf.Variable(a)\n",
    "b = tf.Variable(a, name='input_data')\n",
    "print(b.dtype)\n",
    "print(b.name)"
   ]
  },
  {
   "cell_type": "code",
   "execution_count": 38,
   "metadata": {},
   "outputs": [
    {
     "name": "stdout",
     "output_type": "stream",
     "text": [
      "False\n",
      "True\n",
      "True\n"
     ]
    }
   ],
   "source": [
    "print(isinstance(b, tf.Tensor))\n",
    "print(isinstance(b, tf.Variable))\n",
    "print(tf.is_tensor(b))"
   ]
  },
  {
   "cell_type": "markdown",
   "metadata": {},
   "source": [
    "### 取得数据"
   ]
  },
  {
   "cell_type": "code",
   "execution_count": 40,
   "metadata": {},
   "outputs": [
    {
     "name": "stdout",
     "output_type": "stream",
     "text": [
      "[0 1 2 3 4]\n",
      "1\n",
      "1.0\n"
     ]
    }
   ],
   "source": [
    "print(b.numpy()) # 返回numpy数据\n",
    "a = tf.ones([])\n",
    "print(int(a)) \n",
    "print(float(a))"
   ]
  },
  {
   "cell_type": "markdown",
   "metadata": {},
   "source": [
    "### 创建Tensor"
   ]
  },
  {
   "cell_type": "code",
   "execution_count": 2,
   "metadata": {},
   "outputs": [
    {
     "data": {
      "text/plain": [
       "<tf.Variable 'Variable:0' shape=(10,) dtype=float32, numpy=array([0., 0., 0., 0., 0., 0., 0., 0., 0., 0.], dtype=float32)>"
      ]
     },
     "execution_count": 2,
     "metadata": {},
     "output_type": "execute_result"
    }
   ],
   "source": [
    "w1 = tf.Variable(tf.zeros(10))\n",
    "w1"
   ]
  },
  {
   "cell_type": "code",
   "execution_count": 6,
   "metadata": {},
   "outputs": [
    {
     "data": {
      "text/plain": [
       "<tf.Tensor: id=57, shape=(3,), dtype=int32, numpy=array([1, 2, 3], dtype=int32)>"
      ]
     },
     "execution_count": 6,
     "metadata": {},
     "output_type": "execute_result"
    }
   ],
   "source": [
    "b1 = tf.constant([1, 2, 3])\n",
    "b1"
   ]
  },
  {
   "cell_type": "code",
   "execution_count": 8,
   "metadata": {},
   "outputs": [
    {
     "data": {
      "text/plain": [
       "<tf.Tensor: id=60, shape=(2, 3), dtype=int32, numpy=\n",
       "array([[1, 2, 3],\n",
       "       [1, 2, 3]], dtype=int32)>"
      ]
     },
     "execution_count": 8,
     "metadata": {},
     "output_type": "execute_result"
    }
   ],
   "source": [
    "b2 = tf.broadcast_to(b1, [2, 3])\n",
    "b2"
   ]
  },
  {
   "cell_type": "markdown",
   "metadata": {},
   "source": [
    "### broadcast_to广播"
   ]
  },
  {
   "cell_type": "code",
   "execution_count": 10,
   "metadata": {},
   "outputs": [
    {
     "data": {
      "text/plain": [
       "<tf.Tensor: id=64, shape=(3, 2, 3), dtype=int32, numpy=\n",
       "array([[[1, 2, 3],\n",
       "        [1, 2, 3]],\n",
       "\n",
       "       [[1, 2, 3],\n",
       "        [1, 2, 3]],\n",
       "\n",
       "       [[1, 2, 3],\n",
       "        [1, 2, 3]]], dtype=int32)>"
      ]
     },
     "execution_count": 10,
     "metadata": {},
     "output_type": "execute_result"
    }
   ],
   "source": [
    "b3 = tf.broadcast_to(b1, [3, 2, 3])\n",
    "b3"
   ]
  },
  {
   "cell_type": "markdown",
   "metadata": {},
   "source": [
    "### tf.zeros、tf.ones"
   ]
  },
  {
   "cell_type": "code",
   "execution_count": 41,
   "metadata": {},
   "outputs": [
    {
     "name": "stdout",
     "output_type": "stream",
     "text": [
      "tf.Tensor(0.0, shape=(), dtype=float32)\n",
      "tf.Tensor([0.], shape=(1,), dtype=float32)\n",
      "tf.Tensor(\n",
      "[[0. 0.]\n",
      " [0. 0.]], shape=(2, 2), dtype=float32)\n",
      "tf.Tensor(\n",
      "[[[0. 0. 0.]\n",
      "  [0. 0. 0.]]\n",
      "\n",
      " [[0. 0. 0.]\n",
      "  [0. 0. 0.]]], shape=(2, 2, 3), dtype=float32)\n"
     ]
    }
   ],
   "source": [
    "print(tf.zeros([]))\n",
    "print(tf.zeros([1]))\n",
    "print(tf.zeros([2, 2]))\n",
    "print(tf.zeros([2, 2, 3]))"
   ]
  },
  {
   "cell_type": "markdown",
   "metadata": {},
   "source": [
    "### tf.zeros_like、tf.ones_like"
   ]
  },
  {
   "cell_type": "code",
   "execution_count": 42,
   "metadata": {},
   "outputs": [
    {
     "name": "stdout",
     "output_type": "stream",
     "text": [
      "tf.Tensor(\n",
      "[[[0. 0. 0.]\n",
      "  [0. 0. 0.]]\n",
      "\n",
      " [[0. 0. 0.]\n",
      "  [0. 0. 0.]]], shape=(2, 2, 3), dtype=float32)\n",
      "tf.Tensor([0 0 0], shape=(3,), dtype=int32)\n"
     ]
    }
   ],
   "source": [
    "a = tf.zeros([2, 2, 3])\n",
    "print(tf.zeros_like(a))\n",
    "print(tf.zeros_like(a.shape))"
   ]
  },
  {
   "cell_type": "markdown",
   "metadata": {},
   "source": [
    "### tf.fill 自定义填充"
   ]
  },
  {
   "cell_type": "code",
   "execution_count": 44,
   "metadata": {},
   "outputs": [
    {
     "name": "stdout",
     "output_type": "stream",
     "text": [
      "tf.Tensor(\n",
      "[[9 9]\n",
      " [9 9]], shape=(2, 2), dtype=int32)\n"
     ]
    }
   ],
   "source": [
    "print(tf.fill([2, 2], 9))"
   ]
  },
  {
   "cell_type": "markdown",
   "metadata": {},
   "source": [
    "### 正太分布初始化"
   ]
  },
  {
   "cell_type": "code",
   "execution_count": 46,
   "metadata": {},
   "outputs": [
    {
     "name": "stdout",
     "output_type": "stream",
     "text": [
      "tf.Tensor(\n",
      "[[ 0.53010046  2.5945115 ]\n",
      " [-0.20950401 -0.06755352]], shape=(2, 2), dtype=float32)\n",
      "tf.Tensor(\n",
      "[[-0.6677093  -1.6080464 ]\n",
      " [-0.8025701   0.41457698]], shape=(2, 2), dtype=float32)\n",
      "tf.Tensor(\n",
      "[[80.53129   44.91074  ]\n",
      " [ 6.6080093 17.574097 ]], shape=(2, 2), dtype=float32)\n"
     ]
    }
   ],
   "source": [
    "print(tf.random.normal([2, 2], mean=1, stddev=1)) #mean 平均数, stddev 标准差\n",
    "print(tf.random.truncated_normal([2, 2], mean=0, stddev=1)) # 截断分布\n",
    "print(tf.random.uniform([2, 2], minval=0, maxval=100)) # 均匀分布"
   ]
  },
  {
   "cell_type": "markdown",
   "metadata": {},
   "source": [
    "### 随机打散"
   ]
  },
  {
   "cell_type": "code",
   "execution_count": 47,
   "metadata": {},
   "outputs": [
    {
     "name": "stdout",
     "output_type": "stream",
     "text": [
      "tf.Tensor([0 1 2 3 4 5 6 7 8 9], shape=(10,), dtype=int32)\n",
      "tf.Tensor([7 6 8 5 9 1 2 3 0 4], shape=(10,), dtype=int32)\n"
     ]
    }
   ],
   "source": [
    "idx = tf.range(10)\n",
    "print(idx)\n",
    "idx = tf.random.shuffle(idx)\n",
    "print(idx)"
   ]
  },
  {
   "cell_type": "code",
   "execution_count": 49,
   "metadata": {},
   "outputs": [
    {
     "name": "stdout",
     "output_type": "stream",
     "text": [
      "tf.Tensor(\n",
      "[[-0.23932256  0.5528639   0.16717792 ... -0.53146416  0.4687923\n",
      "   0.19810356]\n",
      " [-2.7161212   0.22025712  1.1668127  ...  1.3325884  -0.08589137\n",
      "  -0.37005424]\n",
      " [-1.25011     0.07619333  1.3757708  ...  1.4364158  -1.3163306\n",
      "  -0.63596123]\n",
      " ...\n",
      " [ 1.0448921   0.32109106 -2.5156832  ...  0.8137729  -0.17724657\n",
      "  -0.42604956]\n",
      " [-0.3530785  -0.57427406  0.5930358  ...  0.6514702  -2.0582414\n",
      "  -0.63689774]\n",
      " [ 1.7052666   1.7266797  -0.7647951  ... -0.2878193   1.614691\n",
      "   1.4580098 ]], shape=(10, 784), dtype=float32)\n",
      "tf.Tensor([8 9 2 4 6 5 0 1 5 7], shape=(10,), dtype=int32)\n"
     ]
    }
   ],
   "source": [
    "a = tf.random.normal([10, 784])\n",
    "b = tf.random.uniform([10], maxval=10, dtype=tf.int32)\n",
    "print(a)\n",
    "print(b)"
   ]
  },
  {
   "cell_type": "code",
   "execution_count": 50,
   "metadata": {},
   "outputs": [
    {
     "name": "stdout",
     "output_type": "stream",
     "text": [
      "tf.Tensor(\n",
      "[[ 1.0448921   0.32109106 -2.5156832  ...  0.8137729  -0.17724657\n",
      "  -0.42604956]\n",
      " [ 1.729102   -1.0700284  -0.50810707 ...  1.4955803  -0.05545609\n",
      "  -0.3870785 ]\n",
      " [-0.3530785  -0.57427406  0.5930358  ...  0.6514702  -2.0582414\n",
      "  -0.63689774]\n",
      " ...\n",
      " [ 1.3186626   1.0876559  -0.5206251  ... -1.729692   -0.08036444\n",
      "   0.6359166 ]\n",
      " [-0.23932256  0.5528639   0.16717792 ... -0.53146416  0.4687923\n",
      "   0.19810356]\n",
      " [ 0.6000704   0.6706777  -0.3903356  ...  0.56313694 -2.4014735\n",
      "  -1.609817  ]], shape=(10, 784), dtype=float32)\n",
      "tf.Tensor([1 0 5 5 7 9 2 4 8 6], shape=(10,), dtype=int32)\n"
     ]
    }
   ],
   "source": [
    "a = tf.gather(a, idx) # 根据idx顺序打乱\n",
    "b = tf.gather(b, idx) \n",
    "print(a)\n",
    "print(b)"
   ]
  },
  {
   "cell_type": "markdown",
   "metadata": {},
   "source": [
    "### 例子"
   ]
  },
  {
   "cell_type": "code",
   "execution_count": 55,
   "metadata": {},
   "outputs": [
    {
     "name": "stdout",
     "output_type": "stream",
     "text": [
      "out:: tf.Tensor(\n",
      "[[6.64748311e-01 1.23494506e-01 4.62478757e-01 9.88028884e-01\n",
      "  6.24939203e-02 3.18114758e-01 7.46607780e-04 4.73524213e-01\n",
      "  3.03321600e-01 7.56509423e-01]\n",
      " [4.51095104e-01 7.94083714e-01 1.95187092e-01 5.79916716e-01\n",
      "  7.90974736e-01 7.34602928e-01 4.73613024e-01 5.33862114e-01\n",
      "  1.08892202e-01 6.92363381e-01]\n",
      " [4.01445746e-01 4.32389855e-01 3.10505629e-02 3.88933182e-01\n",
      "  4.24783111e-01 9.42399859e-01 1.20945334e-01 3.72165084e-01\n",
      "  8.67015719e-01 5.63768268e-01]\n",
      " [9.39841747e-01 1.00030184e-01 5.68107367e-01 5.40875673e-01\n",
      "  3.87887955e-02 8.86734605e-01 7.33650804e-01 3.47228646e-01\n",
      "  2.95575023e-01 5.38298130e-01]], shape=(4, 10), dtype=float32)\n",
      "y:: tf.Tensor([0 1 2 3], shape=(4,), dtype=int32)\n",
      "y_one_hot:: tf.Tensor(\n",
      "[[1. 0. 0. 0. 0. 0. 0. 0. 0. 0.]\n",
      " [0. 1. 0. 0. 0. 0. 0. 0. 0. 0.]\n",
      " [0. 0. 1. 0. 0. 0. 0. 0. 0. 0.]\n",
      " [0. 0. 0. 1. 0. 0. 0. 0. 0. 0.]], shape=(4, 10), dtype=float32)\n",
      "loss:: tf.Tensor([0.23113708 0.27861148 0.37294954 0.32505932], shape=(4,), dtype=float32)\n",
      "loss:: tf.Tensor(0.30193937, shape=(), dtype=float32)\n",
      "kernel:: <tf.Variable 'kernel:0' shape=(8, 10) dtype=float32, numpy=\n",
      "array([[-0.5210408 , -0.56275225, -0.15988305,  0.492864  , -0.03632832,\n",
      "        -0.34387347, -0.44876122,  0.14632237,  0.3702141 ,  0.19829303],\n",
      "       [-0.09091136, -0.15509155,  0.24426049,  0.15888   ,  0.26044744,\n",
      "         0.5623734 ,  0.10513866, -0.50564015, -0.23179609, -0.16711468],\n",
      "       [ 0.5171629 ,  0.223382  ,  0.45648944,  0.28734994,  0.04497814,\n",
      "        -0.24915442, -0.3073483 , -0.40138185, -0.38448438, -0.11011311],\n",
      "       [-0.28033638, -0.56977683,  0.04882962,  0.06893772,  0.1679067 ,\n",
      "        -0.249143  ,  0.35836262, -0.25327113,  0.25640023,  0.5507555 ],\n",
      "       [-0.3296811 ,  0.5254209 , -0.28369284,  0.35932726,  0.47236025,\n",
      "         0.18848306, -0.39020693,  0.23693103, -0.4805429 ,  0.5375776 ],\n",
      "       [-0.00222844, -0.23955944,  0.16746569,  0.31456608,  0.55234027,\n",
      "        -0.25516963,  0.37969577,  0.50853014, -0.5265584 , -0.4881528 ],\n",
      "       [-0.1458092 ,  0.30958664, -0.49647877, -0.3326015 , -0.447611  ,\n",
      "        -0.43653727, -0.21366411, -0.18236807,  0.4111665 ,  0.10192579],\n",
      "       [-0.4337454 , -0.17039517,  0.00554252,  0.400177  , -0.49418908,\n",
      "         0.14353806, -0.5082266 , -0.28175005,  0.1120252 ,  0.48609066]],\n",
      "      dtype=float32)>\n",
      "bias:: <tf.Variable 'bias:0' shape=(10,) dtype=float32, numpy=array([0., 0., 0., 0., 0., 0., 0., 0., 0., 0.], dtype=float32)>\n"
     ]
    }
   ],
   "source": [
    "out = tf.random.uniform([4, 10])\n",
    "print('out::', out)\n",
    "y = tf.range(4)\n",
    "print('y::', y)\n",
    "y = tf.one_hot(y, depth=10)\n",
    "print('y_one_hot::', y)\n",
    "loss = tf.keras.losses.mse(y, out)\n",
    "print('loss::', loss)\n",
    "loss = tf.reduce_mean(loss)\n",
    "print('loss::', loss)\n",
    "\n",
    "net = tf.keras.layers.Dense(10)\n",
    "net.build((4, 8))\n",
    "print('kernel::', net.kernel)\n",
    "print('bias::', net.bias)"
   ]
  },
  {
   "cell_type": "code",
   "execution_count": 56,
   "metadata": {},
   "outputs": [
    {
     "name": "stdout",
     "output_type": "stream",
     "text": [
      "x:: tf.Tensor(\n",
      "[[-0.20230982 -0.740376   -0.8560114  ... -0.6147968  -0.5590666\n",
      "   0.46283954]\n",
      " [-0.84817666 -0.45194694  0.20332024 ... -0.70844024 -1.7263876\n",
      "   2.0687895 ]\n",
      " [-2.1870463  -0.26474497  1.761193   ... -0.9294991   0.5637731\n",
      "   0.69962263]\n",
      " [ 0.36525223 -2.7098393   1.6137484  ...  2.3393362  -0.02364289\n",
      "   0.25326854]], shape=(4, 784), dtype=float32)\n",
      "build:: <bound method Dense.build of <tensorflow.python.keras.layers.core.Dense object at 0x7fc7b5c9a2b0>>\n",
      "shape:: (4, 10)\n",
      "kernel_shape:: (784, 10)\n",
      "bias_shape:: (10,)\n"
     ]
    }
   ],
   "source": [
    "x = tf.random.normal([4, 784])\n",
    "print('x::', x)\n",
    "net = tf.keras.layers.Dense(10)\n",
    "print('build::', net.build)\n",
    "print('shape::', net(x).shape)\n",
    "print('kernel_shape::', net.kernel.shape) # w\n",
    "print('bias_shape::', net.bias.shape) # b"
   ]
  },
  {
   "cell_type": "code",
   "execution_count": null,
   "metadata": {},
   "outputs": [],
   "source": []
  }
 ],
 "metadata": {
  "kernelspec": {
   "display_name": "Python 3",
   "language": "python",
   "name": "python3"
  },
  "language_info": {
   "codemirror_mode": {
    "name": "ipython",
    "version": 3
   },
   "file_extension": ".py",
   "mimetype": "text/x-python",
   "name": "python",
   "nbconvert_exporter": "python",
   "pygments_lexer": "ipython3",
   "version": "3.6.8"
  }
 },
 "nbformat": 4,
 "nbformat_minor": 2
}
