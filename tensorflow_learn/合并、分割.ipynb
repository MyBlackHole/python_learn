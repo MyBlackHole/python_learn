{
 "cells": [
  {
   "cell_type": "code",
   "execution_count": 1,
   "metadata": {},
   "outputs": [],
   "source": [
    "import tensorflow as tf\n",
    "import os\n",
    "os.environ['CUDA_VISIBLE_DEVICES'] = '2'"
   ]
  },
  {
   "cell_type": "markdown",
   "metadata": {},
   "source": [
    "### concat 合并"
   ]
  },
  {
   "cell_type": "code",
   "execution_count": 2,
   "metadata": {},
   "outputs": [
    {
     "name": "stdout",
     "output_type": "stream",
     "text": [
      "(6, 35, 8)\n",
      "(4, 35, 8)\n",
      "(4, 32, 12)\n"
     ]
    }
   ],
   "source": [
    "a = tf.ones([4, 35, 8])\n",
    "b = tf.ones([2, 35, 8])\n",
    "c = tf.concat([a, b], axis=0) # axis 合并的维度\n",
    "print(c.shape)\n",
    "a = tf.ones([4, 32, 8])\n",
    "b = tf.ones([4, 3, 8])\n",
    "print(tf.concat([a, b], axis=1).shape)\n",
    "a = tf.ones([4, 32, 8])\n",
    "b = tf.ones([4, 32, 4])\n",
    "print(tf.concat([a, b], axis=2).shape)"
   ]
  },
  {
   "cell_type": "markdown",
   "metadata": {},
   "source": [
    "### stack 合并增加维度"
   ]
  },
  {
   "cell_type": "code",
   "execution_count": 5,
   "metadata": {},
   "outputs": [
    {
     "name": "stdout",
     "output_type": "stream",
     "text": [
      "(2, 4, 35, 8)\n",
      "(4, 35, 8, 2)\n"
     ]
    }
   ],
   "source": [
    "a = tf.ones([4, 35, 8]) # 保证所有维度相等\n",
    "b = tf.ones([4, 35, 8])\n",
    "print(tf.stack([a, b], axis=0).shape)\n",
    "print(tf.stack([a, b], axis=3).shape)"
   ]
  },
  {
   "cell_type": "markdown",
   "metadata": {},
   "source": [
    "### unstack 分割"
   ]
  },
  {
   "cell_type": "code",
   "execution_count": 6,
   "metadata": {},
   "outputs": [
    {
     "name": "stdout",
     "output_type": "stream",
     "text": [
      "(4, 35, 8) (4, 35, 8)\n"
     ]
    }
   ],
   "source": [
    "a = tf.ones([4, 35, 8])\n",
    "b = tf.ones([4, 35, 8])\n",
    "c = tf.stack([a, b], axis=0) # 固定切成1\n",
    "aa, bb = tf.unstack(c, axis=0)\n",
    "print(aa.shape, bb.shape)"
   ]
  },
  {
   "cell_type": "markdown",
   "metadata": {},
   "source": [
    "### split "
   ]
  },
  {
   "cell_type": "code",
   "execution_count": 11,
   "metadata": {},
   "outputs": [
    {
     "name": "stdout",
     "output_type": "stream",
     "text": [
      "(2, 4, 35, 8)\n",
      "8\n",
      "2\n",
      "(2, 4, 35, 4)\n",
      "(2, 4, 35, 2) (2, 4, 35, 4)\n"
     ]
    }
   ],
   "source": [
    "print(c.shape)\n",
    "res = tf.unstack(c, axis=3)\n",
    "print(len(res))\n",
    "res = tf.split(c, axis=3, num_or_size_splits=2) # num_or_size_splits 自定义大小\n",
    "print(len(res))\n",
    "print(res[0].shape)\n",
    "res = tf.split(c, axis=3, num_or_size_splits=[2, 2, 4])\n",
    "print(res[0].shape, res[2].shape)"
   ]
  },
  {
   "cell_type": "code",
   "execution_count": null,
   "metadata": {},
   "outputs": [],
   "source": []
  }
 ],
 "metadata": {
  "kernelspec": {
   "display_name": "Python 3",
   "language": "python",
   "name": "python3"
  },
  "language_info": {
   "codemirror_mode": {
    "name": "ipython",
    "version": 3
   },
   "file_extension": ".py",
   "mimetype": "text/x-python",
   "name": "python",
   "nbconvert_exporter": "python",
   "pygments_lexer": "ipython3",
   "version": "3.6.8"
  }
 },
 "nbformat": 4,
 "nbformat_minor": 2
}