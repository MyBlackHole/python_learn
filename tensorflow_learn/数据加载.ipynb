{
 "cells": [
  {
   "cell_type": "code",
   "execution_count": 1,
   "metadata": {},
   "outputs": [],
   "source": [
    "import tensorflow as tf\n",
    "import os\n",
    "os.environ['CUDA_VISIBLE_DEVICES'] = '2'"
   ]
  },
  {
   "cell_type": "code",
   "execution_count": 2,
   "metadata": {},
   "outputs": [
    {
     "name": "stdout",
     "output_type": "stream",
     "text": [
      "(60000, 28, 28)\n",
      "(60000,)\n",
      "0 255 33.318421449829934\n"
     ]
    }
   ],
   "source": [
    "(x, y), (x_test, y_test) = tf.keras.datasets.mnist.load_data()\n",
    "print(x.shape)\n",
    "print(y.shape)\n",
    "print(x.min(), x.max(), x.mean())"
   ]
  },
  {
   "cell_type": "code",
   "execution_count": 3,
   "metadata": {},
   "outputs": [
    {
     "data": {
      "text/plain": [
       "((10000, 28, 28), (10000,))"
      ]
     },
     "execution_count": 3,
     "metadata": {},
     "output_type": "execute_result"
    }
   ],
   "source": [
    "x_test.shape, y_test.shape"
   ]
  },
  {
   "cell_type": "code",
   "execution_count": 7,
   "metadata": {},
   "outputs": [
    {
     "data": {
      "text/plain": [
       "<tf.Tensor: id=26, shape=(2, 10), dtype=float32, numpy=\n",
       "array([[0., 0., 0., 0., 0., 1., 0., 0., 0., 0.],\n",
       "       [1., 0., 0., 0., 0., 0., 0., 0., 0., 0.]], dtype=float32)>"
      ]
     },
     "execution_count": 7,
     "metadata": {},
     "output_type": "execute_result"
    }
   ],
   "source": [
    "y_onehot = tf.one_hot(y, depth=10)\n",
    "y_onehot[:2]"
   ]
  },
  {
   "cell_type": "code",
   "execution_count": 6,
   "metadata": {},
   "outputs": [
    {
     "data": {
      "text/plain": [
       "array([5, 0, 4, 1], dtype=uint8)"
      ]
     },
     "execution_count": 6,
     "metadata": {},
     "output_type": "execute_result"
    }
   ],
   "source": [
    "y[:4]"
   ]
  },
  {
   "cell_type": "code",
   "execution_count": null,
   "metadata": {},
   "outputs": [],
   "source": []
  },
  {
   "cell_type": "code",
   "execution_count": 14,
   "metadata": {},
   "outputs": [
    {
     "name": "stdout",
     "output_type": "stream",
     "text": [
      "(50000, 32, 32, 3)\n",
      "(50000, 1)\n",
      "0 255 120.70756512369792\n",
      "[[6]\n",
      " [9]\n",
      " [9]\n",
      " [4]]\n"
     ]
    }
   ],
   "source": [
    "(x, y), (x_test, y_test) = tf.keras.datasets.cifar10.load_data()\n",
    "print(x.shape)\n",
    "print(y.shape)\n",
    "print(x.min(), x.max(), x.mean())\n",
    "print(y[:4])"
   ]
  },
  {
   "cell_type": "code",
   "execution_count": 12,
   "metadata": {},
   "outputs": [
    {
     "name": "stdout",
     "output_type": "stream",
     "text": [
      "(50000, 32, 32, 3)\n",
      "(50000, 1)\n",
      "0 255 121.936059453125\n",
      "[[19]\n",
      " [29]\n",
      " [ 0]\n",
      " [11]]\n"
     ]
    }
   ],
   "source": [
    "(x, y), (x_test, y_test) = tf.keras.datasets.cifar100.load_data()\n",
    "print(x.shape)\n",
    "print(y.shape)\n",
    "print(x.min(), x.max(), x.mean())\n",
    "print(y[:4])"
   ]
  },
  {
   "cell_type": "code",
   "execution_count": 15,
   "metadata": {},
   "outputs": [
    {
     "data": {
      "text/plain": [
       "<tf.Tensor: id=43, shape=(32, 32, 3), dtype=uint8, numpy=\n",
       "array([[[158, 112,  49],\n",
       "        [159, 111,  47],\n",
       "        [165, 116,  51],\n",
       "        ...,\n",
       "        [137,  95,  36],\n",
       "        [126,  91,  36],\n",
       "        [116,  85,  33]],\n",
       "\n",
       "       [[152, 112,  51],\n",
       "        [151, 110,  40],\n",
       "        [159, 114,  45],\n",
       "        ...,\n",
       "        [136,  95,  31],\n",
       "        [125,  91,  32],\n",
       "        [119,  88,  34]],\n",
       "\n",
       "       [[151, 110,  47],\n",
       "        [151, 109,  33],\n",
       "        [158, 111,  36],\n",
       "        ...,\n",
       "        [139,  98,  34],\n",
       "        [130,  95,  34],\n",
       "        [120,  89,  33]],\n",
       "\n",
       "       ...,\n",
       "\n",
       "       [[ 68, 124, 177],\n",
       "        [ 42, 100, 148],\n",
       "        [ 31,  88, 137],\n",
       "        ...,\n",
       "        [ 38,  97, 146],\n",
       "        [ 13,  64, 108],\n",
       "        [ 40,  85, 127]],\n",
       "\n",
       "       [[ 61, 116, 168],\n",
       "        [ 49, 102, 148],\n",
       "        [ 35,  85, 132],\n",
       "        ...,\n",
       "        [ 26,  82, 130],\n",
       "        [ 29,  82, 126],\n",
       "        [ 20,  64, 107]],\n",
       "\n",
       "       [[ 54, 107, 160],\n",
       "        [ 56, 105, 149],\n",
       "        [ 45,  89, 132],\n",
       "        ...,\n",
       "        [ 24,  77, 124],\n",
       "        [ 34,  84, 129],\n",
       "        [ 21,  67, 110]]], dtype=uint8)>"
      ]
     },
     "execution_count": 15,
     "metadata": {},
     "output_type": "execute_result"
    }
   ],
   "source": [
    "db = tf.data.Dataset.from_tensor_slices(x_test)\n",
    "next(iter(db))"
   ]
  },
  {
   "cell_type": "code",
   "execution_count": 16,
   "metadata": {},
   "outputs": [
    {
     "name": "stdout",
     "output_type": "stream",
     "text": [
      "(<tf.Tensor: id=52, shape=(32, 32, 3), dtype=uint8, numpy=\n",
      "array([[[158, 112,  49],\n",
      "        [159, 111,  47],\n",
      "        [165, 116,  51],\n",
      "        ...,\n",
      "        [137,  95,  36],\n",
      "        [126,  91,  36],\n",
      "        [116,  85,  33]],\n",
      "\n",
      "       [[152, 112,  51],\n",
      "        [151, 110,  40],\n",
      "        [159, 114,  45],\n",
      "        ...,\n",
      "        [136,  95,  31],\n",
      "        [125,  91,  32],\n",
      "        [119,  88,  34]],\n",
      "\n",
      "       [[151, 110,  47],\n",
      "        [151, 109,  33],\n",
      "        [158, 111,  36],\n",
      "        ...,\n",
      "        [139,  98,  34],\n",
      "        [130,  95,  34],\n",
      "        [120,  89,  33]],\n",
      "\n",
      "       ...,\n",
      "\n",
      "       [[ 68, 124, 177],\n",
      "        [ 42, 100, 148],\n",
      "        [ 31,  88, 137],\n",
      "        ...,\n",
      "        [ 38,  97, 146],\n",
      "        [ 13,  64, 108],\n",
      "        [ 40,  85, 127]],\n",
      "\n",
      "       [[ 61, 116, 168],\n",
      "        [ 49, 102, 148],\n",
      "        [ 35,  85, 132],\n",
      "        ...,\n",
      "        [ 26,  82, 130],\n",
      "        [ 29,  82, 126],\n",
      "        [ 20,  64, 107]],\n",
      "\n",
      "       [[ 54, 107, 160],\n",
      "        [ 56, 105, 149],\n",
      "        [ 45,  89, 132],\n",
      "        ...,\n",
      "        [ 24,  77, 124],\n",
      "        [ 34,  84, 129],\n",
      "        [ 21,  67, 110]]], dtype=uint8)>, <tf.Tensor: id=53, shape=(1,), dtype=uint8, numpy=array([3], dtype=uint8)>)\n"
     ]
    }
   ],
   "source": [
    "db = tf.data.Dataset.from_tensor_slices((x_test, y_test))\n",
    "print(next(iter(db)))"
   ]
  },
  {
   "cell_type": "code",
   "execution_count": 17,
   "metadata": {},
   "outputs": [],
   "source": [
    "# 打散\n",
    "db = db.shuffle(10000)"
   ]
  },
  {
   "cell_type": "code",
   "execution_count": 18,
   "metadata": {},
   "outputs": [
    {
     "data": {
      "text/plain": [
       "(TensorShape([32, 32, 3]), TensorShape([1, 10]))"
      ]
     },
     "execution_count": 18,
     "metadata": {},
     "output_type": "execute_result"
    }
   ],
   "source": [
    "# 数据预处理\n",
    "def preproxess(x, y):\n",
    "    # cast 类型转换\n",
    "    x = tf.cast(x, dtype=tf.float32) / 255\n",
    "    y = tf.cast(y, dtype=tf.int32)\n",
    "    y = tf.one_hot(y, depth=10)\n",
    "    return x, y\n",
    "\n",
    "db2 = db.map(preproxess)\n",
    "res = next(iter(db2))\n",
    "res[0].shape, res[1].shape"
   ]
  },
  {
   "cell_type": "code",
   "execution_count": 19,
   "metadata": {},
   "outputs": [
    {
     "data": {
      "text/plain": [
       "<tf.Tensor: id=85, shape=(1, 10), dtype=float32, numpy=array([[0., 0., 1., 0., 0., 0., 0., 0., 0., 0.]], dtype=float32)>"
      ]
     },
     "execution_count": 19,
     "metadata": {},
     "output_type": "execute_result"
    }
   ],
   "source": [
    "res[1][:2]"
   ]
  },
  {
   "cell_type": "code",
   "execution_count": 20,
   "metadata": {},
   "outputs": [
    {
     "data": {
      "text/plain": [
       "(TensorShape([32, 32, 32, 3]), TensorShape([32, 1, 10]))"
      ]
     },
     "execution_count": 20,
     "metadata": {},
     "output_type": "execute_result"
    }
   ],
   "source": [
    "\n",
    "db3 = db2.batch(32)\n",
    "res = next(iter(db3))\n",
    "res[0].shape, res[1].shape"
   ]
  },
  {
   "cell_type": "code",
   "execution_count": 21,
   "metadata": {},
   "outputs": [],
   "source": [
    "x = tf.random.normal([3,3])"
   ]
  },
  {
   "cell_type": "code",
   "execution_count": 22,
   "metadata": {},
   "outputs": [
    {
     "data": {
      "text/plain": [
       "<tf.Tensor: id=101, shape=(3, 3), dtype=float32, numpy=\n",
       "array([[ 1.4471945 , -2.0056868 , -0.02623525],\n",
       "       [-0.50294054,  2.6745224 ,  0.21915592],\n",
       "       [ 0.39725196, -1.0755213 ,  0.2782927 ]], dtype=float32)>"
      ]
     },
     "execution_count": 22,
     "metadata": {},
     "output_type": "execute_result"
    }
   ],
   "source": [
    "x"
   ]
  },
  {
   "cell_type": "code",
   "execution_count": 23,
   "metadata": {},
   "outputs": [
    {
     "data": {
      "text/plain": [
       "<tf.Tensor: id=102, shape=(3, 3), dtype=float32, numpy=\n",
       "array([[ 0.39725196, -1.0755213 ,  0.2782927 ],\n",
       "       [ 1.4471945 , -2.0056868 , -0.02623525],\n",
       "       [-0.50294054,  2.6745224 ,  0.21915592]], dtype=float32)>"
      ]
     },
     "execution_count": 23,
     "metadata": {},
     "output_type": "execute_result"
    }
   ],
   "source": [
    "tf.random.shuffle(x)"
   ]
  },
  {
   "cell_type": "code",
   "execution_count": null,
   "metadata": {},
   "outputs": [],
   "source": [
    "# 例子\n",
    "def preproxess(x, y):\n",
    "    # cast 类型转换\n",
    "    x = tf.cast(x, dtype=tf.float32) / 255\n",
    "    y = tf.cast(y, dtype=tf.int32)\n",
    "    return x, y\n",
    "\n",
    "def mnist_dataset():\n",
    "    (x, y), (x_val, y_val) = tf.keras.datasets.fashion_mnist.load_data()\n",
    "    y = tf.one_hot(y, depth=10)\n",
    "    y_val = tf.one_hot(y_val, depth=10)\n",
    "    \n",
    "    ds = tf.data.Dataset.from_tensor_slices((x, y))\n",
    "    ds = ds.map(preproxess)\n",
    "    ds = ds.shuffle(60000).batch(100)\n",
    "    ds_val = tf.data.Dataset.from_tensor_slices((x_val, y_val))\n",
    "    ds_val = ds_val.map(preproxess)\n",
    "    ds_val = ds_val.shuffle(10000).batch(100)\n",
    "    return ds, ds_val"
   ]
  }
 ],
 "metadata": {
  "kernelspec": {
   "display_name": "Python 3",
   "language": "python",
   "name": "python3"
  },
  "language_info": {
   "codemirror_mode": {
    "name": "ipython",
    "version": 3
   },
   "file_extension": ".py",
   "mimetype": "text/x-python",
   "name": "python",
   "nbconvert_exporter": "python",
   "pygments_lexer": "ipython3",
   "version": "3.6.8"
  }
 },
 "nbformat": 4,
 "nbformat_minor": 2
}
