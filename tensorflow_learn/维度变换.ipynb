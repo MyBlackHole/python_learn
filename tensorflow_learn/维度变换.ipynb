{
 "cells": [
  {
   "cell_type": "code",
   "execution_count": 2,
   "metadata": {},
   "outputs": [],
   "source": [
    "import tensorflow as tf\n",
    "import os\n",
    "os.environ['CUDA_VISIBLE_DEVICES'] = '2'"
   ]
  },
  {
   "cell_type": "code",
   "execution_count": 3,
   "metadata": {},
   "outputs": [
    {
     "name": "stdout",
     "output_type": "stream",
     "text": [
      "(4, 28, 28, 3) 4\n",
      "(4, 784, 3)\n",
      "(4, 784, 3)\n",
      "(4, 2352)\n",
      "(4, 2352)\n"
     ]
    }
   ],
   "source": [
    "a = tf.random.normal([4, 28, 28, 3])\n",
    "# print(a)\n",
    "print(a.shape, a.ndim)\n",
    "print(tf.reshape(a, [4, 784, 3]).shape)\n",
    "print(tf.reshape(a, [4, -1, 3]).shape)\n",
    "print(tf.reshape(a, [4, 784 * 3]).shape)\n",
    "print(tf.reshape(a, [4, -1]).shape)"
   ]
  },
  {
   "cell_type": "markdown",
   "metadata": {},
   "source": [
    "### 转置"
   ]
  },
  {
   "cell_type": "code",
   "execution_count": 4,
   "metadata": {
    "scrolled": true
   },
   "outputs": [
    {
     "name": "stdout",
     "output_type": "stream",
     "text": [
      "(4, 3, 2, 1)\n",
      "(1, 2, 3, 4)\n",
      "(4, 3, 1, 2)\n"
     ]
    }
   ],
   "source": [
    "a = tf.random.normal([4, 3, 2, 1])\n",
    "print(a.shape)\n",
    "print(tf.transpose(a).shape) #转置\n",
    "print(tf.transpose(a, perm=[0, 1, 3, 2]).shape) # "
   ]
  },
  {
   "cell_type": "markdown",
   "metadata": {},
   "source": [
    "### 增加维度"
   ]
  },
  {
   "cell_type": "code",
   "execution_count": 5,
   "metadata": {},
   "outputs": [
    {
     "name": "stdout",
     "output_type": "stream",
     "text": [
      "(1, 4, 35, 8)\n",
      "(4, 1, 35, 8)\n",
      "(4, 35, 8, 1)\n",
      "(1, 4, 35, 8)\n"
     ]
    }
   ],
   "source": [
    "a = tf.random.normal([4, 35, 8])\n",
    "print(tf.expand_dims(a, axis=0).shape)\n",
    "print(tf.expand_dims(a, axis=1).shape)\n",
    "print(tf.expand_dims(a, axis=-1).shape)\n",
    "print(tf.expand_dims(a, axis=-4).shape)"
   ]
  },
  {
   "cell_type": "markdown",
   "metadata": {},
   "source": [
    "### 减少维度"
   ]
  },
  {
   "cell_type": "code",
   "execution_count": 6,
   "metadata": {},
   "outputs": [
    {
     "name": "stdout",
     "output_type": "stream",
     "text": [
      "(2, 3)\n",
      "(2, 1, 3)\n",
      "(1, 2, 3)\n",
      "(1, 2, 3)\n",
      "(2, 1, 3)\n"
     ]
    }
   ],
   "source": [
    "print(tf.squeeze(tf.zeros([1, 2, 1, 1, 3])).shape)\n",
    "a = tf.zeros([1, 2, 1, 3])\n",
    "print(tf.squeeze(a, axis=0).shape)\n",
    "print(tf.squeeze(a, axis=2).shape)\n",
    "print(tf.squeeze(a, axis=-2).shape)\n",
    "print(tf.squeeze(a, axis=-4).shape)"
   ]
  },
  {
   "cell_type": "markdown",
   "metadata": {},
   "source": [
    "### 维度扩张(没有复制数据)"
   ]
  },
  {
   "cell_type": "code",
   "execution_count": 10,
   "metadata": {},
   "outputs": [
    {
     "name": "stdout",
     "output_type": "stream",
     "text": [
      "(4, 28, 28, 3)\n",
      "(4, 28, 28, 3)\n",
      "(4, 28, 28, 3)\n"
     ]
    }
   ],
   "source": [
    "x = tf.random.normal([4, 28, 28, 3])\n",
    "print((x + tf.random.normal([3])).shape)\n",
    "print((x + tf.random.normal([1, 28, 1])).shape)\n",
    "print((x + tf.random.normal([4, 1, 1, 1])).shape)\n",
    "# print((x + tf.random.normal([1, 4, 1, 1])).shape)"
   ]
  },
  {
   "cell_type": "code",
   "execution_count": 7,
   "metadata": {},
   "outputs": [
    {
     "name": "stdout",
     "output_type": "stream",
     "text": [
      "tf.Tensor(\n",
      "[[[1. 1. 1. 1.]\n",
      "  [1. 1. 1. 1.]\n",
      "  [1. 1. 1. 1.]]\n",
      "\n",
      " [[1. 1. 1. 1.]\n",
      "  [1. 1. 1. 1.]\n",
      "  [1. 1. 1. 1.]]], shape=(2, 3, 4), dtype=float32)\n",
      "tf.Tensor(\n",
      "[[[1. 1. 1. 1.]\n",
      "  [1. 1. 1. 1.]\n",
      "  [1. 1. 1. 1.]]], shape=(1, 3, 4), dtype=float32)\n",
      "tf.Tensor(\n",
      "[[[1. 1. 1. 1.]\n",
      "  [1. 1. 1. 1.]\n",
      "  [1. 1. 1. 1.]]\n",
      "\n",
      " [[1. 1. 1. 1.]\n",
      "  [1. 1. 1. 1.]\n",
      "  [1. 1. 1. 1.]]\n",
      "\n",
      " [[1. 1. 1. 1.]\n",
      "  [1. 1. 1. 1.]\n",
      "  [1. 1. 1. 1.]]\n",
      "\n",
      " [[1. 1. 1. 1.]\n",
      "  [1. 1. 1. 1.]\n",
      "  [1. 1. 1. 1.]]], shape=(4, 3, 4), dtype=float32)\n"
     ]
    }
   ],
   "source": [
    "a = tf.ones([3, 4])\n",
    "a1 = tf.broadcast_to(a, [2, 3, 4])\n",
    "print(a1)\n",
    "a2 = tf.expand_dims(a, axis=0)\n",
    "print(a2)\n",
    "a2 = tf.tile(a1, [2, 1, 1])\n",
    "print(a2)"
   ]
  },
  {
   "cell_type": "code",
   "execution_count": null,
   "metadata": {},
   "outputs": [],
   "source": []
  }
 ],
 "metadata": {
  "kernelspec": {
   "display_name": "Python 3",
   "language": "python",
   "name": "python3"
  },
  "language_info": {
   "codemirror_mode": {
    "name": "ipython",
    "version": 3
   },
   "file_extension": ".py",
   "mimetype": "text/x-python",
   "name": "python",
   "nbconvert_exporter": "python",
   "pygments_lexer": "ipython3",
   "version": "3.6.8"
  }
 },
 "nbformat": 4,
 "nbformat_minor": 2
}