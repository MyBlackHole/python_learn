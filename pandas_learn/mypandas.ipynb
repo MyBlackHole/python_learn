{
  "cells": [
    {
      "cell_type": "code",
      "execution_count": 1,
      "metadata": {
        "collapsed": true,
        "pycharm": {
          "is_executing": false
        }
      },
      "outputs": [],
      "source": [
        "import pandas as pd"
      ]
    },
    {
      "cell_type": "code",
      "execution_count": 2,
      "outputs": [
        {
          "output_type": "stream",
          "name": "stdout",
          "text": [
            "0     1\n1     2\n2    31\n3     3\n4     4\n5     4\ndtype: int64\n"
          ]
        },
        {
          "output_type": "execute_result",
          "data": {
            "text/plain": [
              "pandas.core.series.Series"
            ]
          },
          "metadata": {},
          "execution_count": 2
        }
      ],
      "source": [
        "t = pd.Series([1,2,31,3,4,4])\n",
        "print(t)\n",
        "type(t)"
      ],
      "metadata": {
        "pycharm": {
          "metadata": false,
          "name": "#%%\n",
          "is_executing": false
        }
      }
    },
    {
      "source": [
        "- 构建带标签的数组"
      ],
      "cell_type": "markdown",
      "metadata": {
        "pycharm": {
          "metadata": false,
          "name": "#%% md\n"
        }
      }
    },
    {
      "source": [
        "t2 = pd.Series([2,5,2,5,3],index=list(\"abcde\"))\n",
        "print(t2)"
      ],
      "cell_type": "code",
      "metadata": {
        "pycharm": {
          "metadata": false,
          "name": "#%%\n",
          "is_executing": false
        }
      },
      "execution_count": null,
      "outputs": []
    },
    {
      "cell_type": "markdown",
      "source": [
        "- index 指定标签"
      ],
      "metadata": {
        "pycharm": {
          "metadata": false,
          "name": "#%% md\n"
        }
      }
    },
    {
      "cell_type": "code",
      "execution_count": 9,
      "outputs": [
        {
          "name": "stdout",
          "text": [
            "{'n': 'df', 'nge': 16}\nn      df\nnge    16\ndtype: object\n"
          ],
          "output_type": "stream"
        },
        {
          "data": {
            "text/plain": "dtype('O')"
          },
          "metadata": {},
          "output_type": "execute_result",
          "execution_count": 9
        }
      ],
      "source": [
        "temp_dict = {\"n\":\"df\",\"nge\":16}\n",
        "print(temp_dict)\n",
        "t3 = pd.Series(temp_dict)\n",
        "print(t3)\n",
        "t3.dtype"
      ],
      "metadata": {
        "pycharm": {
          "metadata": false,
          "name": "#%%\n",
          "is_executing": false
        }
      }
    },
    {
      "cell_type": "code",
      "execution_count": 10,
      "outputs": [
        {
          "data": {
            "text/plain": "a    2.0\nb    5.0\nc    2.0\nd    5.0\ne    3.0\ndtype: float64"
          },
          "metadata": {},
          "output_type": "execute_result",
          "execution_count": 10
        }
      ],
      "source": [
        "t2.astype(float)"
      ],
      "metadata": {
        "pycharm": {
          "metadata": false,
          "name": "#%%\n",
          "is_executing": false
        }
      }
    },
    {
      "cell_type": "markdown",
      "source": [
        "- astype：改变类型"
      ],
      "metadata": {
        "pycharm": {
          "metadata": false,
          "name": "#%% md\n"
        }
      }
    },
    {
      "cell_type": "code",
      "execution_count": 11,
      "outputs": [
        {
          "data": {
            "text/plain": "2"
          },
          "metadata": {},
          "output_type": "execute_result",
          "execution_count": 11
        }
      ],
      "source": [
        "t2[\"a\"]"
      ],
      "metadata": {
        "pycharm": {
          "metadata": false,
          "name": "#%%\n",
          "is_executing": false
        }
      }
    },
    {
      "cell_type": "code",
      "execution_count": 12,
      "outputs": [
        {
          "data": {
            "text/plain": "5"
          },
          "metadata": {},
          "output_type": "execute_result",
          "execution_count": 12
        }
      ],
      "source": [
        "t2[1]"
      ],
      "metadata": {
        "pycharm": {
          "metadata": false,
          "name": "#%%\n",
          "is_executing": false
        }
      }
    },
    {
      "cell_type": "code",
      "execution_count": 13,
      "outputs": [
        {
          "data": {
            "text/plain": "b    5\nc    2\ndtype: int64"
          },
          "metadata": {},
          "output_type": "execute_result",
          "execution_count": 13
        }
      ],
      "source": [
        "t2[[1,2]]"
      ],
      "metadata": {
        "pycharm": {
          "metadata": false,
          "name": "#%%\n",
          "is_executing": false
        }
      }
    },
    {
      "cell_type": "code",
      "execution_count": 15,
      "outputs": [
        {
          "data": {
            "text/plain": "b    5\nd    5\ne    3\ndtype: int64"
          },
          "metadata": {},
          "output_type": "execute_result",
          "execution_count": 15
        }
      ],
      "source": [
        "t2[t2>2]"
      ],
      "metadata": {
        "pycharm": {
          "metadata": false,
          "name": "#%%\n",
          "is_executing": false
        }
      }
    },
    {
      "cell_type": "code",
      "execution_count": 16,
      "outputs": [
        {
          "data": {
            "text/plain": "Index(['a', 'b', 'c', 'd', 'e'], dtype='object')"
          },
          "metadata": {},
          "output_type": "execute_result",
          "execution_count": 16
        }
      ],
      "source": [
        "t2.index"
      ],
      "metadata": {
        "pycharm": {
          "metadata": false,
          "name": "#%%\n",
          "is_executing": false
        }
      }
    },
    {
      "cell_type": "code",
      "execution_count": 17,
      "outputs": [
        {
          "data": {
            "text/plain": "pandas.core.indexes.base.Index"
          },
          "metadata": {},
          "output_type": "execute_result",
          "execution_count": 17
        }
      ],
      "source": [
        "type(t2.index)"
      ],
      "metadata": {
        "pycharm": {
          "metadata": false,
          "name": "#%%\n",
          "is_executing": false
        }
      }
    },
    {
      "cell_type": "code",
      "execution_count": 18,
      "outputs": [
        {
          "data": {
            "text/plain": "5"
          },
          "metadata": {},
          "output_type": "execute_result",
          "execution_count": 18
        }
      ],
      "source": [
        "len(t2.index)"
      ],
      "metadata": {
        "pycharm": {
          "metadata": false,
          "name": "#%%\n",
          "is_executing": false
        }
      }
    },
    {
      "cell_type": "code",
      "execution_count": 20,
      "outputs": [
        {
          "data": {
            "text/plain": "array([2, 5, 2, 5, 3])"
          },
          "metadata": {},
          "output_type": "execute_result",
          "execution_count": 20
        }
      ],
      "source": [
        "t2.values"
      ],
      "metadata": {
        "pycharm": {
          "metadata": false,
          "name": "#%%\n",
          "is_executing": false
        }
      }
    },
    {
      "cell_type": "code",
      "execution_count": 21,
      "outputs": [
        {
          "data": {
            "text/plain": "numpy.ndarray"
          },
          "metadata": {},
          "output_type": "execute_result",
          "execution_count": 21
        }
      ],
      "source": [
        "type(t2.values)"
      ],
      "metadata": {
        "pycharm": {
          "metadata": false,
          "name": "#%%\n",
          "is_executing": false
        }
      }
    },
    {
      "cell_type": "code",
      "execution_count": 23,
      "outputs": [
        {
          "name": "stdout",
          "text": [
            "          Row_Labels  Count_AnimalName\n0                  1                 1\n1                  2                 2\n2              40804                 1\n3              90201                 1\n4              90203                 1\n5             102201                 1\n6            3010271                 1\n7              MARCH                 2\n8              APRIL                51\n9             AUGUST                14\n10          DECEMBER                 4\n11            SUNDAY                13\n12            MONDAY                 4\n13            FRIDAY                19\n14               JAN                 1\n15               JUN                 1\n16           JANUARY                 1\n17              JUNE                24\n18              JULY                 9\n19               MON                 2\n20               MAY                13\n21          NOVEMBER                 1\n22           TUESDAY                 7\n23         SEPTEMBER                 2\n24         WEDNESDAY                10\n25               SUN                 5\n26     &QUOT;G&QUOT;                 1\n27       (LEELA)LILA                 1\n28              166Y                 1\n29           2CHAINZ                 1\n...              ...               ...\n16190           ZUKI                 3\n16191          ZUKIE                 1\n16192           ZUKO                 5\n16193           ZULA                 3\n16194           ZULI                 1\n16195           ZULU                11\n16196           ZULY                 2\n16197           ZUMA                 5\n16198          ZUMBA                 3\n16199           ZUNI                 3\n16200          ZUREE                 1\n16201           ZURI                 5\n16202           ZUSA                 1\n16203          ZUSHI                 1\n16204           ZUSY                 1\n16205           ZUTY                 1\n16206           ZUZI                 1\n16207          ZUZIA                 1\n16208           ZUZU                16\n16209       Z-WILLOW                 1\n16210            ZYU                 1\n16211             ZZ                 2\n16212           ???Y                 1\n16213           TRUE                 3\n16214          37846                 1\n16215          37916                 1\n16216          38282                 1\n16217          38583                 1\n16218          38948                 1\n16219          39743                 1\n\n[16220 rows x 2 columns]\n"
          ],
          "output_type": "stream"
        }
      ],
      "source": [
        "df = pd.read_csv(\"./dogNames2.csv\")\n",
        "print(df)"
      ],
      "metadata": {
        "pycharm": {
          "metadata": false,
          "name": "#%%\n",
          "is_executing": false
        }
      }
    },
    {
      "cell_type": "code",
      "execution_count": 4,
      "outputs": [
        {
          "data": {
            "text/plain": "   W  X   T   Z\na  0  1   2   3\nb  4  5   6   7\nc  8  9  10  11",
            "text/html": "<div>\n<style scoped>\n    .dataframe tbody tr th:only-of-type {\n        vertical-align: middle;\n    }\n\n    .dataframe tbody tr th {\n        vertical-align: top;\n    }\n\n    .dataframe thead th {\n        text-align: right;\n    }\n</style>\n<table border=\"1\" class=\"dataframe\">\n  <thead>\n    <tr style=\"text-align: right;\">\n      <th></th>\n      <th>W</th>\n      <th>X</th>\n      <th>T</th>\n      <th>Z</th>\n    </tr>\n  </thead>\n  <tbody>\n    <tr>\n      <th>a</th>\n      <td>0</td>\n      <td>1</td>\n      <td>2</td>\n      <td>3</td>\n    </tr>\n    <tr>\n      <th>b</th>\n      <td>4</td>\n      <td>5</td>\n      <td>6</td>\n      <td>7</td>\n    </tr>\n    <tr>\n      <th>c</th>\n      <td>8</td>\n      <td>9</td>\n      <td>10</td>\n      <td>11</td>\n    </tr>\n  </tbody>\n</table>\n</div>"
          },
          "metadata": {},
          "output_type": "execute_result",
          "execution_count": 4
        }
      ],
      "source": [
        "import numpy as np\n",
        "# pd.DataFrame(np.arange(12).reshape(3,4))\n",
        "pd.DataFrame(np.arange(12).reshape(3,4), index=list(\"abc\"), columns=list(\"WXTZ\"))"
      ],
      "metadata": {
        "pycharm": {
          "metadata": false,
          "name": "#%%\n",
          "is_executing": false
        }
      }
    },
    {
      "cell_type": "markdown",
      "source": [
        "- index：行索引\n",
        "- columns：列索引"
      ],
      "metadata": {
        "pycharm": {
          "metadata": false,
          "name": "#%% md\n"
        }
      }
    },
    {
      "cell_type": "code",
      "execution_count": 28,
      "outputs": [
        {
          "name": "stdout",
          "text": [
            "    n   b  tel\n0   l  ff    1\n1  df  dd    2\n"
          ],
          "output_type": "stream"
        }
      ],
      "source": [
        "d1 = {\"n\":[\"l\",\"df\"],\"b\":[\"ff\",\"dd\"],\"tel\":[1,2]}\n",
        "t1 = pd.DataFrame(d1)\n",
        "print(t1)"
      ],
      "metadata": {
        "pycharm": {
          "metadata": false,
          "name": "#%%\n",
          "is_executing": false
        }
      }
    },
    {
      "cell_type": "code",
      "execution_count": 34,
      "outputs": [
        {
          "name": "stdout",
          "text": [
            "   n   b  tel\n0  l  ff    1\n<class 'pandas.core.frame.DataFrame'>\nRangeIndex: 2 entries, 0 to 1\nData columns (total 3 columns):\nn      2 non-null object\nb      2 non-null object\ntel    2 non-null int64\ndtypes: int64(1), object(2)\nmemory usage: 128.0+ bytes\nNone\n            tel\ncount  2.000000\nmean   1.500000\nstd    0.707107\nmin    1.000000\n25%    1.250000\n50%    1.500000\n75%    1.750000\nmax    2.000000\n"
          ],
          "output_type": "stream"
        },
        {
          "data": {
            "text/plain": "    n   b  tel\n0   l  ff    1\n1  df  dd    2",
            "text/html": "<div>\n<style scoped>\n    .dataframe tbody tr th:only-of-type {\n        vertical-align: middle;\n    }\n\n    .dataframe tbody tr th {\n        vertical-align: top;\n    }\n\n    .dataframe thead th {\n        text-align: right;\n    }\n</style>\n<table border=\"1\" class=\"dataframe\">\n  <thead>\n    <tr style=\"text-align: right;\">\n      <th></th>\n      <th>n</th>\n      <th>b</th>\n      <th>tel</th>\n    </tr>\n  </thead>\n  <tbody>\n    <tr>\n      <th>0</th>\n      <td>l</td>\n      <td>ff</td>\n      <td>1</td>\n    </tr>\n    <tr>\n      <th>1</th>\n      <td>df</td>\n      <td>dd</td>\n      <td>2</td>\n    </tr>\n  </tbody>\n</table>\n</div>"
          },
          "metadata": {},
          "output_type": "execute_result",
          "execution_count": 34
        }
      ],
      "source": [
        "t1.ndim\n",
        "print(t1.head(1))\n",
        "print(t1.info())\n",
        "print(t1.describe())\n",
        "t1.tail(2)"
      ],
      "metadata": {
        "pycharm": {
          "metadata": false,
          "name": "#%%\n",
          "is_executing": false
        }
      }
    },
    {
      "cell_type": "markdown",
      "source": [
        "- ndim：纬度\n",
        "- head：前5行\n",
        "- tail：后5行\n",
        "- info：属性占用等信息\n",
        "- describe：统计信息"
      ],
      "metadata": {
        "pycharm": {
          "metadata": false,
          "name": "#%% md\n"
        }
      }
    },
    {
      "cell_type": "code",
      "execution_count": 36,
      "outputs": [
        {
          "data": {
            "text/plain": "    n   b  tel\n1  df  dd    2\n0   l  ff    1",
            "text/html": "<div>\n<style scoped>\n    .dataframe tbody tr th:only-of-type {\n        vertical-align: middle;\n    }\n\n    .dataframe tbody tr th {\n        vertical-align: top;\n    }\n\n    .dataframe thead th {\n        text-align: right;\n    }\n</style>\n<table border=\"1\" class=\"dataframe\">\n  <thead>\n    <tr style=\"text-align: right;\">\n      <th></th>\n      <th>n</th>\n      <th>b</th>\n      <th>tel</th>\n    </tr>\n  </thead>\n  <tbody>\n    <tr>\n      <th>1</th>\n      <td>df</td>\n      <td>dd</td>\n      <td>2</td>\n    </tr>\n    <tr>\n      <th>0</th>\n      <td>l</td>\n      <td>ff</td>\n      <td>1</td>\n    </tr>\n  </tbody>\n</table>\n</div>"
          },
          "metadata": {},
          "output_type": "execute_result",
          "execution_count": 36
        }
      ],
      "source": [
        "t1.sort_values(by=\"n\",ascending=False)"
      ],
      "metadata": {
        "pycharm": {
          "metadata": false,
          "name": "#%%\n",
          "is_executing": false
        }
      }
    },
    {
      "cell_type": "markdown",
      "source": [
        "- sort_values：排序\n",
        "    - by：指定排序标准\n",
        "    - ascending：False逆序排序"
      ],
      "metadata": {
        "pycharm": {
          "metadata": false,
          "name": "#%% md\n"
        }
      }
    },
    {
      "cell_type": "code",
      "execution_count": 38,
      "outputs": [
        {
          "data": {
            "text/plain": "0    ff\n1    dd\nName: b, dtype: object"
          },
          "metadata": {},
          "output_type": "execute_result",
          "execution_count": 38
        }
      ],
      "source": [
        "t1[:][\"b\"]"
      ],
      "metadata": {
        "pycharm": {
          "metadata": false,
          "name": "#%%\n",
          "is_executing": false
        }
      }
    },
    {
      "cell_type": "code",
      "execution_count": 41,
      "outputs": [
        {
          "data": {
            "text/plain": "'df'"
          },
          "metadata": {},
          "output_type": "execute_result",
          "execution_count": 41
        }
      ],
      "source": [
        "t1.loc[1,\"n\"]"
      ],
      "metadata": {
        "pycharm": {
          "metadata": false,
          "name": "#%%\n",
          "is_executing": false
        }
      }
    },
    {
      "cell_type": "code",
      "execution_count": 42,
      "outputs": [
        {
          "data": {
            "text/plain": "    n   b\n0   l  ff\n1  df  dd",
            "text/html": "<div>\n<style scoped>\n    .dataframe tbody tr th:only-of-type {\n        vertical-align: middle;\n    }\n\n    .dataframe tbody tr th {\n        vertical-align: top;\n    }\n\n    .dataframe thead th {\n        text-align: right;\n    }\n</style>\n<table border=\"1\" class=\"dataframe\">\n  <thead>\n    <tr style=\"text-align: right;\">\n      <th></th>\n      <th>n</th>\n      <th>b</th>\n    </tr>\n  </thead>\n  <tbody>\n    <tr>\n      <th>0</th>\n      <td>l</td>\n      <td>ff</td>\n    </tr>\n    <tr>\n      <th>1</th>\n      <td>df</td>\n      <td>dd</td>\n    </tr>\n  </tbody>\n</table>\n</div>"
          },
          "metadata": {},
          "output_type": "execute_result",
          "execution_count": 42
        }
      ],
      "source": [
        "t1.loc[:,[\"n\",\"b\"]]"
      ],
      "metadata": {
        "pycharm": {
          "metadata": false,
          "name": "#%%\n",
          "is_executing": false
        }
      }
    },
    {
      "cell_type": "code",
      "execution_count": 43,
      "outputs": [
        {
          "data": {
            "text/plain": "    n\n0   l\n1  df",
            "text/html": "<div>\n<style scoped>\n    .dataframe tbody tr th:only-of-type {\n        vertical-align: middle;\n    }\n\n    .dataframe tbody tr th {\n        vertical-align: top;\n    }\n\n    .dataframe thead th {\n        text-align: right;\n    }\n</style>\n<table border=\"1\" class=\"dataframe\">\n  <thead>\n    <tr style=\"text-align: right;\">\n      <th></th>\n      <th>n</th>\n    </tr>\n  </thead>\n  <tbody>\n    <tr>\n      <th>0</th>\n      <td>l</td>\n    </tr>\n    <tr>\n      <th>1</th>\n      <td>df</td>\n    </tr>\n  </tbody>\n</table>\n</div>"
          },
          "metadata": {},
          "output_type": "execute_result",
          "execution_count": 43
        }
      ],
      "source": [
        "t1.loc[0:1,[\"n\"]]"
      ],
      "metadata": {
        "pycharm": {
          "metadata": false,
          "name": "#%%\n",
          "is_executing": false
        }
      }
    },
    {
      "cell_type": "code",
      "execution_count": 44,
      "outputs": [
        {
          "data": {
            "text/plain": "n      df\nb      dd\ntel     2\nName: 1, dtype: object"
          },
          "metadata": {},
          "output_type": "execute_result",
          "execution_count": 44
        }
      ],
      "source": [
        "t1.iloc[1]"
      ],
      "metadata": {
        "pycharm": {
          "metadata": false,
          "name": "#%%\n",
          "is_executing": false
        }
      }
    },
    {
      "cell_type": "code",
      "execution_count": 46,
      "outputs": [
        {
          "data": {
            "text/plain": "n      df\nb      dd\ntel     2\nName: 1, dtype: object"
          },
          "metadata": {},
          "output_type": "execute_result",
          "execution_count": 46
        }
      ],
      "source": [
        "t1.iloc[1,:]"
      ],
      "metadata": {
        "pycharm": {
          "metadata": false,
          "name": "#%%\n",
          "is_executing": false
        }
      }
    },
    {
      "cell_type": "code",
      "execution_count": 48,
      "outputs": [],
      "source": [
        "t1.iloc[1] = np.nan"
      ],
      "metadata": {
        "pycharm": {
          "metadata": false,
          "name": "#%%\n",
          "is_executing": false
        }
      }
    },
    {
      "cell_type": "code",
      "execution_count": 49,
      "outputs": [
        {
          "data": {
            "text/plain": "     n    b  tel\n0    l   ff  1.0\n1  NaN  NaN  NaN",
            "text/html": "<div>\n<style scoped>\n    .dataframe tbody tr th:only-of-type {\n        vertical-align: middle;\n    }\n\n    .dataframe tbody tr th {\n        vertical-align: top;\n    }\n\n    .dataframe thead th {\n        text-align: right;\n    }\n</style>\n<table border=\"1\" class=\"dataframe\">\n  <thead>\n    <tr style=\"text-align: right;\">\n      <th></th>\n      <th>n</th>\n      <th>b</th>\n      <th>tel</th>\n    </tr>\n  </thead>\n  <tbody>\n    <tr>\n      <th>0</th>\n      <td>l</td>\n      <td>ff</td>\n      <td>1.0</td>\n    </tr>\n    <tr>\n      <th>1</th>\n      <td>NaN</td>\n      <td>NaN</td>\n      <td>NaN</td>\n    </tr>\n  </tbody>\n</table>\n</div>"
          },
          "metadata": {},
          "output_type": "execute_result",
          "execution_count": 49
        }
      ],
      "source": [
        "t1"
      ],
      "metadata": {
        "pycharm": {
          "metadata": false,
          "name": "#%%\n",
          "is_executing": false
        }
      }
    },
    {
      "cell_type": "code",
      "execution_count": 51,
      "outputs": [
        {
          "data": {
            "text/plain": "       n      b    tel\n0   True   True   True\n1  False  False  False",
            "text/html": "<div>\n<style scoped>\n    .dataframe tbody tr th:only-of-type {\n        vertical-align: middle;\n    }\n\n    .dataframe tbody tr th {\n        vertical-align: top;\n    }\n\n    .dataframe thead th {\n        text-align: right;\n    }\n</style>\n<table border=\"1\" class=\"dataframe\">\n  <thead>\n    <tr style=\"text-align: right;\">\n      <th></th>\n      <th>n</th>\n      <th>b</th>\n      <th>tel</th>\n    </tr>\n  </thead>\n  <tbody>\n    <tr>\n      <th>0</th>\n      <td>True</td>\n      <td>True</td>\n      <td>True</td>\n    </tr>\n    <tr>\n      <th>1</th>\n      <td>False</td>\n      <td>False</td>\n      <td>False</td>\n    </tr>\n  </tbody>\n</table>\n</div>"
          },
          "metadata": {},
          "output_type": "execute_result",
          "execution_count": 51
        }
      ],
      "source": [
        "pd.isnull(t1)\n",
        "pd.notnull(t1)"
      ],
      "metadata": {
        "pycharm": {
          "metadata": false,
          "name": "#%%\n",
          "is_executing": false
        }
      }
    },
    {
      "cell_type": "markdown",
      "source": [
        "- isnull：为nan的\n",
        "- notnull：不为nan的"
      ],
      "metadata": {
        "pycharm": {
          "metadata": false,
          "name": "#%% md\n"
        }
      }
    },
    {
      "cell_type": "code",
      "execution_count": 52,
      "outputs": [
        {
          "data": {
            "text/plain": "   n   b  tel\n0  l  ff  1.0",
            "text/html": "<div>\n<style scoped>\n    .dataframe tbody tr th:only-of-type {\n        vertical-align: middle;\n    }\n\n    .dataframe tbody tr th {\n        vertical-align: top;\n    }\n\n    .dataframe thead th {\n        text-align: right;\n    }\n</style>\n<table border=\"1\" class=\"dataframe\">\n  <thead>\n    <tr style=\"text-align: right;\">\n      <th></th>\n      <th>n</th>\n      <th>b</th>\n      <th>tel</th>\n    </tr>\n  </thead>\n  <tbody>\n    <tr>\n      <th>0</th>\n      <td>l</td>\n      <td>ff</td>\n      <td>1.0</td>\n    </tr>\n  </tbody>\n</table>\n</div>"
          },
          "metadata": {},
          "output_type": "execute_result",
          "execution_count": 52
        }
      ],
      "source": [
        "t1.dropna(axis=0,how=\"any\")"
      ],
      "metadata": {
        "pycharm": {
          "metadata": false,
          "name": "#%%\n",
          "is_executing": false
        }
      }
    },
    {
      "cell_type": "code",
      "execution_count": 54,
      "outputs": [],
      "source": [
        "t1.dropna(axis=0,how=\"all\")\n",
        "t1.dropna(axis=0,how=\"all\", inplace=True)"
      ],
      "metadata": {
        "pycharm": {
          "metadata": false,
          "name": "#%%\n",
          "is_executing": false
        }
      }
    },
    {
      "cell_type": "markdown",
      "source": [
        "- how\n",
        "    - all 全为nan的行去掉\n",
        "    - any 具有nan的行去掉\n",
        "- inplace 直接修改t1"
      ],
      "metadata": {
        "pycharm": {
          "metadata": false,
          "name": "#%% md\n",
          "is_executing": false
        }
      }
    },
    {
      "cell_type": "code",
      "execution_count": 56,
      "outputs": [
        {
          "data": {
            "text/plain": "tel    1.0\ndtype: float64"
          },
          "metadata": {},
          "output_type": "execute_result",
          "execution_count": 56
        }
      ],
      "source": [
        "t1.mean()"
      ],
      "metadata": {
        "pycharm": {
          "metadata": false,
          "name": "#%%\n",
          "is_executing": false
        }
      }
    },
    {
      "cell_type": "markdown",
      "source": [
        "- mean 求均值"
      ],
      "metadata": {
        "pycharm": {
          "metadata": false,
          "name": "#%% md\n"
        }
      }
    },
    {
      "cell_type": "code",
      "execution_count": 19,
      "outputs": [
        {
          "data": {
            "text/plain": "     x    y    z\n0  0.0  0.0  0.0\n1  0.0  0.0  0.0\n2  0.0  0.0  0.0\n3  0.0  0.0  0.0\n4  0.0  0.0  0.0\n5  0.0  0.0  0.0\n6  0.0  0.0  0.0\n7  0.0  0.0  0.0\n8  0.0  0.0  0.0",
            "text/html": "<div>\n<style scoped>\n    .dataframe tbody tr th:only-of-type {\n        vertical-align: middle;\n    }\n\n    .dataframe tbody tr th {\n        vertical-align: top;\n    }\n\n    .dataframe thead th {\n        text-align: right;\n    }\n</style>\n<table border=\"1\" class=\"dataframe\">\n  <thead>\n    <tr style=\"text-align: right;\">\n      <th></th>\n      <th>x</th>\n      <th>y</th>\n      <th>z</th>\n    </tr>\n  </thead>\n  <tbody>\n    <tr>\n      <th>0</th>\n      <td>0.0</td>\n      <td>0.0</td>\n      <td>0.0</td>\n    </tr>\n    <tr>\n      <th>1</th>\n      <td>0.0</td>\n      <td>0.0</td>\n      <td>0.0</td>\n    </tr>\n    <tr>\n      <th>2</th>\n      <td>0.0</td>\n      <td>0.0</td>\n      <td>0.0</td>\n    </tr>\n    <tr>\n      <th>3</th>\n      <td>0.0</td>\n      <td>0.0</td>\n      <td>0.0</td>\n    </tr>\n    <tr>\n      <th>4</th>\n      <td>0.0</td>\n      <td>0.0</td>\n      <td>0.0</td>\n    </tr>\n    <tr>\n      <th>5</th>\n      <td>0.0</td>\n      <td>0.0</td>\n      <td>0.0</td>\n    </tr>\n    <tr>\n      <th>6</th>\n      <td>0.0</td>\n      <td>0.0</td>\n      <td>0.0</td>\n    </tr>\n    <tr>\n      <th>7</th>\n      <td>0.0</td>\n      <td>0.0</td>\n      <td>0.0</td>\n    </tr>\n    <tr>\n      <th>8</th>\n      <td>0.0</td>\n      <td>0.0</td>\n      <td>0.0</td>\n    </tr>\n  </tbody>\n</table>\n</div>"
          },
          "metadata": {},
          "output_type": "execute_result",
          "execution_count": 19
        }
      ],
      "source": [
        "df1 = pd.DataFrame(np.ones((2,4)),index=[\"A\",\"B\"], columns=list(\"abcd\"))\n",
        "df2 = pd.DataFrame(np.zeros((3,3)),index=[\"A\",\"B\",\"C\"], columns=list(\"xyz\"))\n",
        "df2.join(df1)\n",
        "df3 = pd.DataFrame(np.ones((3,3)),index=[\"D\",\"E\",\"F\"], columns=list(\"xyz\"))\n",
        "df2.merge(df3, how=\"outer\")"
      ],
      "metadata": {
        "pycharm": {
          "metadata": false,
          "name": "#%%\n",
          "is_executing": false
        }
      }
    },
    {
      "cell_type": "markdown",
      "source": [
        "- join 按行合并\n",
        "- mernge 按列合并\n",
        "    - outer 并集\n",
        "    - inner 交集（默认）\n",
        "    - left 左边为准\n",
        "    - right 右边为准"
      ],
      "metadata": {
        "pycharm": {
          "metadata": false,
          "name": "#%% md\n",
          "is_executing": false
        }
      }
    },
    {
      "cell_type": "code",
      "execution_count": null,
      "outputs": [],
      "source": [
        "# 数据按照多个条件进行分组,返回Series\n",
        "grouped = df[\"Brand\"].groupby(by=[df[\"Country\"],df[\"State/Province\"]]).count()\n",
        "print(grouped)\n",
        "print(type(grouped))\n",
        "\n",
        "# 数据按照多个条件进行分组,返回DataFrame\n",
        "grouped1 = df[[\"Brand\"]].groupby(by=[df[\"Country\"], df[\"State/Province\"]]).count()"
      ],
      "metadata": {
        "pycharm": {
          "metadata": false,
          "name": "#%%\n"
        }
      }
    },
    {
      "cell_type": "markdown",
      "source": [
        "- by 设置索引条件"
      ],
      "metadata": {
        "pycharm": {
          "metadata": false,
          "name": "#%% md\n"
        }
      }
    },
    {
      "cell_type": "code",
      "execution_count": null,
      "outputs": [],
      "source": [
        "grouped1.index\n",
        "grouped1.index['x','y']\n",
        "grouped1.reindex(list(\"abcdf\"))\n",
        "grouped1.set_index(\"Country\", drop=False)\n",
        "grouped1.set_index(\"Country\").index.unique()"
      ],
      "metadata": {
        "pycharm": {
          "metadata": false,
          "name": "#%%\n"
        }
      }
    },
    {
      "cell_type": "markdown",
      "source": [
        "- 获取index\n",
        "- 指定index\n",
        "- 重新设置index\n",
        "- 指定某列为index\n",
        "    - drop False 保留索引数据\n",
        "- 返回index的唯一值"
      ],
      "metadata": {
        "pycharm": {
          "metadata": false,
          "name": "#%% md\n"
        }
      }
    },
    {
      "cell_type": "code",
      "execution_count": null,
      "outputs": [],
      "source": [
        "grouped1.swaplevel()"
      ],
      "metadata": {
        "pycharm": {
          "metadata": false,
          "name": "#%% \n"
        }
      }
    },
    {
      "cell_type": "markdown",
      "source": [
        "- 置换索引"
      ],
      "metadata": {
        "pycharm": {
          "metadata": false,
          "name": "#%% md\n"
        }
      }
    },
    {
      "cell_type": "code",
      "execution_count": null,
      "outputs": [],
      "source": [
        "grouped1.loc[\"GT\"].loc[\"ZA\"]"
      ],
      "metadata": {
        "pycharm": {
          "metadata": false,
          "name": "#%%\n"
        }
      }
    },
    {
      "cell_type": "markdown",
      "source": [
        "- 取数据"
      ],
      "metadata": {
        "pycharm": {
          "metadata": false,
          "name": "#%% md\n"
        }
      }
    },
    {
      "cell_type": "code",
      "execution_count": null,
      "outputs": [],
      "source": [
        "df[\"title\"].str.contains(\"abc\")"
      ],
      "metadata": {
        "pycharm": {
          "metadata": false,
          "name": "#%%\n"
        }
      }
    },
    {
      "cell_type": "markdown",
      "source": [
        "- contains df[\"title\"]列字符串是否包含abc子串"
      ],
      "metadata": {
        "pycharm": {
          "metadata": false,
          "name": "#%% md\n"
        }
      }
    },
    {
      "cell_type": "code",
      "execution_count": null,
      "outputs": [],
      "source": [
        "pd.date_range(start=\"20171230\",end=\"20180131\", freq=\"D\")\n",
        "pd.date_range(start=\"20171230\",end=\"20180131\", freq=\"10D\")\n",
        "pd.date_range(start=\"20171230\",periods=10, freq=\"D\")\n",
        "pd.date_range(start=\"20171230\",periods=10, freq=\"M\")"
      ],
      "metadata": {
        "pycharm": {
          "metadata": false,
          "name": "#%%\n"
        }
      }
    },
    {
      "cell_type": "markdown",
      "source": [
        "- freq 别名\n",
        "![别名](图片1.png)"
      ],
      "metadata": {
        "pycharm": {
          "metadata": false,
          "name": "#%% md\n"
        }
      }
    },
    {
      "cell_type": "code",
      "execution_count": null,
      "outputs": [],
      "source": [
        "df.resample(\"M\").count()[\"title\"]"
      ],
      "metadata": {
        "pycharm": {
          "metadata": false,
          "name": "#%%\n"
        }
      }
    },
    {
      "cell_type": "markdown",
      "source": [
        "- 重新采样时间数据"
      ],
      "metadata": {
        "pycharm": {
          "metadata": false,
          "name": "#%% md\n"
        }
      }
    },
    {
      "cell_type": "code",
      "execution_count": null,
      "outputs": [],
      "source": [
        "file_path = \"./PM2.5/BeijingPM20100101_20151231.csv\"\n",
        "df = pd.read_csv(file_path)\n",
        "# 把分开的时间字符串通过periodIndex的方法转化为pandas的时间类型\n",
        "period = pd.PeriodIndex(year=df[\"year\"], month=df[\"month\"], day=df[\"day\"], hour=df[\"hour\"], freq=\"H\")"
      ],
      "metadata": {
        "pycharm": {
          "metadata": false,
          "name": "#%%\n"
        }
      }
    },
    {
      "cell_type": "markdown",
      "source": [
        "- 构造时间戳\n"
      ],
      "metadata": {
        "pycharm": {
          "metadata": false,
          "name": "#%% md\n"
        }
      }
    }
  ],
  "metadata": {
    "language_info": {
      "codemirror_mode": {
        "name": "ipython",
        "version": 2
      },
      "file_extension": ".py",
      "mimetype": "text/x-python",
      "name": "python",
      "nbconvert_exporter": "python",
      "pygments_lexer": "ipython2",
      "version": "3.8.6-final"
    },
    "kernelspec": {
      "name": "python3",
      "display_name": "Python 3.8.6 64-bit",
      "metadata": {
        "interpreter": {
          "hash": "767d51c1340bd893661ea55ea3124f6de3c7a262a8b4abca0554b478b1e2ff90"
        }
      }
    }
  },
  "nbformat": 4,
  "nbformat_minor": 0
}