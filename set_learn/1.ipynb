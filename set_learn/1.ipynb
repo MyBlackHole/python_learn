{
 "cells": [
  {
   "cell_type": "code",
   "execution_count": null,
   "outputs": [],
   "source": [
    "import json\n",
    "\n",
    "_set = set()\n",
    "\n",
    "with open(r'C:\\Users\\BlackHole\\Documents\\工作文档\\meta_search2.csv', 'r', encoding='utf-8') as f:\n",
    "    _list = f.readlines()\n",
    "\n",
    "for key in _list:\n",
    "    _set.add(key.strip())\n",
    "\n",
    "print(len(_set))\n",
    "\n",
    "with open('key2.json', 'w', encoding='utf-8') as f:\n",
    "    f.write(json.dumps(list(_set), ensure_ascii=False))\n",
    "\n",
    "# %%\n",
    "\n",
    "with open(r'key.json', 'r', encoding='utf-8') as f:\n",
    "    data = f.read()\n",
    "_set = set(json.loads(data))\n",
    "print(len(_set))\n",
    "with open(r'key2.json', 'r', encoding='utf-8') as f:\n",
    "    data = f.read()\n",
    "_set_2 = set(json.loads(data))\n",
    "print(len(_set_2))\n",
    "_set_2.intersection_update(_set)\n",
    "_set = _set | _set_2\n",
    "\n",
    "with open('key_all.json', 'w', encoding='utf-8') as f:\n",
    "    f.write(json.dumps(list(_set), ensure_ascii=False))"
   ],
   "metadata": {
    "collapsed": false,
    "pycharm": {
     "name": "#%%\n"
    }
   }
  },
  {
   "cell_type": "code",
   "execution_count": null,
   "outputs": [],
   "source": [
    "import json\n",
    "\n",
    "with open(r'key.json', 'r', encoding='utf-8') as f:\n",
    "    data = f.read()\n",
    "_set = set(json.loads(data))\n",
    "_set_2 = set()\n",
    "for key_str in _set:\n",
    "    _list = key_str.replace(' ', '+')\n",
    "    for key in _list.split('+'):\n",
    "        _set_2.add(key)\n",
    "\n",
    "with open('key_item_all.json', 'w', encoding='utf-8') as f:\n",
    "    f.write(json.dumps(list(_set_2), ensure_ascii=False))"
   ],
   "metadata": {
    "collapsed": false,
    "pycharm": {
     "name": "#%%\n"
    }
   }
  },
  {
   "cell_type": "code",
   "execution_count": null,
   "outputs": [],
   "source": [
    "import json\n",
    "\n",
    "data = list(_set_2)\n",
    "n = 100  # 大列表中几个数据组成一个小列表\n",
    "for i, _list in enumerate([data[i:i + n] for i in range(0, len(data), n)]):\n",
    "    with open(f'./key_str/{i}.json', 'w', encoding='utf-8') as f:\n",
    "        f.write(json.dumps(\"|\".join(_list), ensure_ascii=False))"
   ],
   "metadata": {
    "collapsed": false,
    "pycharm": {
     "name": "#%%\n"
    }
   }
  },
  {
   "cell_type": "code",
   "execution_count": null,
   "outputs": [],
   "source": [
    "_str = '公开信|申诉|投诉|贪污|腐败|贪腐|不作为|懒政|庸政|法轮功|民主|自由化|民运分子|天灭中共|八九|民运|六四|九评|六月四日|异见人士|退出共产党|退党|骂党|学潮|退党|黑金政策|民族问题|民族矛盾|反党|反共|邪教|泄密|间谍|敌对势力|毒品|暴动|暴乱|爆炸|绑架|逼供|惨案|藏独|持械|冲突|刺杀|篡改|错案|打砸|弹药|恶势力|犯法|犯罪|攻击|拐卖|黑社会|黑势力|击毙|极端组织|极端分子|挟持|戒严|聚众|枪支|开枪|枪击|砍人|砍死|抗法|抗议|恐怖|恐慌|扣押|狂殴|滥用|勒索|轮奸|裸死|灭口|命案|谋杀|闹访|闹事|虐童|潜逃|欠薪|讨薪|强暴|强拆|强盗|强奸|强征|抢劫|侵吞|囚禁|群架|群殴|人命|杀人|烧毁|烧杀|涉黑|涉黄|身亡|施暴|示威|死伤|死亡|讨薪|讨债|跳河|跳楼|维权|外逃|枉法|围攻|围殴|武力|袭击|泄密|刑讯|血案|医闹|用刑|游行|冤|致残|抓获|追诉|坠楼|自焚|自杀|纵火|走私|截访|民愤|上访|游行|讨薪|集会|散步|上访|中毒|绝食|抗议|停工|停运|打砸|堵路|示威|集体|群体|非法|PX项目|罢工|罢市|罢课|摆花圈|教育|学校|小学|中学|初中|高中|校园|学生|老师|教师|校长|安全|霸凌|罢课|粗鲁|假文凭|打老师|打学生|代考|待遇|伙食|中毒|假文凭|工资|无证|试题泄密|欺凌|强制收费|食堂|体罚|替考|违规|猥亵|校车|野蛮|择校费|自杀|非法办学|住房|房屋限购|廉租房|经适房|房价上涨|限价房|高房价|房价飙升|捂盘|住房保障|房价狂涨|经济适用房|就业|卫生|脱贫|医患|医院|医疗|医生|药品|疫苗|医学|行医|不合格|查处|传染|非法|过期|流感|举报|拒治|拒医|失误|事故|体制|违|滥用|矛盾|事故|纠纷|体制|医闹|看病难|医疗事故|看病贵|疫情|交通|地铁|泥巴路|村道|高铁|铁路|落后|难走|不合理|规划|拥堵|堵车|堵死|瘫痪|拥挤|环境|空气|生态|水|河水|河流|保护|污染|破坏|排污|环保|食品|食物|安全|中毒|卫生|通货膨胀|物价问题|灾区|扶贫|脱贫|贫困户|扶贫干部|非贫困户|造假|不实|矛盾|腐败|贪腐|举报|不精准|精神|领导|干部|当官|书记|市长|县长|部长|厅长|局长|省长|主席|人大代表|村长|村干部|扶贫干部|基层干部|城管|官员|暗箱|包庇|包养|保护伞|庇护|贬职|不公平|不正当|不作为|操纵|撤职|吃空饷|丑闻|出逃|处分|处置|篡改|诋毁|渎职|堕落|二奶|反腐|反贪|诽榜|分赃|封堵|腐败|腐化|公车|公款|公平|公权|勾结|官二代|官商|害民|行贿|好处费|背景|后台|回扣|贿赂|贿选|检举|举报|巨贪|拒捕|空饷|拉帮|拉选票|赖账|懒政|滥用|敛财|乱纪|乱作为|落马|买官|卖官|瞒报|谋取|谋私|幕后|挪用|跑官|曝光|潜规则|潜逃|情妇|权钱|权色|涉贪|失职|收红包|收礼|收钱|收受|受贿|受骗|受审|双规|双开|双指|司法|私开|私囊|私吞|私用|送礼|索贿|贪腐|贪官|贪贿|贪图|贪污|贪赃|通奸|外逃|下台|小金库|小三|携款|选举|徇私|艳照|要官|迂腐|越权|赃款|找关系|遮天|镇压|职权|职务之便|自盗|作风|季度|指标|退伍安置|退伍军人|未安置就业军人|民办教师|失独|校园暴力|水质异常|水污染|疫情|彭州石化|PX|僧人|农产滞销|水果滞销|讨薪|农民工|欠薪|绩效|自焚|矿难|中毒|藏民|彝族|分裂|盗挖|盗采|滞留|雾霾|打砸抢|扶贫|脱贫|新农村|豆腐渣|跳楼|灾区|孤儿|大凉山|自杀|清真|爆炸|强拆|强征|游行|维权|集会|散步|上访|中毒|绝食|抗议|停工|停运|罢工|打砸|堵路|示威|医闹|医患|虐童|流感|环境破坏|环境污染|空气污染|生态破坏|生态污染|污染|贫困不精准|脱贫欺瞒|扶贫欺瞒|修房|修路|公开信|申诉|留学生|暴雨|灾情|洪水|泥石流|地震|烂尾|黑社会|黑势力|打黑除恶|事故|文物保护|反对|超标|旅游+投诉+垃圾+厕所|低价游|九寨沟+重建+投诉|申诉|请求|交通|地铁|泥巴路|村道|高铁|铁路|落后|难走|不合理|规划|拥堵|堵车|堵死|瘫痪|拥挤|火灾|大火'\n",
    "str_list = _str.split('|')"
   ],
   "metadata": {
    "collapsed": false,
    "pycharm": {
     "name": "#%%\n"
    }
   }
  },
  {
   "cell_type": "code",
   "execution_count": null,
   "outputs": [],
   "source": [
    "_set_2.remove('')\n",
    "_set_3 = _set_2.copy()\n",
    "for key in _set_2:\n",
    "    for _str_key in str_list:\n",
    "        if _str_key in key:\n",
    "            _set_3.remove(key)\n",
    "            break"
   ],
   "metadata": {
    "collapsed": false,
    "pycharm": {
     "name": "#%%\n"
    }
   }
  },
  {
   "cell_type": "code",
   "execution_count": null,
   "outputs": [],
   "source": [
    "_list = list(_set_3)\n",
    "with open(f'filter_key.json', 'w', encoding='utf-8') as f:\n",
    "    f.write(json.dumps(\"|\".join(_list), ensure_ascii=False))"
   ],
   "metadata": {
    "collapsed": false,
    "pycharm": {
     "name": "#%%\n"
    }
   }
  },
  {
   "cell_type": "code",
   "execution_count": null,
   "outputs": [],
   "source": [
    "import re\n",
    "print(bool(re.search(r'\\w', 'w上课')))"
   ],
   "metadata": {
    "collapsed": false,
    "pycharm": {
     "name": "#%%\n"
    }
   }
  },
  {
   "cell_type": "code",
   "execution_count": null,
   "outputs": [],
   "source": [
    "import re\n",
    "_set_2 = _set_3.copy()\n",
    "for key in list(_set_3):\n",
    "    if bool(re.search(r'\\w', key)):\n",
    "        _set_2.remove(key)\n",
    "        break"
   ],
   "metadata": {
    "collapsed": false,
    "pycharm": {
     "name": "#%%\n"
    }
   }
  },
  {
   "cell_type": "code",
   "execution_count": null,
   "outputs": [],
   "source": [
    "with open(f'filter_bat.json', 'w', encoding='utf-8') as f:\n",
    "    f.write(json.dumps(list(_set_2), ensure_ascii=False))\n",
    "\n"
   ],
   "metadata": {
    "collapsed": false,
    "pycharm": {
     "name": "#%%\n"
    }
   }
  }
 ],
 "metadata": {
  "kernelspec": {
   "display_name": "Python 3",
   "language": "python",
   "name": "python3"
  },
  "language_info": {
   "codemirror_mode": {
    "name": "ipython",
    "version": 2
   },
   "file_extension": ".py",
   "mimetype": "text/x-python",
   "name": "python",
   "nbconvert_exporter": "python",
   "pygments_lexer": "ipython2",
   "version": "2.7.6"
  }
 },
 "nbformat": 4,
 "nbformat_minor": 0
}