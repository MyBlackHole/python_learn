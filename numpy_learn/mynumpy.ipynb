{
  "cells": [
    {
      "cell_type": "code",
      "execution_count": 1,
      "metadata": {
        "collapsed": true,
        "pycharm": {
          "is_executing": false
        }
      },
      "outputs": [],
      "source": "import numpy as np"
    },
    {
      "cell_type": "code",
      "execution_count": 10,
      "outputs": [
        {
          "name": "stdout",
          "text": [
            "[ 0  1  2  3  4  5  6  7  8  9 10 11]\n"
          ],
          "output_type": "stream"
        },
        {
          "data": {
            "text/plain": "(12,)"
          },
          "metadata": {},
          "output_type": "execute_result",
          "execution_count": 10
        }
      ],
      "source": "t1 \u003d np.arange(12)\nprint(t1)\nt1.shape",
      "metadata": {
        "pycharm": {
          "metadata": false,
          "name": "#%% \n",
          "is_executing": false
        }
      }
    },
    {
      "cell_type": "code",
      "execution_count": 11,
      "outputs": [
        {
          "name": "stdout",
          "text": [
            "[[1 2 3]\n [4 5 6]]\n"
          ],
          "output_type": "stream"
        },
        {
          "data": {
            "text/plain": "(2, 3)"
          },
          "metadata": {},
          "output_type": "execute_result",
          "execution_count": 11
        }
      ],
      "source": "t2 \u003d np.array([[1,2,3],[4,5,6]])\nprint(t2)\nt2.shape",
      "metadata": {
        "pycharm": {
          "metadata": false,
          "name": "#%%\n",
          "is_executing": false
        }
      }
    },
    {
      "cell_type": "markdown",
      "source": "\u003e - shape：纬度\n\u003e - np.arange：构建一维对象\n\u003e - np.array：构建对象",
      "metadata": {
        "pycharm": {
          "metadata": false,
          "name": "#%% md\n"
        }
      }
    },
    {
      "cell_type": "code",
      "execution_count": 15,
      "outputs": [
        {
          "name": "stdout",
          "text": [
            "[[[ 1  2  3]\n  [ 4  5  6]]\n\n [[ 7  8  9]\n  [10 11 12]]]\n"
          ],
          "output_type": "stream"
        },
        {
          "data": {
            "text/plain": "(2, 2, 3)"
          },
          "metadata": {},
          "output_type": "execute_result",
          "execution_count": 15
        }
      ],
      "source": "t3 \u003d np.array([[[1,2,3],[4,5,6]],[[7,8,9],[10,11,12]]])\nprint(t3)\nt3.shape",
      "metadata": {
        "pycharm": {
          "metadata": false,
          "name": "#%%\n",
          "is_executing": false
        }
      }
    },
    {
      "cell_type": "code",
      "execution_count": 16,
      "outputs": [
        {
          "name": "stdout",
          "text": [
            "[ 0  1  2  3  4  5  6  7  8  9 10 11]\n"
          ],
          "output_type": "stream"
        },
        {
          "data": {
            "text/plain": "array([[ 0,  1,  2,  3],\n       [ 4,  5,  6,  7],\n       [ 8,  9, 10, 11]])"
          },
          "metadata": {},
          "output_type": "execute_result",
          "execution_count": 16
        }
      ],
      "source": "t4 \u003d np.arange(12)\nprint(t4)\nt4.reshape((3,4))",
      "metadata": {
        "pycharm": {
          "metadata": false,
          "name": "#%%\n",
          "is_executing": false
        }
      }
    },
    {
      "cell_type": "markdown",
      "source": "\u003e - reshape((3,4))：构建（3，4）纬度对象",
      "metadata": {
        "pycharm": {
          "metadata": false,
          "name": "#%% md\n"
        }
      }
    },
    {
      "cell_type": "code",
      "execution_count": 26,
      "outputs": [
        {
          "name": "stdout",
          "text": [
            "[[[ 0  1  2  3]\n  [ 4  5  6  7]\n  [ 8  9 10 11]]\n\n [[12 13 14 15]\n  [16 17 18 19]\n  [20 21 22 23]]]\n\n\n[[ 0  1  2  3  4  5]\n [ 6  7  8  9 10 11]\n [12 13 14 15 16 17]\n [18 19 20 21 22 23]]\n\n\n[[[ 0  1  2  3]\n  [ 4  5  6  7]\n  [ 8  9 10 11]]\n\n [[12 13 14 15]\n  [16 17 18 19]\n  [20 21 22 23]]]\n"
          ],
          "output_type": "stream"
        }
      ],
      "source": "t5 \u003d np.arange(24).reshape((2,3,4))\nprint(t5)\nprint(\"\\n\")\nprint(t5.reshape((4,6)))\nprint(\"\\n\")\nprint(t5)",
      "metadata": {
        "pycharm": {
          "metadata": false,
          "name": "#%% \n",
          "is_executing": false
        }
      }
    },
    {
      "cell_type": "code",
      "execution_count": 32,
      "outputs": [
        {
          "name": "stdout",
          "text": [
            "24\n"
          ],
          "output_type": "stream"
        },
        {
          "data": {
            "text/plain": "array([ 0,  1,  2,  3,  4,  5,  6,  7,  8,  9, 10, 11, 12, 13, 14, 15, 16,\n       17, 18, 19, 20, 21, 22, 23])"
          },
          "metadata": {},
          "output_type": "execute_result",
          "execution_count": 32
        }
      ],
      "source": "t5.flatten()\nprint(t5.shape[0]*t5.shape[1]*t5.shape[2])\nt5.reshape((t5.shape[0]*t5.shape[1]*t5.shape[2],))",
      "metadata": {
        "pycharm": {
          "metadata": false,
          "name": "#%%\n",
          "is_executing": false
        }
      }
    },
    {
      "cell_type": "markdown",
      "source": "\u003e - flatten()：展开成一维",
      "metadata": {
        "pycharm": {
          "metadata": false,
          "name": "#%% md\n"
        }
      }
    },
    {
      "cell_type": "code",
      "execution_count": 33,
      "outputs": [
        {
          "data": {
            "text/plain": "array([[[ 2,  3,  4,  5],\n        [ 6,  7,  8,  9],\n        [10, 11, 12, 13]],\n\n       [[14, 15, 16, 17],\n        [18, 19, 20, 21],\n        [22, 23, 24, 25]]])"
          },
          "metadata": {},
          "output_type": "execute_result",
          "execution_count": 33
        }
      ],
      "source": "t5+2",
      "metadata": {
        "pycharm": {
          "metadata": false,
          "name": "#%% \n",
          "is_executing": false
        }
      }
    },
    {
      "cell_type": "code",
      "execution_count": 34,
      "outputs": [
        {
          "data": {
            "text/plain": "array([[[ 0,  2,  4,  6],\n        [ 8, 10, 12, 14],\n        [16, 18, 20, 22]],\n\n       [[24, 26, 28, 30],\n        [32, 34, 36, 38],\n        [40, 42, 44, 46]]])"
          },
          "metadata": {},
          "output_type": "execute_result",
          "execution_count": 34
        }
      ],
      "source": "t5*2",
      "metadata": {
        "pycharm": {
          "metadata": false,
          "name": "#%%\n",
          "is_executing": false
        }
      }
    },
    {
      "cell_type": "code",
      "execution_count": 35,
      "outputs": [
        {
          "data": {
            "text/plain": "array([[[ 0. ,  0.5,  1. ,  1.5],\n        [ 2. ,  2.5,  3. ,  3.5],\n        [ 4. ,  4.5,  5. ,  5.5]],\n\n       [[ 6. ,  6.5,  7. ,  7.5],\n        [ 8. ,  8.5,  9. ,  9.5],\n        [10. , 10.5, 11. , 11.5]]])"
          },
          "metadata": {},
          "output_type": "execute_result",
          "execution_count": 35
        }
      ],
      "source": "t5/2",
      "metadata": {
        "pycharm": {
          "metadata": false,
          "name": "#%%\n",
          "is_executing": false
        }
      }
    },
    {
      "cell_type": "code",
      "execution_count": 36,
      "outputs": [
        {
          "name": "stderr",
          "text": [
            "/usr/local/lib/python3.6/dist-packages/ipykernel_launcher.py:1: RuntimeWarning: divide by zero encountered in true_divide\n  \"\"\"Entry point for launching an IPython kernel.\n/usr/local/lib/python3.6/dist-packages/ipykernel_launcher.py:1: RuntimeWarning: invalid value encountered in true_divide\n  \"\"\"Entry point for launching an IPython kernel.\n"
          ],
          "output_type": "stream"
        },
        {
          "data": {
            "text/plain": "array([[[nan, inf, inf, inf],\n        [inf, inf, inf, inf],\n        [inf, inf, inf, inf]],\n\n       [[inf, inf, inf, inf],\n        [inf, inf, inf, inf],\n        [inf, inf, inf, inf]]])"
          },
          "metadata": {},
          "output_type": "execute_result",
          "execution_count": 36
        }
      ],
      "source": "t5/0",
      "metadata": {
        "pycharm": {
          "metadata": false,
          "name": "#%%\n",
          "is_executing": false
        }
      }
    },
    {
      "cell_type": "code",
      "execution_count": 37,
      "outputs": [
        {
          "data": {
            "text/plain": "array([[[100, 101, 102, 103],\n        [104, 105, 106, 107],\n        [108, 109, 110, 111]],\n\n       [[112, 113, 114, 115],\n        [116, 117, 118, 119],\n        [120, 121, 122, 123]]])"
          },
          "metadata": {},
          "output_type": "execute_result",
          "execution_count": 37
        }
      ],
      "source": "t6 \u003d np.arange(100,124).reshape((2,3,4))\nt6",
      "metadata": {
        "pycharm": {
          "metadata": false,
          "name": "#%%\n",
          "is_executing": false
        }
      }
    },
    {
      "cell_type": "code",
      "execution_count": 38,
      "outputs": [
        {
          "data": {
            "text/plain": "array([[[100, 102, 104, 106],\n        [108, 110, 112, 114],\n        [116, 118, 120, 122]],\n\n       [[124, 126, 128, 130],\n        [132, 134, 136, 138],\n        [140, 142, 144, 146]]])"
          },
          "metadata": {},
          "output_type": "execute_result",
          "execution_count": 38
        }
      ],
      "source": "t5+t6",
      "metadata": {
        "pycharm": {
          "metadata": false,
          "name": "#%%\n",
          "is_executing": false
        }
      }
    },
    {
      "cell_type": "code",
      "execution_count": 39,
      "outputs": [
        {
          "data": {
            "text/plain": "array([[[   0,  101,  204,  309],\n        [ 416,  525,  636,  749],\n        [ 864,  981, 1100, 1221]],\n\n       [[1344, 1469, 1596, 1725],\n        [1856, 1989, 2124, 2261],\n        [2400, 2541, 2684, 2829]]])"
          },
          "metadata": {},
          "output_type": "execute_result",
          "execution_count": 39
        }
      ],
      "source": "t5*t6",
      "metadata": {
        "pycharm": {
          "metadata": false,
          "name": "#%%\n",
          "is_executing": false
        }
      }
    },
    {
      "cell_type": "code",
      "execution_count": 40,
      "outputs": [
        {
          "name": "stderr",
          "text": [
            "/usr/local/lib/python3.6/dist-packages/ipykernel_launcher.py:1: RuntimeWarning: divide by zero encountered in true_divide\n  \"\"\"Entry point for launching an IPython kernel.\n"
          ],
          "output_type": "stream"
        },
        {
          "data": {
            "text/plain": "array([[[         inf, 101.        ,  51.        ,  34.33333333],\n        [ 26.        ,  21.        ,  17.66666667,  15.28571429],\n        [ 13.5       ,  12.11111111,  11.        ,  10.09090909]],\n\n       [[  9.33333333,   8.69230769,   8.14285714,   7.66666667],\n        [  7.25      ,   6.88235294,   6.55555556,   6.26315789],\n        [  6.        ,   5.76190476,   5.54545455,   5.34782609]]])"
          },
          "metadata": {},
          "output_type": "execute_result",
          "execution_count": 40
        }
      ],
      "source": "t6/t5",
      "metadata": {
        "pycharm": {
          "metadata": false,
          "name": "#%%\n",
          "is_executing": false
        }
      }
    },
    {
      "cell_type": "code",
      "execution_count": 43,
      "outputs": [],
      "source": "t7 \u003d np.arange(0,4)",
      "metadata": {
        "pycharm": {
          "metadata": false,
          "name": "#%%\n",
          "is_executing": false
        }
      }
    },
    {
      "cell_type": "code",
      "execution_count": 44,
      "outputs": [
        {
          "data": {
            "text/plain": "array([[[100, 100, 100, 100],\n        [104, 104, 104, 104],\n        [108, 108, 108, 108]],\n\n       [[112, 112, 112, 112],\n        [116, 116, 116, 116],\n        [120, 120, 120, 120]]])"
          },
          "metadata": {},
          "output_type": "execute_result",
          "execution_count": 44
        }
      ],
      "source": "t6-t7",
      "metadata": {
        "pycharm": {
          "metadata": false,
          "name": "#%%\n",
          "is_executing": false
        }
      }
    },
    {
      "cell_type": "code",
      "execution_count": 48,
      "outputs": [
        {
          "data": {
            "text/plain": "array([[[0],\n        [1],\n        [2]],\n\n       [[3],\n        [4],\n        [5]]])"
          },
          "metadata": {},
          "output_type": "execute_result",
          "execution_count": 48
        }
      ],
      "source": "t8 \u003d np.arange(6).reshape(2,3,1)\nt8",
      "metadata": {
        "pycharm": {
          "metadata": false,
          "name": "#%%\n",
          "is_executing": false
        }
      }
    },
    {
      "cell_type": "code",
      "execution_count": 49,
      "outputs": [
        {
          "data": {
            "text/plain": "array([[[100, 101, 102, 103],\n        [103, 104, 105, 106],\n        [106, 107, 108, 109]],\n\n       [[109, 110, 111, 112],\n        [112, 113, 114, 115],\n        [115, 116, 117, 118]]])"
          },
          "metadata": {},
          "output_type": "execute_result",
          "execution_count": 49
        }
      ],
      "source": "t6-t8",
      "metadata": {
        "pycharm": {
          "metadata": false,
          "name": "#%%\n",
          "is_executing": false
        }
      }
    },
    {
      "cell_type": "code",
      "execution_count": 50,
      "outputs": [
        {
          "data": {
            "text/plain": "array([0, 1, 2, 3, 4, 5, 6, 7, 8, 9])"
          },
          "metadata": {},
          "output_type": "execute_result",
          "execution_count": 50
        }
      ],
      "source": "t9 \u003d np.arange(10)\nt9",
      "metadata": {
        "pycharm": {
          "metadata": false,
          "name": "#%%\n",
          "is_executing": false
        }
      }
    },
    {
      "cell_type": "code",
      "execution_count": 51,
      "outputs": [
        {
          "traceback": [
            "\u001b[0;31m---------------------------------------------------------------------------\u001b[0m",
            "\u001b[0;31mValueError\u001b[0m                                Traceback (most recent call last)",
            "\u001b[0;32m\u003cipython-input-51-b6fd2e0091e2\u003e\u001b[0m in \u001b[0;36m\u003cmodule\u003e\u001b[0;34m\u001b[0m\n\u001b[0;32m----\u003e 1\u001b[0;31m \u001b[0mt6\u001b[0m\u001b[0;34m-\u001b[0m\u001b[0mt9\u001b[0m\u001b[0;34m\u001b[0m\u001b[0;34m\u001b[0m\u001b[0m\n\u001b[0m",
            "\u001b[0;31mValueError\u001b[0m: operands could not be broadcast together with shapes (2,3,4) (10,) "
          ],
          "ename": "ValueError",
          "evalue": "operands could not be broadcast together with shapes (2,3,4) (10,) ",
          "output_type": "error"
        }
      ],
      "source": "t6-t9",
      "metadata": {
        "pycharm": {
          "metadata": false,
          "name": "#%%\n",
          "is_executing": false
        }
      }
    },
    {
      "cell_type": "code",
      "execution_count": null,
      "outputs": [],
      "source": "us_file_path \u003d \"./youtube_video_data/US_video_data_numbers.csv\"\nuk_file_path \u003d \"./youtube_video_data/GB_video_data_numbers.csv\"\nt1 \u003d np.loadtxt(us_file_path,delimiter\u003d\",\",dtype\u003d\"int\",unpack\u003dTrue)",
      "metadata": {
        "pycharm": {
          "metadata": false,
          "name": "#%%\n"
        }
      }
    },
    {
      "cell_type": "markdown",
      "source": "\u003e - delimiter：分割方式\n\u003e - dtype：指定类型\n\u003e - unpack：旋转矩阵（转秩）",
      "metadata": {
        "pycharm": {
          "metadata": false,
          "name": "#%% md\n"
        }
      }
    },
    {
      "cell_type": "code",
      "execution_count": null,
      "outputs": [],
      "source": "t \u003d np.arange(24).reshape((4,6))\nprint(t \u003c 10)\nt[t\u003c10] \u003d 0\nt",
      "metadata": {
        "pycharm": {
          "metadata": false,
          "name": "#%%\n"
        }
      }
    },
    {
      "cell_type": "code",
      "execution_count": null,
      "outputs": [],
      "source": "np.where(t\u003c10,0,10)",
      "metadata": {
        "pycharm": {
          "metadata": false,
          "name": "#%%\n"
        }
      }
    },
    {
      "cell_type": "markdown",
      "source": "- 小于10 的替换成0\n- 大于等于10 替换成10",
      "metadata": {
        "pycharm": {
          "metadata": false,
          "name": "#%% md\n"
        }
      }
    },
    {
      "cell_type": "code",
      "execution_count": null,
      "outputs": [],
      "source": "t.clip(10,18)",
      "metadata": {
        "pycharm": {
          "metadata": false,
          "name": "#%%\n"
        }
      }
    },
    {
      "cell_type": "markdown",
      "source": "- 小于10 替换成10\n- 大于18 替换成18",
      "metadata": {
        "pycharm": {
          "metadata": false,
          "name": "#%% md\n"
        }
      }
    },
    {
      "cell_type": "code",
      "execution_count": null,
      "outputs": [],
      "source": "np.vstack((t,t1))\nnp.vsplit((t,t1))",
      "metadata": {
        "pycharm": {
          "metadata": false,
          "name": "#%%\n"
        }
      }
    },
    {
      "cell_type": "markdown",
      "source": "- vstack 竖直拼接\n- vsplit 水平拼接\n## t t1 行或列同纬度",
      "metadata": {
        "pycharm": {
          "metadata": false,
          "name": "#%% md\n"
        }
      }
    },
    {
      "cell_type": "code",
      "execution_count": null,
      "outputs": [],
      "source": "us_data \u003d \"./youtube_video_data/US_video_data_numbers.csv\"\nuk_data \u003d \"./youtube_video_data/GB_video_data_numbers.csv\"\n\n# 加载国家数据\nus_data \u003d np.loadtxt(us_data, delimiter\u003d\",\", dtype\u003dint)\nuk_data \u003d np.loadtxt(uk_data, delimiter\u003d\",\", dtype\u003dint)\n\n# 添加国家信息\n# 构造全为0的数据\nzeros_data \u003d np.zeros((us_data.shape[0], 1)).astype(int)\nones_data \u003d np.ones((uk_data.shape[0], 1)).astype(int)\n\n# 分别添加一列全为0,1的数组\nus_data \u003d np.hstack((us_data, zeros_data))\nuk_data \u003d np.hstack((uk_data, ones_data))\n\n# 拼接两组数据\nfinal_data \u003d np.vstack((us_data, uk_data))",
      "metadata": {
        "pycharm": {
          "metadata": false,
          "name": "#%%\n"
        }
      }
    },
    {
      "cell_type": "markdown",
      "source": "- np.zeros 构建一列0数据\n- np.ones 构建一列1数据\n- np.hstack 添加一列数据",
      "metadata": {
        "pycharm": {
          "metadata": false,
          "name": "#%% md\n"
        }
      }
    },
    {
      "cell_type": "code",
      "execution_count": null,
      "outputs": [],
      "source": "np.eye(10)",
      "metadata": {
        "pycharm": {
          "metadata": false,
          "name": "#%%\n"
        }
      }
    },
    {
      "cell_type": "markdown",
      "source": "- 方阵",
      "metadata": {
        "pycharm": {
          "metadata": false,
          "name": "#%% md\n"
        }
      }
    },
    {
      "cell_type": "code",
      "execution_count": null,
      "outputs": [],
      "source": "np.argmax(t,axis\u003d0) # 列\nnp.argmin(t,axis\u003d1) # 行",
      "metadata": {
        "pycharm": {
          "metadata": false,
          "name": "#%%\n"
        }
      }
    },
    {
      "cell_type": "markdown",
      "source": "- 最大值位置\n- 最小值位置",
      "metadata": {
        "pycharm": {
          "metadata": false,
          "name": "#%% md\n"
        }
      }
    },
    {
      "cell_type": "code",
      "execution_count": null,
      "outputs": [],
      "source": "t\u003dt1\nt\u003dt1[:]\nt\u003dt1.copy()",
      "metadata": {
        "pycharm": {
          "metadata": false,
          "name": "#%%\n"
        }
      }
    },
    {
      "cell_type": "code",
      "execution_count": null,
      "outputs": [],
      "source": "np.count_nonzero(t2)\nnp.isnan(t2)",
      "metadata": {
        "pycharm": {
          "metadata": false,
          "name": "#%%\n"
        }
      }
    },
    {
      "cell_type": "markdown",
      "source": "- 不为零的个数\n- 是nan",
      "metadata": {
        "pycharm": {
          "metadata": false,
          "name": "#%% md\n"
        }
      }
    }
  ],
  "metadata": {
    "language_info": {
      "codemirror_mode": {
        "name": "ipython",
        "version": 2
      },
      "file_extension": ".py",
      "mimetype": "text/x-python",
      "name": "python",
      "nbconvert_exporter": "python",
      "pygments_lexer": "ipython2",
      "version": "2.7.6"
    },
    "kernelspec": {
      "name": "pycharm-d20dfcbc",
      "language": "python",
      "display_name": "PyCharm (爬虫库)"
    }
  },
  "nbformat": 4,
  "nbformat_minor": 0
}