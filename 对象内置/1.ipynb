{
 "cells": [
  {
   "cell_type": "markdown",
   "source": [
    "## 加 减"
   ],
   "metadata": {
    "collapsed": false,
    "pycharm": {
     "name": "#%% md\n"
    }
   }
  },
  {
   "cell_type": "code",
   "execution_count": null,
   "metadata": {
    "collapsed": true
   },
   "outputs": [],
   "source": [
    "class Add:\n",
    "    def __init__(self, i):\n",
    "        self.i = i\n",
    "\n",
    "    def __add__(self, other):\n",
    "        if other.__class__ == self.__class__:\n",
    "            self.i += other.i\n",
    "        else:\n",
    "            return NotImplemented\n",
    "        return self\n",
    "\n",
    "    def __sub__(self, other):\n",
    "        if other.__class__ == self.__class__:\n",
    "            self.i -= other.i\n",
    "        else:\n",
    "            return NotImplemented\n",
    "        return self\n",
    "\n",
    "\n",
    "a1 = Add(1)\n",
    "a2 = Add(2)\n",
    "a1 += a2\n",
    "print(a1.i)\n",
    "a1 -= a2\n",
    "print(a1.i)\n"
   ]
  },
  {
   "cell_type": "markdown",
   "source": [
    "## \\_\\_get__"
   ],
   "metadata": {
    "collapsed": false,
    "pycharm": {
     "name": "#%% md\n"
    }
   }
  },
  {
   "cell_type": "code",
   "execution_count": null,
   "outputs": [],
   "source": [
    "class Dept(object):\n",
    "\n",
    "      def __init__(self, name):\n",
    "          self.name = name\n",
    "\n",
    "      # target是拥有此属性的对象\n",
    "      def __get__(self, target, type=None):\n",
    "        # 默认返回self与obj都可以\n",
    "        return 'Dept'\n",
    "\n",
    "class Company(object):\n",
    "    #   一定要作为类属性，作为实例属性无效\n",
    "    dept = Dept('organ')\n",
    "\n",
    "# 现在的测试结果\n",
    "x = Company()\n",
    "#   返回True\n",
    "print(type(x.dept) == str)"
   ],
   "metadata": {
    "collapsed": false,
    "pycharm": {
     "name": "#%%\n"
    }
   }
  },
  {
   "cell_type": "markdown",
   "source": [
    "## \\_\\_getattribute__"
   ],
   "metadata": {
    "collapsed": false,
    "pycharm": {
     "name": "#%% md\n"
    }
   }
  },
  {
   "cell_type": "code",
   "execution_count": null,
   "outputs": [],
   "source": [
    "class Employee(object):\n",
    "\n",
    "    def __init__(self, username, age):\n",
    "        self.username = username\n",
    "        self.age = age\n",
    "\n",
    "    def __getattribute__(self, attr):\n",
    "        return super(Employee, self).__getattribute__(attr)\n",
    "\n",
    "    def __getitem__(self, attr):\n",
    "        return super(Employee, self).__getattribute__(attr)\n",
    "\n",
    "em = Employee('yiifaa', 32)\n",
    "print(em.username)\n",
    "#   现在支持“[]”运算符\n",
    "print(em['username'])"
   ],
   "metadata": {
    "collapsed": false,
    "pycharm": {
     "name": "#%%\n"
    }
   }
  },
  {
   "cell_type": "code",
   "execution_count": null,
   "outputs": [],
   "source": [
    "\n"
   ],
   "metadata": {
    "collapsed": false,
    "pycharm": {
     "name": "#%%\n"
    }
   }
  }
 ],
 "metadata": {
  "kernelspec": {
   "display_name": "Python 3",
   "language": "python",
   "name": "python3"
  },
  "language_info": {
   "codemirror_mode": {
    "name": "ipython",
    "version": 2
   },
   "file_extension": ".py",
   "mimetype": "text/x-python",
   "name": "python",
   "nbconvert_exporter": "python",
   "pygments_lexer": "ipython2",
   "version": "2.7.6"
  }
 },
 "nbformat": 4,
 "nbformat_minor": 0
}